{
 "cells": [
  {
   "cell_type": "code",
   "execution_count": 1,
   "metadata": {},
   "outputs": [],
   "source": [
    "import numpy as np\n",
    "import pandas as pd\n",
    "import matplotlib.pyplot as plt\n",
    "import seaborn as sns\n",
    "from pycaret.classification import *\n",
    "from sklearn.model_selection import train_test_split\n",
    "from sklearn.metrics import classification_report, confusion_matrix\n",
    "from sklearn.preprocessing import MinMaxScaler\n",
    "from sklearn.metrics import confusion_matrix"
   ]
  },
  {
   "cell_type": "code",
   "execution_count": null,
   "metadata": {},
   "outputs": [],
   "source": [
    "data = pd.read_csv(r\"/kaggle/input/gender-classification-dataset/gender_classification_v7.csv\")"
   ]
  },
  {
   "cell_type": "code",
   "execution_count": 3,
   "metadata": {},
   "outputs": [
    {
     "name": "stdout",
     "output_type": "stream",
     "text": [
      "<class 'pandas.core.frame.DataFrame'>\n",
      "RangeIndex: 5001 entries, 0 to 5000\n",
      "Data columns (total 8 columns):\n",
      " #   Column                     Non-Null Count  Dtype  \n",
      "---  ------                     --------------  -----  \n",
      " 0   long_hair                  5001 non-null   int64  \n",
      " 1   forehead_width_cm          5001 non-null   float64\n",
      " 2   forehead_height_cm         5001 non-null   float64\n",
      " 3   nose_wide                  5001 non-null   int64  \n",
      " 4   nose_long                  5001 non-null   int64  \n",
      " 5   lips_thin                  5001 non-null   int64  \n",
      " 6   distance_nose_to_lip_long  5001 non-null   int64  \n",
      " 7   gender                     5001 non-null   object \n",
      "dtypes: float64(2), int64(5), object(1)\n",
      "memory usage: 312.7+ KB\n"
     ]
    }
   ],
   "source": [
    "data.info()"
   ]
  },
  {
   "cell_type": "code",
   "execution_count": 4,
   "metadata": {},
   "outputs": [
    {
     "data": {
      "text/plain": [
       "0         Male\n",
       "1       Female\n",
       "2         Male\n",
       "3         Male\n",
       "4       Female\n",
       "         ...  \n",
       "4996    Female\n",
       "4997    Female\n",
       "4998    Female\n",
       "4999    Female\n",
       "5000      Male\n",
       "Name: gender, Length: 5001, dtype: object"
      ]
     },
     "execution_count": 4,
     "metadata": {},
     "output_type": "execute_result"
    }
   ],
   "source": [
    "data['gender']"
   ]
  },
  {
   "cell_type": "code",
   "execution_count": 5,
   "metadata": {},
   "outputs": [],
   "source": [
    "data['gender'] = data['gender'].map({'Male' : 1 , 'Female' : 0})"
   ]
  },
  {
   "cell_type": "code",
   "execution_count": 6,
   "metadata": {},
   "outputs": [
    {
     "data": {
      "text/plain": [
       "0       1\n",
       "1       0\n",
       "2       1\n",
       "3       1\n",
       "4       0\n",
       "       ..\n",
       "4996    0\n",
       "4997    0\n",
       "4998    0\n",
       "4999    0\n",
       "5000    1\n",
       "Name: gender, Length: 5001, dtype: int64"
      ]
     },
     "execution_count": 6,
     "metadata": {},
     "output_type": "execute_result"
    }
   ],
   "source": [
    "data['gender']"
   ]
  },
  {
   "cell_type": "code",
   "execution_count": 7,
   "metadata": {},
   "outputs": [],
   "source": [
    "X = data.drop('gender' , axis = 1)\n",
    "y = data['gender']"
   ]
  },
  {
   "cell_type": "code",
   "execution_count": 8,
   "metadata": {},
   "outputs": [],
   "source": [
    "#scaler = MinMaxScaler()\n",
    "#X_scaled = scaler.fit_transform(X)\n",
    "#X_scaled = pd.DataFrame(X_scaled, columns=X.columns)"
   ]
  },
  {
   "cell_type": "code",
   "execution_count": 9,
   "metadata": {},
   "outputs": [],
   "source": [
    "X_train, X_test, y_train, y_test = train_test_split(X , y , test_size = .20 , random_state = 42)"
   ]
  },
  {
   "cell_type": "code",
   "execution_count": 10,
   "metadata": {},
   "outputs": [
    {
     "data": {
      "text/plain": [
       "((4000, 7), (1001, 7), (4000,), (1001,))"
      ]
     },
     "execution_count": 10,
     "metadata": {},
     "output_type": "execute_result"
    }
   ],
   "source": [
    "X_train.shape , X_test.shape , y_train.shape , y_test.shape"
   ]
  },
  {
   "cell_type": "code",
   "execution_count": 11,
   "metadata": {},
   "outputs": [
    {
     "data": {
      "text/html": [
       "<style type=\"text/css\">\n",
       "#T_6d90d_row8_col1, #T_6d90d_row12_col1, #T_6d90d_row14_col1, #T_6d90d_row16_col1, #T_6d90d_row18_col1 {\n",
       "  background-color: lightgreen;\n",
       "}\n",
       "</style>\n",
       "<table id=\"T_6d90d\">\n",
       "  <thead>\n",
       "    <tr>\n",
       "      <th class=\"blank level0\" >&nbsp;</th>\n",
       "      <th id=\"T_6d90d_level0_col0\" class=\"col_heading level0 col0\" >Description</th>\n",
       "      <th id=\"T_6d90d_level0_col1\" class=\"col_heading level0 col1\" >Value</th>\n",
       "    </tr>\n",
       "  </thead>\n",
       "  <tbody>\n",
       "    <tr>\n",
       "      <th id=\"T_6d90d_level0_row0\" class=\"row_heading level0 row0\" >0</th>\n",
       "      <td id=\"T_6d90d_row0_col0\" class=\"data row0 col0\" >Session id</td>\n",
       "      <td id=\"T_6d90d_row0_col1\" class=\"data row0 col1\" >2488</td>\n",
       "    </tr>\n",
       "    <tr>\n",
       "      <th id=\"T_6d90d_level0_row1\" class=\"row_heading level0 row1\" >1</th>\n",
       "      <td id=\"T_6d90d_row1_col0\" class=\"data row1 col0\" >Target</td>\n",
       "      <td id=\"T_6d90d_row1_col1\" class=\"data row1 col1\" >gender</td>\n",
       "    </tr>\n",
       "    <tr>\n",
       "      <th id=\"T_6d90d_level0_row2\" class=\"row_heading level0 row2\" >2</th>\n",
       "      <td id=\"T_6d90d_row2_col0\" class=\"data row2 col0\" >Target type</td>\n",
       "      <td id=\"T_6d90d_row2_col1\" class=\"data row2 col1\" >Binary</td>\n",
       "    </tr>\n",
       "    <tr>\n",
       "      <th id=\"T_6d90d_level0_row3\" class=\"row_heading level0 row3\" >3</th>\n",
       "      <td id=\"T_6d90d_row3_col0\" class=\"data row3 col0\" >Original data shape</td>\n",
       "      <td id=\"T_6d90d_row3_col1\" class=\"data row3 col1\" >(4000, 8)</td>\n",
       "    </tr>\n",
       "    <tr>\n",
       "      <th id=\"T_6d90d_level0_row4\" class=\"row_heading level0 row4\" >4</th>\n",
       "      <td id=\"T_6d90d_row4_col0\" class=\"data row4 col0\" >Transformed data shape</td>\n",
       "      <td id=\"T_6d90d_row4_col1\" class=\"data row4 col1\" >(3898, 8)</td>\n",
       "    </tr>\n",
       "    <tr>\n",
       "      <th id=\"T_6d90d_level0_row5\" class=\"row_heading level0 row5\" >5</th>\n",
       "      <td id=\"T_6d90d_row5_col0\" class=\"data row5 col0\" >Transformed train set shape</td>\n",
       "      <td id=\"T_6d90d_row5_col1\" class=\"data row5 col1\" >(2698, 8)</td>\n",
       "    </tr>\n",
       "    <tr>\n",
       "      <th id=\"T_6d90d_level0_row6\" class=\"row_heading level0 row6\" >6</th>\n",
       "      <td id=\"T_6d90d_row6_col0\" class=\"data row6 col0\" >Transformed test set shape</td>\n",
       "      <td id=\"T_6d90d_row6_col1\" class=\"data row6 col1\" >(1200, 8)</td>\n",
       "    </tr>\n",
       "    <tr>\n",
       "      <th id=\"T_6d90d_level0_row7\" class=\"row_heading level0 row7\" >7</th>\n",
       "      <td id=\"T_6d90d_row7_col0\" class=\"data row7 col0\" >Numeric features</td>\n",
       "      <td id=\"T_6d90d_row7_col1\" class=\"data row7 col1\" >7</td>\n",
       "    </tr>\n",
       "    <tr>\n",
       "      <th id=\"T_6d90d_level0_row8\" class=\"row_heading level0 row8\" >8</th>\n",
       "      <td id=\"T_6d90d_row8_col0\" class=\"data row8 col0\" >Preprocess</td>\n",
       "      <td id=\"T_6d90d_row8_col1\" class=\"data row8 col1\" >True</td>\n",
       "    </tr>\n",
       "    <tr>\n",
       "      <th id=\"T_6d90d_level0_row9\" class=\"row_heading level0 row9\" >9</th>\n",
       "      <td id=\"T_6d90d_row9_col0\" class=\"data row9 col0\" >Imputation type</td>\n",
       "      <td id=\"T_6d90d_row9_col1\" class=\"data row9 col1\" >simple</td>\n",
       "    </tr>\n",
       "    <tr>\n",
       "      <th id=\"T_6d90d_level0_row10\" class=\"row_heading level0 row10\" >10</th>\n",
       "      <td id=\"T_6d90d_row10_col0\" class=\"data row10 col0\" >Numeric imputation</td>\n",
       "      <td id=\"T_6d90d_row10_col1\" class=\"data row10 col1\" >mean</td>\n",
       "    </tr>\n",
       "    <tr>\n",
       "      <th id=\"T_6d90d_level0_row11\" class=\"row_heading level0 row11\" >11</th>\n",
       "      <td id=\"T_6d90d_row11_col0\" class=\"data row11 col0\" >Categorical imputation</td>\n",
       "      <td id=\"T_6d90d_row11_col1\" class=\"data row11 col1\" >mode</td>\n",
       "    </tr>\n",
       "    <tr>\n",
       "      <th id=\"T_6d90d_level0_row12\" class=\"row_heading level0 row12\" >12</th>\n",
       "      <td id=\"T_6d90d_row12_col0\" class=\"data row12 col0\" >Remove outliers</td>\n",
       "      <td id=\"T_6d90d_row12_col1\" class=\"data row12 col1\" >True</td>\n",
       "    </tr>\n",
       "    <tr>\n",
       "      <th id=\"T_6d90d_level0_row13\" class=\"row_heading level0 row13\" >13</th>\n",
       "      <td id=\"T_6d90d_row13_col0\" class=\"data row13 col0\" >Outliers threshold</td>\n",
       "      <td id=\"T_6d90d_row13_col1\" class=\"data row13 col1\" >0.050000</td>\n",
       "    </tr>\n",
       "    <tr>\n",
       "      <th id=\"T_6d90d_level0_row14\" class=\"row_heading level0 row14\" >14</th>\n",
       "      <td id=\"T_6d90d_row14_col0\" class=\"data row14 col0\" >Fix imbalance</td>\n",
       "      <td id=\"T_6d90d_row14_col1\" class=\"data row14 col1\" >True</td>\n",
       "    </tr>\n",
       "    <tr>\n",
       "      <th id=\"T_6d90d_level0_row15\" class=\"row_heading level0 row15\" >15</th>\n",
       "      <td id=\"T_6d90d_row15_col0\" class=\"data row15 col0\" >Fix imbalance method</td>\n",
       "      <td id=\"T_6d90d_row15_col1\" class=\"data row15 col1\" >SMOTE</td>\n",
       "    </tr>\n",
       "    <tr>\n",
       "      <th id=\"T_6d90d_level0_row16\" class=\"row_heading level0 row16\" >16</th>\n",
       "      <td id=\"T_6d90d_row16_col0\" class=\"data row16 col0\" >Transformation</td>\n",
       "      <td id=\"T_6d90d_row16_col1\" class=\"data row16 col1\" >True</td>\n",
       "    </tr>\n",
       "    <tr>\n",
       "      <th id=\"T_6d90d_level0_row17\" class=\"row_heading level0 row17\" >17</th>\n",
       "      <td id=\"T_6d90d_row17_col0\" class=\"data row17 col0\" >Transformation method</td>\n",
       "      <td id=\"T_6d90d_row17_col1\" class=\"data row17 col1\" >yeo-johnson</td>\n",
       "    </tr>\n",
       "    <tr>\n",
       "      <th id=\"T_6d90d_level0_row18\" class=\"row_heading level0 row18\" >18</th>\n",
       "      <td id=\"T_6d90d_row18_col0\" class=\"data row18 col0\" >Normalize</td>\n",
       "      <td id=\"T_6d90d_row18_col1\" class=\"data row18 col1\" >True</td>\n",
       "    </tr>\n",
       "    <tr>\n",
       "      <th id=\"T_6d90d_level0_row19\" class=\"row_heading level0 row19\" >19</th>\n",
       "      <td id=\"T_6d90d_row19_col0\" class=\"data row19 col0\" >Normalize method</td>\n",
       "      <td id=\"T_6d90d_row19_col1\" class=\"data row19 col1\" >zscore</td>\n",
       "    </tr>\n",
       "    <tr>\n",
       "      <th id=\"T_6d90d_level0_row20\" class=\"row_heading level0 row20\" >20</th>\n",
       "      <td id=\"T_6d90d_row20_col0\" class=\"data row20 col0\" >Fold Generator</td>\n",
       "      <td id=\"T_6d90d_row20_col1\" class=\"data row20 col1\" >StratifiedKFold</td>\n",
       "    </tr>\n",
       "    <tr>\n",
       "      <th id=\"T_6d90d_level0_row21\" class=\"row_heading level0 row21\" >21</th>\n",
       "      <td id=\"T_6d90d_row21_col0\" class=\"data row21 col0\" >Fold Number</td>\n",
       "      <td id=\"T_6d90d_row21_col1\" class=\"data row21 col1\" >10</td>\n",
       "    </tr>\n",
       "    <tr>\n",
       "      <th id=\"T_6d90d_level0_row22\" class=\"row_heading level0 row22\" >22</th>\n",
       "      <td id=\"T_6d90d_row22_col0\" class=\"data row22 col0\" >CPU Jobs</td>\n",
       "      <td id=\"T_6d90d_row22_col1\" class=\"data row22 col1\" >-1</td>\n",
       "    </tr>\n",
       "    <tr>\n",
       "      <th id=\"T_6d90d_level0_row23\" class=\"row_heading level0 row23\" >23</th>\n",
       "      <td id=\"T_6d90d_row23_col0\" class=\"data row23 col0\" >Use GPU</td>\n",
       "      <td id=\"T_6d90d_row23_col1\" class=\"data row23 col1\" >False</td>\n",
       "    </tr>\n",
       "    <tr>\n",
       "      <th id=\"T_6d90d_level0_row24\" class=\"row_heading level0 row24\" >24</th>\n",
       "      <td id=\"T_6d90d_row24_col0\" class=\"data row24 col0\" >Log Experiment</td>\n",
       "      <td id=\"T_6d90d_row24_col1\" class=\"data row24 col1\" >False</td>\n",
       "    </tr>\n",
       "    <tr>\n",
       "      <th id=\"T_6d90d_level0_row25\" class=\"row_heading level0 row25\" >25</th>\n",
       "      <td id=\"T_6d90d_row25_col0\" class=\"data row25 col0\" >Experiment Name</td>\n",
       "      <td id=\"T_6d90d_row25_col1\" class=\"data row25 col1\" >clf-default-name</td>\n",
       "    </tr>\n",
       "    <tr>\n",
       "      <th id=\"T_6d90d_level0_row26\" class=\"row_heading level0 row26\" >26</th>\n",
       "      <td id=\"T_6d90d_row26_col0\" class=\"data row26 col0\" >USI</td>\n",
       "      <td id=\"T_6d90d_row26_col1\" class=\"data row26 col1\" >578a</td>\n",
       "    </tr>\n",
       "  </tbody>\n",
       "</table>\n"
      ],
      "text/plain": [
       "<pandas.io.formats.style.Styler at 0x21b1434fbd0>"
      ]
     },
     "metadata": {},
     "output_type": "display_data"
    },
    {
     "data": {
      "text/html": [],
      "text/plain": [
       "<IPython.core.display.HTML object>"
      ]
     },
     "metadata": {},
     "output_type": "display_data"
    },
    {
     "data": {
      "text/html": [
       "<style type=\"text/css\">\n",
       "#T_cecaf th {\n",
       "  text-align: left;\n",
       "}\n",
       "#T_cecaf_row0_col0, #T_cecaf_row0_col4, #T_cecaf_row0_col7, #T_cecaf_row1_col0, #T_cecaf_row1_col2, #T_cecaf_row1_col3, #T_cecaf_row1_col5, #T_cecaf_row2_col0, #T_cecaf_row2_col1, #T_cecaf_row2_col2, #T_cecaf_row2_col4, #T_cecaf_row2_col5, #T_cecaf_row2_col6, #T_cecaf_row2_col7, #T_cecaf_row3_col0, #T_cecaf_row3_col1, #T_cecaf_row3_col2, #T_cecaf_row3_col3, #T_cecaf_row3_col4, #T_cecaf_row3_col5, #T_cecaf_row3_col6, #T_cecaf_row3_col7, #T_cecaf_row4_col0, #T_cecaf_row4_col1, #T_cecaf_row4_col2, #T_cecaf_row4_col3, #T_cecaf_row4_col4, #T_cecaf_row4_col5, #T_cecaf_row4_col6, #T_cecaf_row4_col7, #T_cecaf_row5_col0, #T_cecaf_row5_col1, #T_cecaf_row5_col2, #T_cecaf_row5_col3, #T_cecaf_row5_col4, #T_cecaf_row5_col5, #T_cecaf_row5_col6, #T_cecaf_row5_col7, #T_cecaf_row6_col0, #T_cecaf_row6_col1, #T_cecaf_row6_col2, #T_cecaf_row6_col3, #T_cecaf_row6_col4, #T_cecaf_row6_col5, #T_cecaf_row6_col6, #T_cecaf_row6_col7, #T_cecaf_row7_col0, #T_cecaf_row7_col1, #T_cecaf_row7_col2, #T_cecaf_row7_col3, #T_cecaf_row7_col4, #T_cecaf_row7_col5, #T_cecaf_row7_col6, #T_cecaf_row7_col7, #T_cecaf_row8_col0, #T_cecaf_row8_col1, #T_cecaf_row8_col2, #T_cecaf_row8_col3, #T_cecaf_row8_col4, #T_cecaf_row8_col5, #T_cecaf_row8_col6, #T_cecaf_row8_col7, #T_cecaf_row9_col0, #T_cecaf_row9_col1, #T_cecaf_row9_col2, #T_cecaf_row9_col3, #T_cecaf_row9_col4, #T_cecaf_row9_col5, #T_cecaf_row9_col6, #T_cecaf_row9_col7, #T_cecaf_row10_col0, #T_cecaf_row10_col1, #T_cecaf_row10_col2, #T_cecaf_row10_col3, #T_cecaf_row10_col4, #T_cecaf_row10_col5, #T_cecaf_row10_col6, #T_cecaf_row10_col7, #T_cecaf_row11_col0, #T_cecaf_row11_col1, #T_cecaf_row11_col2, #T_cecaf_row11_col3, #T_cecaf_row11_col4, #T_cecaf_row11_col5, #T_cecaf_row11_col6, #T_cecaf_row11_col7, #T_cecaf_row12_col0, #T_cecaf_row12_col1, #T_cecaf_row12_col2, #T_cecaf_row12_col3, #T_cecaf_row12_col4, #T_cecaf_row12_col5, #T_cecaf_row12_col6, #T_cecaf_row12_col7, #T_cecaf_row13_col0, #T_cecaf_row13_col1, #T_cecaf_row13_col2, #T_cecaf_row13_col3, #T_cecaf_row13_col4, #T_cecaf_row13_col5, #T_cecaf_row13_col6, #T_cecaf_row13_col7, #T_cecaf_row14_col0, #T_cecaf_row14_col1, #T_cecaf_row14_col2, #T_cecaf_row14_col3, #T_cecaf_row14_col4, #T_cecaf_row14_col5, #T_cecaf_row14_col6, #T_cecaf_row14_col7 {\n",
       "  text-align: left;\n",
       "}\n",
       "#T_cecaf_row0_col1, #T_cecaf_row0_col2, #T_cecaf_row0_col3, #T_cecaf_row0_col5, #T_cecaf_row0_col6, #T_cecaf_row1_col1, #T_cecaf_row1_col4, #T_cecaf_row1_col6, #T_cecaf_row1_col7, #T_cecaf_row2_col3 {\n",
       "  text-align: left;\n",
       "  background-color: yellow;\n",
       "}\n",
       "#T_cecaf_row0_col8, #T_cecaf_row1_col8, #T_cecaf_row2_col8, #T_cecaf_row3_col8, #T_cecaf_row4_col8, #T_cecaf_row5_col8, #T_cecaf_row6_col8, #T_cecaf_row7_col8, #T_cecaf_row8_col8, #T_cecaf_row9_col8, #T_cecaf_row10_col8, #T_cecaf_row11_col8, #T_cecaf_row12_col8, #T_cecaf_row13_col8 {\n",
       "  text-align: left;\n",
       "  background-color: lightgrey;\n",
       "}\n",
       "#T_cecaf_row14_col8 {\n",
       "  text-align: left;\n",
       "  background-color: yellow;\n",
       "  background-color: lightgrey;\n",
       "}\n",
       "</style>\n",
       "<table id=\"T_cecaf\">\n",
       "  <thead>\n",
       "    <tr>\n",
       "      <th class=\"blank level0\" >&nbsp;</th>\n",
       "      <th id=\"T_cecaf_level0_col0\" class=\"col_heading level0 col0\" >Model</th>\n",
       "      <th id=\"T_cecaf_level0_col1\" class=\"col_heading level0 col1\" >Accuracy</th>\n",
       "      <th id=\"T_cecaf_level0_col2\" class=\"col_heading level0 col2\" >AUC</th>\n",
       "      <th id=\"T_cecaf_level0_col3\" class=\"col_heading level0 col3\" >Recall</th>\n",
       "      <th id=\"T_cecaf_level0_col4\" class=\"col_heading level0 col4\" >Prec.</th>\n",
       "      <th id=\"T_cecaf_level0_col5\" class=\"col_heading level0 col5\" >F1</th>\n",
       "      <th id=\"T_cecaf_level0_col6\" class=\"col_heading level0 col6\" >Kappa</th>\n",
       "      <th id=\"T_cecaf_level0_col7\" class=\"col_heading level0 col7\" >MCC</th>\n",
       "      <th id=\"T_cecaf_level0_col8\" class=\"col_heading level0 col8\" >TT (Sec)</th>\n",
       "    </tr>\n",
       "  </thead>\n",
       "  <tbody>\n",
       "    <tr>\n",
       "      <th id=\"T_cecaf_level0_row0\" class=\"row_heading level0 row0\" >ada</th>\n",
       "      <td id=\"T_cecaf_row0_col0\" class=\"data row0 col0\" >Ada Boost Classifier</td>\n",
       "      <td id=\"T_cecaf_row0_col1\" class=\"data row0 col1\" >0.9732</td>\n",
       "      <td id=\"T_cecaf_row0_col2\" class=\"data row0 col2\" >0.9969</td>\n",
       "      <td id=\"T_cecaf_row0_col3\" class=\"data row0 col3\" >0.9679</td>\n",
       "      <td id=\"T_cecaf_row0_col4\" class=\"data row0 col4\" >0.9785</td>\n",
       "      <td id=\"T_cecaf_row0_col5\" class=\"data row0 col5\" >0.9731</td>\n",
       "      <td id=\"T_cecaf_row0_col6\" class=\"data row0 col6\" >0.9464</td>\n",
       "      <td id=\"T_cecaf_row0_col7\" class=\"data row0 col7\" >0.9467</td>\n",
       "      <td id=\"T_cecaf_row0_col8\" class=\"data row0 col8\" >0.0310</td>\n",
       "    </tr>\n",
       "    <tr>\n",
       "      <th id=\"T_cecaf_level0_row1\" class=\"row_heading level0 row1\" >gbc</th>\n",
       "      <td id=\"T_cecaf_row1_col0\" class=\"data row1 col0\" >Gradient Boosting Classifier</td>\n",
       "      <td id=\"T_cecaf_row1_col1\" class=\"data row1 col1\" >0.9732</td>\n",
       "      <td id=\"T_cecaf_row1_col2\" class=\"data row1 col2\" >0.9964</td>\n",
       "      <td id=\"T_cecaf_row1_col3\" class=\"data row1 col3\" >0.9636</td>\n",
       "      <td id=\"T_cecaf_row1_col4\" class=\"data row1 col4\" >0.9827</td>\n",
       "      <td id=\"T_cecaf_row1_col5\" class=\"data row1 col5\" >0.9729</td>\n",
       "      <td id=\"T_cecaf_row1_col6\" class=\"data row1 col6\" >0.9464</td>\n",
       "      <td id=\"T_cecaf_row1_col7\" class=\"data row1 col7\" >0.9468</td>\n",
       "      <td id=\"T_cecaf_row1_col8\" class=\"data row1 col8\" >0.0370</td>\n",
       "    </tr>\n",
       "    <tr>\n",
       "      <th id=\"T_cecaf_level0_row2\" class=\"row_heading level0 row2\" >lightgbm</th>\n",
       "      <td id=\"T_cecaf_row2_col0\" class=\"data row2 col0\" >Light Gradient Boosting Machine</td>\n",
       "      <td id=\"T_cecaf_row2_col1\" class=\"data row2 col1\" >0.9718</td>\n",
       "      <td id=\"T_cecaf_row2_col2\" class=\"data row2 col2\" >0.9965</td>\n",
       "      <td id=\"T_cecaf_row2_col3\" class=\"data row2 col3\" >0.9679</td>\n",
       "      <td id=\"T_cecaf_row2_col4\" class=\"data row2 col4\" >0.9759</td>\n",
       "      <td id=\"T_cecaf_row2_col5\" class=\"data row2 col5\" >0.9717</td>\n",
       "      <td id=\"T_cecaf_row2_col6\" class=\"data row2 col6\" >0.9436</td>\n",
       "      <td id=\"T_cecaf_row2_col7\" class=\"data row2 col7\" >0.9440</td>\n",
       "      <td id=\"T_cecaf_row2_col8\" class=\"data row2 col8\" >0.1340</td>\n",
       "    </tr>\n",
       "    <tr>\n",
       "      <th id=\"T_cecaf_level0_row3\" class=\"row_heading level0 row3\" >rf</th>\n",
       "      <td id=\"T_cecaf_row3_col0\" class=\"data row3 col0\" >Random Forest Classifier</td>\n",
       "      <td id=\"T_cecaf_row3_col1\" class=\"data row3 col1\" >0.9696</td>\n",
       "      <td id=\"T_cecaf_row3_col2\" class=\"data row3 col2\" >0.9949</td>\n",
       "      <td id=\"T_cecaf_row3_col3\" class=\"data row3 col3\" >0.9650</td>\n",
       "      <td id=\"T_cecaf_row3_col4\" class=\"data row3 col4\" >0.9742</td>\n",
       "      <td id=\"T_cecaf_row3_col5\" class=\"data row3 col5\" >0.9695</td>\n",
       "      <td id=\"T_cecaf_row3_col6\" class=\"data row3 col6\" >0.9393</td>\n",
       "      <td id=\"T_cecaf_row3_col7\" class=\"data row3 col7\" >0.9395</td>\n",
       "      <td id=\"T_cecaf_row3_col8\" class=\"data row3 col8\" >0.0490</td>\n",
       "    </tr>\n",
       "    <tr>\n",
       "      <th id=\"T_cecaf_level0_row4\" class=\"row_heading level0 row4\" >xgboost</th>\n",
       "      <td id=\"T_cecaf_row4_col0\" class=\"data row4 col0\" >Extreme Gradient Boosting</td>\n",
       "      <td id=\"T_cecaf_row4_col1\" class=\"data row4 col1\" >0.9679</td>\n",
       "      <td id=\"T_cecaf_row4_col2\" class=\"data row4 col2\" >0.9961</td>\n",
       "      <td id=\"T_cecaf_row4_col3\" class=\"data row4 col3\" >0.9650</td>\n",
       "      <td id=\"T_cecaf_row4_col4\" class=\"data row4 col4\" >0.9708</td>\n",
       "      <td id=\"T_cecaf_row4_col5\" class=\"data row4 col5\" >0.9678</td>\n",
       "      <td id=\"T_cecaf_row4_col6\" class=\"data row4 col6\" >0.9357</td>\n",
       "      <td id=\"T_cecaf_row4_col7\" class=\"data row4 col7\" >0.9359</td>\n",
       "      <td id=\"T_cecaf_row4_col8\" class=\"data row4 col8\" >0.0620</td>\n",
       "    </tr>\n",
       "    <tr>\n",
       "      <th id=\"T_cecaf_level0_row5\" class=\"row_heading level0 row5\" >nb</th>\n",
       "      <td id=\"T_cecaf_row5_col0\" class=\"data row5 col0\" >Naive Bayes</td>\n",
       "      <td id=\"T_cecaf_row5_col1\" class=\"data row5 col1\" >0.9679</td>\n",
       "      <td id=\"T_cecaf_row5_col2\" class=\"data row5 col2\" >0.9962</td>\n",
       "      <td id=\"T_cecaf_row5_col3\" class=\"data row5 col3\" >0.9536</td>\n",
       "      <td id=\"T_cecaf_row5_col4\" class=\"data row5 col4\" >0.9818</td>\n",
       "      <td id=\"T_cecaf_row5_col5\" class=\"data row5 col5\" >0.9673</td>\n",
       "      <td id=\"T_cecaf_row5_col6\" class=\"data row5 col6\" >0.9357</td>\n",
       "      <td id=\"T_cecaf_row5_col7\" class=\"data row5 col7\" >0.9364</td>\n",
       "      <td id=\"T_cecaf_row5_col8\" class=\"data row5 col8\" >0.0250</td>\n",
       "    </tr>\n",
       "    <tr>\n",
       "      <th id=\"T_cecaf_level0_row6\" class=\"row_heading level0 row6\" >lr</th>\n",
       "      <td id=\"T_cecaf_row6_col0\" class=\"data row6 col0\" >Logistic Regression</td>\n",
       "      <td id=\"T_cecaf_row6_col1\" class=\"data row6 col1\" >0.9661</td>\n",
       "      <td id=\"T_cecaf_row6_col2\" class=\"data row6 col2\" >0.9960</td>\n",
       "      <td id=\"T_cecaf_row6_col3\" class=\"data row6 col3\" >0.9593</td>\n",
       "      <td id=\"T_cecaf_row6_col4\" class=\"data row6 col4\" >0.9728</td>\n",
       "      <td id=\"T_cecaf_row6_col5\" class=\"data row6 col5\" >0.9659</td>\n",
       "      <td id=\"T_cecaf_row6_col6\" class=\"data row6 col6\" >0.9321</td>\n",
       "      <td id=\"T_cecaf_row6_col7\" class=\"data row6 col7\" >0.9325</td>\n",
       "      <td id=\"T_cecaf_row6_col8\" class=\"data row6 col8\" >0.2480</td>\n",
       "    </tr>\n",
       "    <tr>\n",
       "      <th id=\"T_cecaf_level0_row7\" class=\"row_heading level0 row7\" >qda</th>\n",
       "      <td id=\"T_cecaf_row7_col0\" class=\"data row7 col0\" >Quadratic Discriminant Analysis</td>\n",
       "      <td id=\"T_cecaf_row7_col1\" class=\"data row7 col1\" >0.9646</td>\n",
       "      <td id=\"T_cecaf_row7_col2\" class=\"data row7 col2\" >0.9957</td>\n",
       "      <td id=\"T_cecaf_row7_col3\" class=\"data row7 col3\" >0.9507</td>\n",
       "      <td id=\"T_cecaf_row7_col4\" class=\"data row7 col4\" >0.9782</td>\n",
       "      <td id=\"T_cecaf_row7_col5\" class=\"data row7 col5\" >0.9641</td>\n",
       "      <td id=\"T_cecaf_row7_col6\" class=\"data row7 col6\" >0.9293</td>\n",
       "      <td id=\"T_cecaf_row7_col7\" class=\"data row7 col7\" >0.9299</td>\n",
       "      <td id=\"T_cecaf_row7_col8\" class=\"data row7 col8\" >0.0210</td>\n",
       "    </tr>\n",
       "    <tr>\n",
       "      <th id=\"T_cecaf_level0_row8\" class=\"row_heading level0 row8\" >ridge</th>\n",
       "      <td id=\"T_cecaf_row8_col0\" class=\"data row8 col0\" >Ridge Classifier</td>\n",
       "      <td id=\"T_cecaf_row8_col1\" class=\"data row8 col1\" >0.9643</td>\n",
       "      <td id=\"T_cecaf_row8_col2\" class=\"data row8 col2\" >0.9956</td>\n",
       "      <td id=\"T_cecaf_row8_col3\" class=\"data row8 col3\" >0.9579</td>\n",
       "      <td id=\"T_cecaf_row8_col4\" class=\"data row8 col4\" >0.9704</td>\n",
       "      <td id=\"T_cecaf_row8_col5\" class=\"data row8 col5\" >0.9640</td>\n",
       "      <td id=\"T_cecaf_row8_col6\" class=\"data row8 col6\" >0.9286</td>\n",
       "      <td id=\"T_cecaf_row8_col7\" class=\"data row8 col7\" >0.9289</td>\n",
       "      <td id=\"T_cecaf_row8_col8\" class=\"data row8 col8\" >0.0230</td>\n",
       "    </tr>\n",
       "    <tr>\n",
       "      <th id=\"T_cecaf_level0_row9\" class=\"row_heading level0 row9\" >lda</th>\n",
       "      <td id=\"T_cecaf_row9_col0\" class=\"data row9 col0\" >Linear Discriminant Analysis</td>\n",
       "      <td id=\"T_cecaf_row9_col1\" class=\"data row9 col1\" >0.9643</td>\n",
       "      <td id=\"T_cecaf_row9_col2\" class=\"data row9 col2\" >0.9957</td>\n",
       "      <td id=\"T_cecaf_row9_col3\" class=\"data row9 col3\" >0.9579</td>\n",
       "      <td id=\"T_cecaf_row9_col4\" class=\"data row9 col4\" >0.9704</td>\n",
       "      <td id=\"T_cecaf_row9_col5\" class=\"data row9 col5\" >0.9640</td>\n",
       "      <td id=\"T_cecaf_row9_col6\" class=\"data row9 col6\" >0.9286</td>\n",
       "      <td id=\"T_cecaf_row9_col7\" class=\"data row9 col7\" >0.9289</td>\n",
       "      <td id=\"T_cecaf_row9_col8\" class=\"data row9 col8\" >0.0220</td>\n",
       "    </tr>\n",
       "    <tr>\n",
       "      <th id=\"T_cecaf_level0_row10\" class=\"row_heading level0 row10\" >et</th>\n",
       "      <td id=\"T_cecaf_row10_col0\" class=\"data row10 col0\" >Extra Trees Classifier</td>\n",
       "      <td id=\"T_cecaf_row10_col1\" class=\"data row10 col1\" >0.9639</td>\n",
       "      <td id=\"T_cecaf_row10_col2\" class=\"data row10 col2\" >0.9908</td>\n",
       "      <td id=\"T_cecaf_row10_col3\" class=\"data row10 col3\" >0.9593</td>\n",
       "      <td id=\"T_cecaf_row10_col4\" class=\"data row10 col4\" >0.9684</td>\n",
       "      <td id=\"T_cecaf_row10_col5\" class=\"data row10 col5\" >0.9637</td>\n",
       "      <td id=\"T_cecaf_row10_col6\" class=\"data row10 col6\" >0.9279</td>\n",
       "      <td id=\"T_cecaf_row10_col7\" class=\"data row10 col7\" >0.9281</td>\n",
       "      <td id=\"T_cecaf_row10_col8\" class=\"data row10 col8\" >0.0390</td>\n",
       "    </tr>\n",
       "    <tr>\n",
       "      <th id=\"T_cecaf_level0_row11\" class=\"row_heading level0 row11\" >svm</th>\n",
       "      <td id=\"T_cecaf_row11_col0\" class=\"data row11 col0\" >SVM - Linear Kernel</td>\n",
       "      <td id=\"T_cecaf_row11_col1\" class=\"data row11 col1\" >0.9636</td>\n",
       "      <td id=\"T_cecaf_row11_col2\" class=\"data row11 col2\" >0.9953</td>\n",
       "      <td id=\"T_cecaf_row11_col3\" class=\"data row11 col3\" >0.9608</td>\n",
       "      <td id=\"T_cecaf_row11_col4\" class=\"data row11 col4\" >0.9666</td>\n",
       "      <td id=\"T_cecaf_row11_col5\" class=\"data row11 col5\" >0.9635</td>\n",
       "      <td id=\"T_cecaf_row11_col6\" class=\"data row11 col6\" >0.9271</td>\n",
       "      <td id=\"T_cecaf_row11_col7\" class=\"data row11 col7\" >0.9275</td>\n",
       "      <td id=\"T_cecaf_row11_col8\" class=\"data row11 col8\" >0.0230</td>\n",
       "    </tr>\n",
       "    <tr>\n",
       "      <th id=\"T_cecaf_level0_row12\" class=\"row_heading level0 row12\" >dt</th>\n",
       "      <td id=\"T_cecaf_row12_col0\" class=\"data row12 col0\" >Decision Tree Classifier</td>\n",
       "      <td id=\"T_cecaf_row12_col1\" class=\"data row12 col1\" >0.9618</td>\n",
       "      <td id=\"T_cecaf_row12_col2\" class=\"data row12 col2\" >0.9617</td>\n",
       "      <td id=\"T_cecaf_row12_col3\" class=\"data row12 col3\" >0.9543</td>\n",
       "      <td id=\"T_cecaf_row12_col4\" class=\"data row12 col4\" >0.9690</td>\n",
       "      <td id=\"T_cecaf_row12_col5\" class=\"data row12 col5\" >0.9615</td>\n",
       "      <td id=\"T_cecaf_row12_col6\" class=\"data row12 col6\" >0.9236</td>\n",
       "      <td id=\"T_cecaf_row12_col7\" class=\"data row12 col7\" >0.9239</td>\n",
       "      <td id=\"T_cecaf_row12_col8\" class=\"data row12 col8\" >0.0230</td>\n",
       "    </tr>\n",
       "    <tr>\n",
       "      <th id=\"T_cecaf_level0_row13\" class=\"row_heading level0 row13\" >knn</th>\n",
       "      <td id=\"T_cecaf_row13_col0\" class=\"data row13 col0\" >K Neighbors Classifier</td>\n",
       "      <td id=\"T_cecaf_row13_col1\" class=\"data row13 col1\" >0.9568</td>\n",
       "      <td id=\"T_cecaf_row13_col2\" class=\"data row13 col2\" >0.9881</td>\n",
       "      <td id=\"T_cecaf_row13_col3\" class=\"data row13 col3\" >0.9422</td>\n",
       "      <td id=\"T_cecaf_row13_col4\" class=\"data row13 col4\" >0.9709</td>\n",
       "      <td id=\"T_cecaf_row13_col5\" class=\"data row13 col5\" >0.9561</td>\n",
       "      <td id=\"T_cecaf_row13_col6\" class=\"data row13 col6\" >0.9136</td>\n",
       "      <td id=\"T_cecaf_row13_col7\" class=\"data row13 col7\" >0.9144</td>\n",
       "      <td id=\"T_cecaf_row13_col8\" class=\"data row13 col8\" >0.2460</td>\n",
       "    </tr>\n",
       "    <tr>\n",
       "      <th id=\"T_cecaf_level0_row14\" class=\"row_heading level0 row14\" >dummy</th>\n",
       "      <td id=\"T_cecaf_row14_col0\" class=\"data row14 col0\" >Dummy Classifier</td>\n",
       "      <td id=\"T_cecaf_row14_col1\" class=\"data row14 col1\" >0.4996</td>\n",
       "      <td id=\"T_cecaf_row14_col2\" class=\"data row14 col2\" >0.5000</td>\n",
       "      <td id=\"T_cecaf_row14_col3\" class=\"data row14 col3\" >0.0000</td>\n",
       "      <td id=\"T_cecaf_row14_col4\" class=\"data row14 col4\" >0.0000</td>\n",
       "      <td id=\"T_cecaf_row14_col5\" class=\"data row14 col5\" >0.0000</td>\n",
       "      <td id=\"T_cecaf_row14_col6\" class=\"data row14 col6\" >0.0000</td>\n",
       "      <td id=\"T_cecaf_row14_col7\" class=\"data row14 col7\" >0.0000</td>\n",
       "      <td id=\"T_cecaf_row14_col8\" class=\"data row14 col8\" >0.0200</td>\n",
       "    </tr>\n",
       "  </tbody>\n",
       "</table>\n"
      ],
      "text/plain": [
       "<pandas.io.formats.style.Styler at 0x21b152ce7d0>"
      ]
     },
     "metadata": {},
     "output_type": "display_data"
    },
    {
     "data": {
      "text/html": [],
      "text/plain": [
       "<IPython.core.display.HTML object>"
      ]
     },
     "metadata": {},
     "output_type": "display_data"
    },
    {
     "data": {
      "application/vnd.jupyter.widget-view+json": {
       "model_id": "aca7fbfec889411a825202a8fbe0263e",
       "version_major": 2,
       "version_minor": 0
      },
      "text/plain": [
       "interactive(children=(ToggleButtons(description='Plot Type:', icons=('',), options=(('Pipeline Plot', 'pipelin…"
      ]
     },
     "metadata": {},
     "output_type": "display_data"
    }
   ],
   "source": [
    "exp = setup(\n",
    "    data=X_train, \n",
    "    target=y_train,\n",
    "    normalize=True,\n",
    "    transformation=True,\n",
    "    remove_outliers=True,\n",
    "    fix_imbalance=True,  \n",
    "     \n",
    ")\n",
    "\n",
    "best_model = compare_models(sort = 'F1')\n",
    "evaluate_model(best_model)"
   ]
  },
  {
   "cell_type": "code",
   "execution_count": 12,
   "metadata": {},
   "outputs": [
    {
     "data": {
      "text/html": [],
      "text/plain": [
       "<IPython.core.display.HTML object>"
      ]
     },
     "metadata": {},
     "output_type": "display_data"
    }
   ],
   "source": [
    "predictions = predict_model(best_model , X_test)"
   ]
  },
  {
   "cell_type": "code",
   "execution_count": 13,
   "metadata": {},
   "outputs": [
    {
     "data": {
      "text/plain": [
       "1370    0\n",
       "1057    1\n",
       "4817    1\n",
       "199     0\n",
       "2280    1\n",
       "4750    1\n",
       "2220    0\n",
       "4683    1\n",
       "2819    1\n",
       "3150    0\n",
       "Name: prediction_label, dtype: int32"
      ]
     },
     "execution_count": 13,
     "metadata": {},
     "output_type": "execute_result"
    }
   ],
   "source": [
    "predictions.prediction_label[120:130]"
   ]
  },
  {
   "cell_type": "code",
   "execution_count": 14,
   "metadata": {},
   "outputs": [
    {
     "data": {
      "text/plain": [
       "1370    0\n",
       "1057    1\n",
       "4817    1\n",
       "199     0\n",
       "2280    1\n",
       "4750    1\n",
       "2220    0\n",
       "4683    1\n",
       "2819    1\n",
       "3150    0\n",
       "Name: gender, dtype: int64"
      ]
     },
     "execution_count": 14,
     "metadata": {},
     "output_type": "execute_result"
    }
   ],
   "source": [
    "y_test[120:130]"
   ]
  },
  {
   "cell_type": "code",
   "execution_count": 15,
   "metadata": {},
   "outputs": [
    {
     "data": {
      "text/plain": [
       "array([[492,  10],\n",
       "       [ 25, 474]], dtype=int64)"
      ]
     },
     "execution_count": 15,
     "metadata": {},
     "output_type": "execute_result"
    }
   ],
   "source": [
    "confusion_matrix(y_test , predictions.prediction_label)"
   ]
  },
  {
   "cell_type": "code",
   "execution_count": 16,
   "metadata": {},
   "outputs": [
    {
     "data": {
      "image/png": "[encoded data removed]",
      "text/plain": [
       "<Figure size 800x550 with 2 Axes>"
      ]
     },
     "metadata": {},
     "output_type": "display_data"
    }
   ],
   "source": [
    "sns.heatmap(confusion_matrix(y_test , predictions.prediction_label) , annot = True , fmt = 'd' , cmap = 'Blues')\n",
    "plt.xlabel('Predicted')\n",
    "plt.ylabel('Actual')\n",
    "plt.title('Confusion Matrix')\n",
    "plt.show()"
   ]
  },
  {
   "cell_type": "code",
   "execution_count": null,
   "metadata": {},
   "outputs": [],
   "source": []
  },
  {
   "cell_type": "code",
   "execution_count": 17,
   "metadata": {},
   "outputs": [],
   "source": [
    "from sklearn.linear_model import LogisticRegression\n",
    "from sklearn.tree import DecisionTreeClassifier\n",
    "from sklearn.ensemble import RandomForestClassifier , GradientBoostingClassifier\n",
    "from sklearn.svm import SVC\n",
    "from sklearn.model_selection import GridSearchCV\n",
    "from sklearn.model_selection import KFold , cross_val_score\n",
    "from sklearn.metrics import accuracy_score , f1_score , precision_score , recall_score "
   ]
  },
  {
   "cell_type": "code",
   "execution_count": 18,
   "metadata": {},
   "outputs": [
    {
     "name": "stdout",
     "output_type": "stream",
     "text": [
      "أفضل معلمات: {'learning_rate': 0.1, 'max_depth': 3, 'n_estimators': 50}\n"
     ]
    }
   ],
   "source": [
    "from sklearn.model_selection import GridSearchCV\n",
    "\n",
    "# تعريف معاملات الضبط\n",
    "params = {\n",
    "    'n_estimators': [50, 100, 200],\n",
    "    'learning_rate': [0.01, 0.1, 0.2],\n",
    "    'max_depth': [3, 4, 5]\n",
    "}\n",
    "\n",
    "# البحث عن أفضل معاملات\n",
    "gb = GradientBoostingClassifier()\n",
    "grid_search = GridSearchCV(gb, params, cv=5, scoring='r2')\n",
    "grid_search.fit(X_train, y_train)\n",
    "\n",
    "print(\"أفضل معلمات:\", grid_search.best_params_)"
   ]
  },
  {
   "cell_type": "code",
   "execution_count": 19,
   "metadata": {},
   "outputs": [],
   "source": [
    "LRM = LogisticRegression()\n",
    "RFM = RandomForestClassifier()\n",
    "DTM = DecisionTreeClassifier()\n",
    "SVCM = SVC()\n",
    "GBC = GradientBoostingClassifier(n_estimators= 50 , max_depth = 3 , learning_rate = 0.1)"
   ]
  },
  {
   "cell_type": "code",
   "execution_count": 20,
   "metadata": {},
   "outputs": [
    {
     "name": "stdout",
     "output_type": "stream",
     "text": [
      "The Model is LogisticRegression(C=1.0, class_weight=None, dual=False, fit_intercept=True,\n",
      "                   intercept_scaling=1, l1_ratio=None, max_iter=100,\n",
      "                   multi_class='auto', n_jobs=None, penalty='l2',\n",
      "                   random_state=None, solver='lbfgs', tol=0.0001, verbose=0,\n",
      "                   warm_start=False)\n",
      "Mean Accuracy: 0.96975\n",
      "-------------------------\n",
      "The Model is RandomForestClassifier(bootstrap=True, ccp_alpha=0.0, class_weight=None,\n",
      "                       criterion='gini', max_depth=None, max_features='sqrt',\n",
      "                       max_leaf_nodes=None, max_samples=None,\n",
      "                       min_impurity_decrease=0.0, min_samples_leaf=1,\n",
      "                       min_samples_split=2, min_weight_fraction_leaf=0.0,\n",
      "                       monotonic_cst=None, n_estimators=100, n_jobs=None,\n",
      "                       oob_score=False, random_state=None, verbose=0,\n",
      "                       warm_start=False)\n",
      "Mean Accuracy: 0.974\n",
      "-------------------------\n",
      "The Model is DecisionTreeClassifier(ccp_alpha=0.0, class_weight=None, criterion='gini',\n",
      "                       max_depth=None, max_features=None, max_leaf_nodes=None,\n",
      "                       min_impurity_decrease=0.0, min_samples_leaf=1,\n",
      "                       min_samples_split=2, min_weight_fraction_leaf=0.0,\n",
      "                       monotonic_cst=None, random_state=None, splitter='best')\n",
      "Mean Accuracy: 0.9665000000000001\n",
      "-------------------------\n",
      "The Model is SVC(C=1.0, break_ties=False, cache_size=200, class_weight=None, coef0=0.0,\n",
      "    decision_function_shape='ovr', degree=3, gamma='scale', kernel='rbf',\n",
      "    max_iter=-1, probability=False, random_state=None, shrinking=True,\n",
      "    tol=0.001, verbose=False)\n",
      "Mean Accuracy: 0.9705\n",
      "-------------------------\n",
      "The Model is GradientBoostingClassifier(ccp_alpha=0.0, criterion='friedman_mse', init=None,\n",
      "                           learning_rate=0.1, loss='log_loss', max_depth=3,\n",
      "                           max_features=None, max_leaf_nodes=None,\n",
      "                           min_impurity_decrease=0.0, min_samples_leaf=1,\n",
      "                           min_samples_split=2, min_weight_fraction_leaf=0.0,\n",
      "                           n_estimators=50, n_iter_no_change=None,\n",
      "                           random_state=None, subsample=1.0, tol=0.0001,\n",
      "                           validation_fraction=0.1, verbose=0,\n",
      "                           warm_start=False)\n",
      "Mean Accuracy: 0.9785\n",
      "-------------------------\n"
     ]
    }
   ],
   "source": [
    "models = [LRM , RFM , DTM , SVCM , GBC]\n",
    "results = {}\n",
    "for model in models:\n",
    "    print(f'The Model is {model}')\n",
    "    k_folds = KFold(n_splits=5, shuffle=True, random_state=42)\n",
    "    \n",
    "    scores = cross_val_score(model, X_train , y_train, cv=k_folds)\n",
    "    \n",
    "    #print(\"K-Fold Cross-Validation Scores:\", scores)\n",
    "    \n",
    "    mean_accuracy = np.mean(scores)\n",
    "    results[model] = mean_accuracy\n",
    "    print(\"Mean Accuracy:\", mean_accuracy)\n",
    "    print('-------------------------')\n",
    "    "
   ]
  },
  {
   "cell_type": "code",
   "execution_count": 21,
   "metadata": {},
   "outputs": [
    {
     "name": "stdout",
     "output_type": "stream",
     "text": [
      "The best model is GradientBoostingClassifier(ccp_alpha=0.0, criterion='friedman_mse', init=None,\n",
      "                           learning_rate=0.1, loss='log_loss', max_depth=3,\n",
      "                           max_features=None, max_leaf_nodes=None,\n",
      "                           min_impurity_decrease=0.0, min_samples_leaf=1,\n",
      "                           min_samples_split=2, min_weight_fraction_leaf=0.0,\n",
      "                           n_estimators=50, n_iter_no_change=None,\n",
      "                           random_state=None, subsample=1.0, tol=0.0001,\n",
      "                           validation_fraction=0.1, verbose=0,\n",
      "                           warm_start=False) with a mean accuracy of 0.9785\n"
     ]
    }
   ],
   "source": [
    "best_model = max(results, key=results.get)\n",
    "print(f'The best model is {best_model} with a mean accuracy of {results[best_model]}')\n",
    "\n",
    "best_model.fit(X_train, y_train)\n",
    "y_pred_best = best_model.predict(X_test)"
   ]
  },
  {
   "cell_type": "code",
   "execution_count": 22,
   "metadata": {},
   "outputs": [
    {
     "name": "stdout",
     "output_type": "stream",
     "text": [
      "Test Accuracy: 0.967032967032967\n",
      "              precision    recall  f1-score   support\n",
      "\n",
      "           0       0.95      0.99      0.97       502\n",
      "           1       0.99      0.95      0.97       499\n",
      "\n",
      "    accuracy                           0.97      1001\n",
      "   macro avg       0.97      0.97      0.97      1001\n",
      "weighted avg       0.97      0.97      0.97      1001\n",
      "\n"
     ]
    }
   ],
   "source": [
    "print(\"Test Accuracy:\", accuracy_score(y_test, y_pred_best))\n",
    "print(classification_report(y_test, y_pred_best))"
   ]
  },
  {
   "cell_type": "code",
   "execution_count": 23,
   "metadata": {},
   "outputs": [
    {
     "data": {
      "text/plain": [
       "array([[496,   6],\n",
       "       [ 27, 472]], dtype=int64)"
      ]
     },
     "execution_count": 23,
     "metadata": {},
     "output_type": "execute_result"
    }
   ],
   "source": [
    "confusion_matrix(y_test, y_pred_best)"
   ]
  },
  {
   "cell_type": "code",
   "execution_count": 26,
   "metadata": {},
   "outputs": [
    {
     "data": {
      "image/png": "[encoded data removed]",
      "text/plain": [
       "<Figure size 800x550 with 2 Axes>"
      ]
     },
     "metadata": {},
     "output_type": "display_data"
    }
   ],
   "source": [
    "sns.heatmap(confusion_matrix(y_test , y_pred_best) , annot = True , fmt = 'd' , cmap = 'Blues')\n",
    "plt.xlabel('Predicted')\n",
    "plt.ylabel('Actual')\n",
    "plt.title('Confusion Matrix')\n",
    "plt.show()"
   ]
  },
  {
   "cell_type": "code",
   "execution_count": 25,
   "metadata": {},
   "outputs": [
    {
     "data": {
      "image/png": "[encoded data removed]",
      "text/plain": [
       "<Figure size 800x550 with 1 Axes>"
      ]
     },
     "metadata": {},
     "output_type": "display_data"
    }
   ],
   "source": [
    "from sklearn.metrics import RocCurveDisplay\n",
    "RocCurveDisplay.from_estimator(best_model, X_test, y_test)\n",
    "plt.show()"
   ]
  }
 ],
 "metadata": {
  "kaggle": {
   "accelerator": "none",
   "dataSources": [
    {
     "datasetId": 3209333,
     "sourceId": 5627892,
     "sourceType": "datasetVersion"
    }
   ],
   "dockerImageVersionId": 30886,
   "isGpuEnabled": false,
   "isInternetEnabled": true,
   "language": "python",
   "sourceType": "notebook"
  },
  "kernelspec": {
   "display_name": "Python 3",
   "language": "python",
   "name": "python3"
  },
  "language_info": {
   "codemirror_mode": {
    "name": "ipython",
    "version": 3
   },
   "file_extension": ".py",
   "mimetype": "text/x-python",
   "name": "python",
   "nbconvert_exporter": "python",
   "pygments_lexer": "ipython3",
   "version": "3.11.0"
  }
 },
 "nbformat": 4,
 "nbformat_minor": 4
}
