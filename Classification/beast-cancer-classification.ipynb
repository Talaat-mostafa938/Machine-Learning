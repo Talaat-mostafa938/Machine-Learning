{
 "cells": [
  {
   "cell_type": "code",
   "execution_count": 1,
   "id": "8e1bd295",
   "metadata": {
    "_cell_guid": "b1076dfc-b9ad-4769-8c92-a6c4dae69d19",
    "_uuid": "8f2839f25d086af736a60e9eeb907d3b93b6e0e5",
    "execution": {
     "iopub.execute_input": "2024-11-05T19:00:14.999675Z",
     "iopub.status.busy": "2024-11-05T19:00:14.999226Z",
     "iopub.status.idle": "2024-11-05T19:00:17.653454Z",
     "shell.execute_reply": "2024-11-05T19:00:17.652227Z"
    },
    "papermill": {
     "duration": 2.6761,
     "end_time": "2024-11-05T19:00:17.656342",
     "exception": false,
     "start_time": "2024-11-05T19:00:14.980242",
     "status": "completed"
    },
    "tags": []
   },
   "outputs": [],
   "source": [
    "import numpy as np\n",
    "import pandas as pd\n",
    "import seaborn as sns\n",
    "import matplotlib.pyplot as plt"
   ]
  },
  {
   "cell_type": "code",
   "execution_count": 2,
   "id": "7cf9836c",
   "metadata": {
    "execution": {
     "iopub.execute_input": "2024-11-05T19:00:17.690219Z",
     "iopub.status.busy": "2024-11-05T19:00:17.689621Z",
     "iopub.status.idle": "2024-11-05T19:00:17.733374Z",
     "shell.execute_reply": "2024-11-05T19:00:17.732098Z"
    },
    "papermill": {
     "duration": 0.064385,
     "end_time": "2024-11-05T19:00:17.736297",
     "exception": false,
     "start_time": "2024-11-05T19:00:17.671912",
     "status": "completed"
    },
    "tags": []
   },
   "outputs": [],
   "source": [
    "df = pd.read_csv('/kaggle/input/breast-cancer/Breast_Cancer.csv')"
   ]
  },
  {
   "cell_type": "code",
   "execution_count": 3,
   "id": "42f6145c",
   "metadata": {
    "execution": {
     "iopub.execute_input": "2024-11-05T19:00:17.769374Z",
     "iopub.status.busy": "2024-11-05T19:00:17.768852Z",
     "iopub.status.idle": "2024-11-05T19:00:17.797517Z",
     "shell.execute_reply": "2024-11-05T19:00:17.796240Z"
    },
    "papermill": {
     "duration": 0.0483,
     "end_time": "2024-11-05T19:00:17.800398",
     "exception": false,
     "start_time": "2024-11-05T19:00:17.752098",
     "status": "completed"
    },
    "tags": []
   },
   "outputs": [
    {
     "data": {
      "text/html": [
       "<div>\n",
       "<style scoped>\n",
       "    .dataframe tbody tr th:only-of-type {\n",
       "        vertical-align: middle;\n",
       "    }\n",
       "\n",
       "    .dataframe tbody tr th {\n",
       "        vertical-align: top;\n",
       "    }\n",
       "\n",
       "    .dataframe thead th {\n",
       "        text-align: right;\n",
       "    }\n",
       "</style>\n",
       "<table border=\"1\" class=\"dataframe\">\n",
       "  <thead>\n",
       "    <tr style=\"text-align: right;\">\n",
       "      <th></th>\n",
       "      <th>Age</th>\n",
       "      <th>Race</th>\n",
       "      <th>Marital Status</th>\n",
       "      <th>T Stage</th>\n",
       "      <th>N Stage</th>\n",
       "      <th>6th Stage</th>\n",
       "      <th>differentiate</th>\n",
       "      <th>Grade</th>\n",
       "      <th>A Stage</th>\n",
       "      <th>Tumor Size</th>\n",
       "      <th>Estrogen Status</th>\n",
       "      <th>Progesterone Status</th>\n",
       "      <th>Regional Node Examined</th>\n",
       "      <th>Reginol Node Positive</th>\n",
       "      <th>Survival Months</th>\n",
       "      <th>Status</th>\n",
       "    </tr>\n",
       "  </thead>\n",
       "  <tbody>\n",
       "    <tr>\n",
       "      <th>0</th>\n",
       "      <td>68</td>\n",
       "      <td>White</td>\n",
       "      <td>Married</td>\n",
       "      <td>T1</td>\n",
       "      <td>N1</td>\n",
       "      <td>IIA</td>\n",
       "      <td>Poorly differentiated</td>\n",
       "      <td>3</td>\n",
       "      <td>Regional</td>\n",
       "      <td>4</td>\n",
       "      <td>Positive</td>\n",
       "      <td>Positive</td>\n",
       "      <td>24</td>\n",
       "      <td>1</td>\n",
       "      <td>60</td>\n",
       "      <td>Alive</td>\n",
       "    </tr>\n",
       "    <tr>\n",
       "      <th>1</th>\n",
       "      <td>50</td>\n",
       "      <td>White</td>\n",
       "      <td>Married</td>\n",
       "      <td>T2</td>\n",
       "      <td>N2</td>\n",
       "      <td>IIIA</td>\n",
       "      <td>Moderately differentiated</td>\n",
       "      <td>2</td>\n",
       "      <td>Regional</td>\n",
       "      <td>35</td>\n",
       "      <td>Positive</td>\n",
       "      <td>Positive</td>\n",
       "      <td>14</td>\n",
       "      <td>5</td>\n",
       "      <td>62</td>\n",
       "      <td>Alive</td>\n",
       "    </tr>\n",
       "    <tr>\n",
       "      <th>2</th>\n",
       "      <td>58</td>\n",
       "      <td>White</td>\n",
       "      <td>Divorced</td>\n",
       "      <td>T3</td>\n",
       "      <td>N3</td>\n",
       "      <td>IIIC</td>\n",
       "      <td>Moderately differentiated</td>\n",
       "      <td>2</td>\n",
       "      <td>Regional</td>\n",
       "      <td>63</td>\n",
       "      <td>Positive</td>\n",
       "      <td>Positive</td>\n",
       "      <td>14</td>\n",
       "      <td>7</td>\n",
       "      <td>75</td>\n",
       "      <td>Alive</td>\n",
       "    </tr>\n",
       "    <tr>\n",
       "      <th>3</th>\n",
       "      <td>58</td>\n",
       "      <td>White</td>\n",
       "      <td>Married</td>\n",
       "      <td>T1</td>\n",
       "      <td>N1</td>\n",
       "      <td>IIA</td>\n",
       "      <td>Poorly differentiated</td>\n",
       "      <td>3</td>\n",
       "      <td>Regional</td>\n",
       "      <td>18</td>\n",
       "      <td>Positive</td>\n",
       "      <td>Positive</td>\n",
       "      <td>2</td>\n",
       "      <td>1</td>\n",
       "      <td>84</td>\n",
       "      <td>Alive</td>\n",
       "    </tr>\n",
       "    <tr>\n",
       "      <th>4</th>\n",
       "      <td>47</td>\n",
       "      <td>White</td>\n",
       "      <td>Married</td>\n",
       "      <td>T2</td>\n",
       "      <td>N1</td>\n",
       "      <td>IIB</td>\n",
       "      <td>Poorly differentiated</td>\n",
       "      <td>3</td>\n",
       "      <td>Regional</td>\n",
       "      <td>41</td>\n",
       "      <td>Positive</td>\n",
       "      <td>Positive</td>\n",
       "      <td>3</td>\n",
       "      <td>1</td>\n",
       "      <td>50</td>\n",
       "      <td>Alive</td>\n",
       "    </tr>\n",
       "  </tbody>\n",
       "</table>\n",
       "</div>"
      ],
      "text/plain": [
       "   Age   Race Marital Status T Stage  N Stage 6th Stage  \\\n",
       "0   68  White        Married       T1      N1       IIA   \n",
       "1   50  White        Married       T2      N2      IIIA   \n",
       "2   58  White       Divorced       T3      N3      IIIC   \n",
       "3   58  White        Married       T1      N1       IIA   \n",
       "4   47  White        Married       T2      N1       IIB   \n",
       "\n",
       "               differentiate Grade   A Stage  Tumor Size Estrogen Status  \\\n",
       "0      Poorly differentiated     3  Regional           4        Positive   \n",
       "1  Moderately differentiated     2  Regional          35        Positive   \n",
       "2  Moderately differentiated     2  Regional          63        Positive   \n",
       "3      Poorly differentiated     3  Regional          18        Positive   \n",
       "4      Poorly differentiated     3  Regional          41        Positive   \n",
       "\n",
       "  Progesterone Status  Regional Node Examined  Reginol Node Positive  \\\n",
       "0            Positive                      24                      1   \n",
       "1            Positive                      14                      5   \n",
       "2            Positive                      14                      7   \n",
       "3            Positive                       2                      1   \n",
       "4            Positive                       3                      1   \n",
       "\n",
       "   Survival Months Status  \n",
       "0               60  Alive  \n",
       "1               62  Alive  \n",
       "2               75  Alive  \n",
       "3               84  Alive  \n",
       "4               50  Alive  "
      ]
     },
     "execution_count": 3,
     "metadata": {},
     "output_type": "execute_result"
    }
   ],
   "source": [
    "df.head()"
   ]
  },
  {
   "cell_type": "code",
   "execution_count": 4,
   "id": "d970a506",
   "metadata": {
    "execution": {
     "iopub.execute_input": "2024-11-05T19:00:17.834292Z",
     "iopub.status.busy": "2024-11-05T19:00:17.833763Z",
     "iopub.status.idle": "2024-11-05T19:00:17.854393Z",
     "shell.execute_reply": "2024-11-05T19:00:17.853249Z"
    },
    "papermill": {
     "duration": 0.040707,
     "end_time": "2024-11-05T19:00:17.856986",
     "exception": false,
     "start_time": "2024-11-05T19:00:17.816279",
     "status": "completed"
    },
    "tags": []
   },
   "outputs": [
    {
     "data": {
      "text/html": [
       "<div>\n",
       "<style scoped>\n",
       "    .dataframe tbody tr th:only-of-type {\n",
       "        vertical-align: middle;\n",
       "    }\n",
       "\n",
       "    .dataframe tbody tr th {\n",
       "        vertical-align: top;\n",
       "    }\n",
       "\n",
       "    .dataframe thead th {\n",
       "        text-align: right;\n",
       "    }\n",
       "</style>\n",
       "<table border=\"1\" class=\"dataframe\">\n",
       "  <thead>\n",
       "    <tr style=\"text-align: right;\">\n",
       "      <th></th>\n",
       "      <th>Age</th>\n",
       "      <th>Race</th>\n",
       "      <th>Marital Status</th>\n",
       "      <th>T Stage</th>\n",
       "      <th>N Stage</th>\n",
       "      <th>6th Stage</th>\n",
       "      <th>differentiate</th>\n",
       "      <th>Grade</th>\n",
       "      <th>A Stage</th>\n",
       "      <th>Tumor Size</th>\n",
       "      <th>Estrogen Status</th>\n",
       "      <th>Progesterone Status</th>\n",
       "      <th>Regional Node Examined</th>\n",
       "      <th>Reginol Node Positive</th>\n",
       "      <th>Survival Months</th>\n",
       "      <th>Status</th>\n",
       "    </tr>\n",
       "  </thead>\n",
       "  <tbody>\n",
       "    <tr>\n",
       "      <th>4019</th>\n",
       "      <td>62</td>\n",
       "      <td>Other</td>\n",
       "      <td>Married</td>\n",
       "      <td>T1</td>\n",
       "      <td>N1</td>\n",
       "      <td>IIA</td>\n",
       "      <td>Moderately differentiated</td>\n",
       "      <td>2</td>\n",
       "      <td>Regional</td>\n",
       "      <td>9</td>\n",
       "      <td>Positive</td>\n",
       "      <td>Positive</td>\n",
       "      <td>1</td>\n",
       "      <td>1</td>\n",
       "      <td>49</td>\n",
       "      <td>Alive</td>\n",
       "    </tr>\n",
       "    <tr>\n",
       "      <th>4020</th>\n",
       "      <td>56</td>\n",
       "      <td>White</td>\n",
       "      <td>Divorced</td>\n",
       "      <td>T2</td>\n",
       "      <td>N2</td>\n",
       "      <td>IIIA</td>\n",
       "      <td>Moderately differentiated</td>\n",
       "      <td>2</td>\n",
       "      <td>Regional</td>\n",
       "      <td>46</td>\n",
       "      <td>Positive</td>\n",
       "      <td>Positive</td>\n",
       "      <td>14</td>\n",
       "      <td>8</td>\n",
       "      <td>69</td>\n",
       "      <td>Alive</td>\n",
       "    </tr>\n",
       "    <tr>\n",
       "      <th>4021</th>\n",
       "      <td>68</td>\n",
       "      <td>White</td>\n",
       "      <td>Married</td>\n",
       "      <td>T2</td>\n",
       "      <td>N1</td>\n",
       "      <td>IIB</td>\n",
       "      <td>Moderately differentiated</td>\n",
       "      <td>2</td>\n",
       "      <td>Regional</td>\n",
       "      <td>22</td>\n",
       "      <td>Positive</td>\n",
       "      <td>Negative</td>\n",
       "      <td>11</td>\n",
       "      <td>3</td>\n",
       "      <td>69</td>\n",
       "      <td>Alive</td>\n",
       "    </tr>\n",
       "    <tr>\n",
       "      <th>4022</th>\n",
       "      <td>58</td>\n",
       "      <td>Black</td>\n",
       "      <td>Divorced</td>\n",
       "      <td>T2</td>\n",
       "      <td>N1</td>\n",
       "      <td>IIB</td>\n",
       "      <td>Moderately differentiated</td>\n",
       "      <td>2</td>\n",
       "      <td>Regional</td>\n",
       "      <td>44</td>\n",
       "      <td>Positive</td>\n",
       "      <td>Positive</td>\n",
       "      <td>11</td>\n",
       "      <td>1</td>\n",
       "      <td>72</td>\n",
       "      <td>Alive</td>\n",
       "    </tr>\n",
       "    <tr>\n",
       "      <th>4023</th>\n",
       "      <td>46</td>\n",
       "      <td>White</td>\n",
       "      <td>Married</td>\n",
       "      <td>T2</td>\n",
       "      <td>N1</td>\n",
       "      <td>IIB</td>\n",
       "      <td>Moderately differentiated</td>\n",
       "      <td>2</td>\n",
       "      <td>Regional</td>\n",
       "      <td>30</td>\n",
       "      <td>Positive</td>\n",
       "      <td>Positive</td>\n",
       "      <td>7</td>\n",
       "      <td>2</td>\n",
       "      <td>100</td>\n",
       "      <td>Alive</td>\n",
       "    </tr>\n",
       "  </tbody>\n",
       "</table>\n",
       "</div>"
      ],
      "text/plain": [
       "      Age   Race Marital Status T Stage  N Stage 6th Stage  \\\n",
       "4019   62  Other        Married       T1      N1       IIA   \n",
       "4020   56  White       Divorced       T2      N2      IIIA   \n",
       "4021   68  White        Married       T2      N1       IIB   \n",
       "4022   58  Black       Divorced       T2      N1       IIB   \n",
       "4023   46  White        Married       T2      N1       IIB   \n",
       "\n",
       "                  differentiate Grade   A Stage  Tumor Size Estrogen Status  \\\n",
       "4019  Moderately differentiated     2  Regional           9        Positive   \n",
       "4020  Moderately differentiated     2  Regional          46        Positive   \n",
       "4021  Moderately differentiated     2  Regional          22        Positive   \n",
       "4022  Moderately differentiated     2  Regional          44        Positive   \n",
       "4023  Moderately differentiated     2  Regional          30        Positive   \n",
       "\n",
       "     Progesterone Status  Regional Node Examined  Reginol Node Positive  \\\n",
       "4019            Positive                       1                      1   \n",
       "4020            Positive                      14                      8   \n",
       "4021            Negative                      11                      3   \n",
       "4022            Positive                      11                      1   \n",
       "4023            Positive                       7                      2   \n",
       "\n",
       "      Survival Months Status  \n",
       "4019               49  Alive  \n",
       "4020               69  Alive  \n",
       "4021               69  Alive  \n",
       "4022               72  Alive  \n",
       "4023              100  Alive  "
      ]
     },
     "execution_count": 4,
     "metadata": {},
     "output_type": "execute_result"
    }
   ],
   "source": [
    "df.tail()"
   ]
  },
  {
   "cell_type": "code",
   "execution_count": 5,
   "id": "1e84ba13",
   "metadata": {
    "execution": {
     "iopub.execute_input": "2024-11-05T19:00:17.892369Z",
     "iopub.status.busy": "2024-11-05T19:00:17.891498Z",
     "iopub.status.idle": "2024-11-05T19:00:17.924360Z",
     "shell.execute_reply": "2024-11-05T19:00:17.923071Z"
    },
    "papermill": {
     "duration": 0.053537,
     "end_time": "2024-11-05T19:00:17.927135",
     "exception": false,
     "start_time": "2024-11-05T19:00:17.873598",
     "status": "completed"
    },
    "tags": []
   },
   "outputs": [
    {
     "name": "stdout",
     "output_type": "stream",
     "text": [
      "<class 'pandas.core.frame.DataFrame'>\n",
      "RangeIndex: 4024 entries, 0 to 4023\n",
      "Data columns (total 16 columns):\n",
      " #   Column                  Non-Null Count  Dtype \n",
      "---  ------                  --------------  ----- \n",
      " 0   Age                     4024 non-null   int64 \n",
      " 1   Race                    4024 non-null   object\n",
      " 2   Marital Status          4024 non-null   object\n",
      " 3   T Stage                 4024 non-null   object\n",
      " 4   N Stage                 4024 non-null   object\n",
      " 5   6th Stage               4024 non-null   object\n",
      " 6   differentiate           4024 non-null   object\n",
      " 7   Grade                   4024 non-null   object\n",
      " 8   A Stage                 4024 non-null   object\n",
      " 9   Tumor Size              4024 non-null   int64 \n",
      " 10  Estrogen Status         4024 non-null   object\n",
      " 11  Progesterone Status     4024 non-null   object\n",
      " 12  Regional Node Examined  4024 non-null   int64 \n",
      " 13  Reginol Node Positive   4024 non-null   int64 \n",
      " 14  Survival Months         4024 non-null   int64 \n",
      " 15  Status                  4024 non-null   object\n",
      "dtypes: int64(5), object(11)\n",
      "memory usage: 503.1+ KB\n"
     ]
    }
   ],
   "source": [
    "df.info()"
   ]
  },
  {
   "cell_type": "code",
   "execution_count": 6,
   "id": "b3aabc03",
   "metadata": {
    "execution": {
     "iopub.execute_input": "2024-11-05T19:00:17.962139Z",
     "iopub.status.busy": "2024-11-05T19:00:17.961616Z",
     "iopub.status.idle": "2024-11-05T19:00:17.976808Z",
     "shell.execute_reply": "2024-11-05T19:00:17.975444Z"
    },
    "papermill": {
     "duration": 0.035578,
     "end_time": "2024-11-05T19:00:17.979366",
     "exception": false,
     "start_time": "2024-11-05T19:00:17.943788",
     "status": "completed"
    },
    "tags": []
   },
   "outputs": [
    {
     "data": {
      "text/plain": [
       "Age                       0\n",
       "Race                      0\n",
       "Marital Status            0\n",
       "T Stage                   0\n",
       "N Stage                   0\n",
       "6th Stage                 0\n",
       "differentiate             0\n",
       "Grade                     0\n",
       "A Stage                   0\n",
       "Tumor Size                0\n",
       "Estrogen Status           0\n",
       "Progesterone Status       0\n",
       "Regional Node Examined    0\n",
       "Reginol Node Positive     0\n",
       "Survival Months           0\n",
       "Status                    0\n",
       "dtype: int64"
      ]
     },
     "execution_count": 6,
     "metadata": {},
     "output_type": "execute_result"
    }
   ],
   "source": [
    "df.isna().sum()"
   ]
  },
  {
   "cell_type": "code",
   "execution_count": 7,
   "id": "51f6432d",
   "metadata": {
    "execution": {
     "iopub.execute_input": "2024-11-05T19:00:18.014950Z",
     "iopub.status.busy": "2024-11-05T19:00:18.014495Z",
     "iopub.status.idle": "2024-11-05T19:00:18.029880Z",
     "shell.execute_reply": "2024-11-05T19:00:18.028633Z"
    },
    "papermill": {
     "duration": 0.03674,
     "end_time": "2024-11-05T19:00:18.032811",
     "exception": false,
     "start_time": "2024-11-05T19:00:17.996071",
     "status": "completed"
    },
    "tags": []
   },
   "outputs": [
    {
     "data": {
      "text/plain": [
       "1"
      ]
     },
     "execution_count": 7,
     "metadata": {},
     "output_type": "execute_result"
    }
   ],
   "source": [
    "df.duplicated().sum()"
   ]
  },
  {
   "cell_type": "code",
   "execution_count": 8,
   "id": "8db68898",
   "metadata": {
    "execution": {
     "iopub.execute_input": "2024-11-05T19:00:18.068538Z",
     "iopub.status.busy": "2024-11-05T19:00:18.068064Z",
     "iopub.status.idle": "2024-11-05T19:00:18.084642Z",
     "shell.execute_reply": "2024-11-05T19:00:18.083366Z"
    },
    "papermill": {
     "duration": 0.037888,
     "end_time": "2024-11-05T19:00:18.087593",
     "exception": false,
     "start_time": "2024-11-05T19:00:18.049705",
     "status": "completed"
    },
    "tags": []
   },
   "outputs": [],
   "source": [
    "df.drop_duplicates(inplace = True)"
   ]
  },
  {
   "cell_type": "code",
   "execution_count": 9,
   "id": "a977dadd",
   "metadata": {
    "execution": {
     "iopub.execute_input": "2024-11-05T19:00:18.124459Z",
     "iopub.status.busy": "2024-11-05T19:00:18.123957Z",
     "iopub.status.idle": "2024-11-05T19:00:18.139878Z",
     "shell.execute_reply": "2024-11-05T19:00:18.138642Z"
    },
    "papermill": {
     "duration": 0.038062,
     "end_time": "2024-11-05T19:00:18.142684",
     "exception": false,
     "start_time": "2024-11-05T19:00:18.104622",
     "status": "completed"
    },
    "tags": []
   },
   "outputs": [
    {
     "data": {
      "text/plain": [
       "0"
      ]
     },
     "execution_count": 9,
     "metadata": {},
     "output_type": "execute_result"
    }
   ],
   "source": [
    "df.duplicated().sum()"
   ]
  },
  {
   "cell_type": "code",
   "execution_count": 10,
   "id": "eaf6e2a3",
   "metadata": {
    "execution": {
     "iopub.execute_input": "2024-11-05T19:00:18.178446Z",
     "iopub.status.busy": "2024-11-05T19:00:18.177954Z",
     "iopub.status.idle": "2024-11-05T19:00:18.185838Z",
     "shell.execute_reply": "2024-11-05T19:00:18.184696Z"
    },
    "papermill": {
     "duration": 0.028582,
     "end_time": "2024-11-05T19:00:18.188365",
     "exception": false,
     "start_time": "2024-11-05T19:00:18.159783",
     "status": "completed"
    },
    "tags": []
   },
   "outputs": [
    {
     "data": {
      "text/plain": [
       "(4023, 16)"
      ]
     },
     "execution_count": 10,
     "metadata": {},
     "output_type": "execute_result"
    }
   ],
   "source": [
    "df.shape"
   ]
  },
  {
   "cell_type": "code",
   "execution_count": 11,
   "id": "ff2caf47",
   "metadata": {
    "execution": {
     "iopub.execute_input": "2024-11-05T19:00:18.225817Z",
     "iopub.status.busy": "2024-11-05T19:00:18.224523Z",
     "iopub.status.idle": "2024-11-05T19:00:18.231487Z",
     "shell.execute_reply": "2024-11-05T19:00:18.230256Z"
    },
    "papermill": {
     "duration": 0.028775,
     "end_time": "2024-11-05T19:00:18.234511",
     "exception": false,
     "start_time": "2024-11-05T19:00:18.205736",
     "status": "completed"
    },
    "tags": []
   },
   "outputs": [
    {
     "name": "stdout",
     "output_type": "stream",
     "text": [
      "The Rows is : 4023\n",
      "The Columns is : 16\n"
     ]
    }
   ],
   "source": [
    "print(\"The Rows is :\" , df.shape[0])\n",
    "print(\"The Columns is :\" , df.shape[1])"
   ]
  },
  {
   "cell_type": "code",
   "execution_count": 12,
   "id": "9985d071",
   "metadata": {
    "execution": {
     "iopub.execute_input": "2024-11-05T19:00:18.271097Z",
     "iopub.status.busy": "2024-11-05T19:00:18.270013Z",
     "iopub.status.idle": "2024-11-05T19:00:24.502099Z",
     "shell.execute_reply": "2024-11-05T19:00:24.500991Z"
    },
    "papermill": {
     "duration": 6.2532,
     "end_time": "2024-11-05T19:00:24.504866",
     "exception": false,
     "start_time": "2024-11-05T19:00:18.251666",
     "status": "completed"
    },
    "tags": []
   },
   "outputs": [
    {
     "name": "stdout",
     "output_type": "stream",
     "text": [
      "Age\n"
     ]
    },
    {
     "data": {
      "image/png": "[encoded data removed]",
      "text/plain": [
       "<Figure size 640x480 with 1 Axes>"
      ]
     },
     "metadata": {},
     "output_type": "display_data"
    },
    {
     "name": "stdout",
     "output_type": "stream",
     "text": [
      "Race\n"
     ]
    },
    {
     "data": {
      "image/png": "[encoded data removed]",
      "text/plain": [
       "<Figure size 640x480 with 1 Axes>"
      ]
     },
     "metadata": {},
     "output_type": "display_data"
    },
    {
     "name": "stdout",
     "output_type": "stream",
     "text": [
      "Marital Status\n"
     ]
    },
    {
     "data": {
      "image/png": "[encoded data removed]",
      "text/plain": [
       "<Figure size 640x480 with 1 Axes>"
      ]
     },
     "metadata": {},
     "output_type": "display_data"
    },
    {
     "name": "stdout",
     "output_type": "stream",
     "text": [
      "T Stage \n"
     ]
    },
    {
     "data": {
      "image/png": "[encoded data removed]",
      "text/plain": [
       "<Figure size 640x480 with 1 Axes>"
      ]
     },
     "metadata": {},
     "output_type": "display_data"
    },
    {
     "name": "stdout",
     "output_type": "stream",
     "text": [
      "N Stage\n"
     ]
    },
    {
     "data": {
      "image/png": "[encoded data removed]",
      "text/plain": [
       "<Figure size 640x480 with 1 Axes>"
      ]
     },
     "metadata": {},
     "output_type": "display_data"
    },
    {
     "name": "stdout",
     "output_type": "stream",
     "text": [
      "6th Stage\n"
     ]
    },
    {
     "data": {
      "image/png": "[encoded data removed]",
      "text/plain": [
       "<Figure size 640x480 with 1 Axes>"
      ]
     },
     "metadata": {},
     "output_type": "display_data"
    },
    {
     "name": "stdout",
     "output_type": "stream",
     "text": [
      "differentiate\n"
     ]
    },
    {
     "data": {
      "image/png": "[encoded data removed]",
      "text/plain": [
       "<Figure size 640x480 with 1 Axes>"
      ]
     },
     "metadata": {},
     "output_type": "display_data"
    },
    {
     "name": "stdout",
     "output_type": "stream",
     "text": [
      "Grade\n"
     ]
    },
    {
     "data": {
      "image/png": "[encoded data removed]",
      "text/plain": [
       "<Figure size 640x480 with 1 Axes>"
      ]
     },
     "metadata": {},
     "output_type": "display_data"
    },
    {
     "name": "stdout",
     "output_type": "stream",
     "text": [
      "A Stage\n"
     ]
    },
    {
     "data": {
      "image/png": "[encoded data removed]",
      "text/plain": [
       "<Figure size 640x480 with 1 Axes>"
      ]
     },
     "metadata": {},
     "output_type": "display_data"
    },
    {
     "name": "stdout",
     "output_type": "stream",
     "text": [
      "Tumor Size\n"
     ]
    },
    {
     "data": {
      "image/png": "[encoded data removed]",
      "text/plain": [
       "<Figure size 640x480 with 1 Axes>"
      ]
     },
     "metadata": {},
     "output_type": "display_data"
    },
    {
     "name": "stdout",
     "output_type": "stream",
     "text": [
      "Estrogen Status\n"
     ]
    },
    {
     "data": {
      "image/png": "[encoded data removed]",
      "text/plain": [
       "<Figure size 640x480 with 1 Axes>"
      ]
     },
     "metadata": {},
     "output_type": "display_data"
    },
    {
     "name": "stdout",
     "output_type": "stream",
     "text": [
      "Progesterone Status\n"
     ]
    },
    {
     "data": {
      "image/png": "[encoded data removed]",
      "text/plain": [
       "<Figure size 640x480 with 1 Axes>"
      ]
     },
     "metadata": {},
     "output_type": "display_data"
    },
    {
     "name": "stdout",
     "output_type": "stream",
     "text": [
      "Regional Node Examined\n"
     ]
    },
    {
     "data": {
      "image/png": "[encoded data removed]",
      "text/plain": [
       "<Figure size 640x480 with 1 Axes>"
      ]
     },
     "metadata": {},
     "output_type": "display_data"
    },
    {
     "name": "stdout",
     "output_type": "stream",
     "text": [
      "Reginol Node Positive\n"
     ]
    },
    {
     "data": {
      "image/png": "[encoded data removed]",
      "text/plain": [
       "<Figure size 640x480 with 1 Axes>"
      ]
     },
     "metadata": {},
     "output_type": "display_data"
    },
    {
     "name": "stdout",
     "output_type": "stream",
     "text": [
      "Survival Months\n"
     ]
    },
    {
     "data": {
      "image/png": "[encoded data removed]",
      "text/plain": [
       "<Figure size 640x480 with 1 Axes>"
      ]
     },
     "metadata": {},
     "output_type": "display_data"
    },
    {
     "name": "stdout",
     "output_type": "stream",
     "text": [
      "Status\n"
     ]
    },
    {
     "data": {
      "image/png": "[encoded data removed]",
      "text/plain": [
       "<Figure size 640x480 with 1 Axes>"
      ]
     },
     "metadata": {},
     "output_type": "display_data"
    }
   ],
   "source": [
    "for col in df.columns:\n",
    "    df[col].value_counts().plot.bar()\n",
    "    print(col)\n",
    "    plt.show()"
   ]
  },
  {
   "cell_type": "code",
   "execution_count": 13,
   "id": "0343e7fd",
   "metadata": {
    "execution": {
     "iopub.execute_input": "2024-11-05T19:00:24.560294Z",
     "iopub.status.busy": "2024-11-05T19:00:24.559096Z",
     "iopub.status.idle": "2024-11-05T19:00:24.574685Z",
     "shell.execute_reply": "2024-11-05T19:00:24.573515Z"
    },
    "papermill": {
     "duration": 0.045787,
     "end_time": "2024-11-05T19:00:24.577498",
     "exception": false,
     "start_time": "2024-11-05T19:00:24.531711",
     "status": "completed"
    },
    "tags": []
   },
   "outputs": [
    {
     "name": "stdout",
     "output_type": "stream",
     "text": [
      "Age\n",
      "[68 50 58 47 51 40 69 46 65 48 62 61 56 43 60 57 55 63 66 53 59 54 49 64\n",
      " 42 37 67 31 52 33 45 38 39 36 41 44 32 34 35 30]\n",
      "Race\n",
      "['White' 'Black' 'Other']\n",
      "Marital Status\n",
      "['Married' 'Divorced' 'Single ' 'Widowed' 'Separated']\n",
      "T Stage \n",
      "['T1' 'T2' 'T3' 'T4']\n",
      "N Stage\n",
      "['N1' 'N2' 'N3']\n",
      "6th Stage\n",
      "['IIA' 'IIIA' 'IIIC' 'IIB' 'IIIB']\n",
      "differentiate\n",
      "['Poorly differentiated' 'Moderately differentiated' 'Well differentiated'\n",
      " 'Undifferentiated']\n",
      "Grade\n",
      "['3' '2' '1' ' anaplastic; Grade IV']\n",
      "A Stage\n",
      "['Regional' 'Distant']\n",
      "Tumor Size\n",
      "[  4  35  63  18  41  20   8  30 103  32  13  59  15  19  46  24  25  29\n",
      "  40  70  22  50  17  21  10  27  23   5  51   9  55 120  77   2  11  12\n",
      "  26  75 130  34  80   3  60  14  16  45  36  76  38  49   7  72 100  43\n",
      "  62  37  68  52  85  57  39  28  48 110  65   6 105 140  42  31  90 108\n",
      "  98  47  54  61  74  33   1  87  81  58 117  44 123 133  95 107  92  69\n",
      "  56  82  66  78  97  88  53  83 101  84 115  73 125 104  94  86  64  96\n",
      "  79  67]\n",
      "Estrogen Status\n",
      "['Positive' 'Negative']\n",
      "Progesterone Status\n",
      "['Positive' 'Negative']\n",
      "Regional Node Examined\n",
      "[24 14  2  3 18 11  9 20 21 13 23 16  1 22 15  4 26 31 25 10  5  6 19 12\n",
      "  8 17  7 49 33 30 34 28 32 27 42 29 41 39 46 40 51 44 38 47 54 36 61 37\n",
      " 35 43 52 45 57 60]\n",
      "Reginol Node Positive\n",
      "[ 1  5  7  2 18 12  3 14 22 17 23  4 10  6  9  8 20 16 13 11 24 27 21 26\n",
      " 15 28 19 29 31 46 33 37 30 35 25 32 41 34]\n",
      "Survival Months\n",
      "[ 60  62  75  84  50  89  54  14  70  92  64  56  38  49 105 107  77  81\n",
      "  78 102  98  82  86  52  90  31  37 103  42  61  63  39  59  71  74  73\n",
      "  91 106  80  44  85  79 104  12  95  55 101  65  72  57  87  40  25   8\n",
      "  53  58  24  66  69  93  94 100  96  41  67  51  13  11  47  23  45  68\n",
      "  76  15  16  99   7  48  88  34  97  83  17   3  22  30   6  32   9   5\n",
      "  10  19  18  35  27  36   4  29  33  26  20  28  43   1  46  21   2]\n",
      "Status\n",
      "['Alive' 'Dead']\n"
     ]
    }
   ],
   "source": [
    "for i in df.columns:\n",
    "    print(i)\n",
    "    print(df[i].unique())\n",
    "    "
   ]
  },
  {
   "cell_type": "code",
   "execution_count": 14,
   "id": "bbb7d3ee",
   "metadata": {
    "execution": {
     "iopub.execute_input": "2024-11-05T19:00:24.629684Z",
     "iopub.status.busy": "2024-11-05T19:00:24.628849Z",
     "iopub.status.idle": "2024-11-05T19:00:24.646843Z",
     "shell.execute_reply": "2024-11-05T19:00:24.645351Z"
    },
    "papermill": {
     "duration": 0.046656,
     "end_time": "2024-11-05T19:00:24.649548",
     "exception": false,
     "start_time": "2024-11-05T19:00:24.602892",
     "status": "completed"
    },
    "tags": []
   },
   "outputs": [
    {
     "name": "stdout",
     "output_type": "stream",
     "text": [
      "<class 'pandas.core.frame.DataFrame'>\n",
      "Index: 4023 entries, 0 to 4023\n",
      "Data columns (total 16 columns):\n",
      " #   Column                  Non-Null Count  Dtype \n",
      "---  ------                  --------------  ----- \n",
      " 0   Age                     4023 non-null   int64 \n",
      " 1   Race                    4023 non-null   object\n",
      " 2   Marital Status          4023 non-null   object\n",
      " 3   T Stage                 4023 non-null   object\n",
      " 4   N Stage                 4023 non-null   object\n",
      " 5   6th Stage               4023 non-null   object\n",
      " 6   differentiate           4023 non-null   object\n",
      " 7   Grade                   4023 non-null   object\n",
      " 8   A Stage                 4023 non-null   object\n",
      " 9   Tumor Size              4023 non-null   int64 \n",
      " 10  Estrogen Status         4023 non-null   object\n",
      " 11  Progesterone Status     4023 non-null   object\n",
      " 12  Regional Node Examined  4023 non-null   int64 \n",
      " 13  Reginol Node Positive   4023 non-null   int64 \n",
      " 14  Survival Months         4023 non-null   int64 \n",
      " 15  Status                  4023 non-null   object\n",
      "dtypes: int64(5), object(11)\n",
      "memory usage: 534.3+ KB\n"
     ]
    }
   ],
   "source": [
    "df.info()"
   ]
  },
  {
   "cell_type": "code",
   "execution_count": 15,
   "id": "a60b3d25",
   "metadata": {
    "execution": {
     "iopub.execute_input": "2024-11-05T19:00:24.701557Z",
     "iopub.status.busy": "2024-11-05T19:00:24.701048Z",
     "iopub.status.idle": "2024-11-05T19:00:24.709217Z",
     "shell.execute_reply": "2024-11-05T19:00:24.707933Z"
    },
    "papermill": {
     "duration": 0.036987,
     "end_time": "2024-11-05T19:00:24.711622",
     "exception": false,
     "start_time": "2024-11-05T19:00:24.674635",
     "status": "completed"
    },
    "tags": []
   },
   "outputs": [
    {
     "data": {
      "text/plain": [
       "Index(['Age', 'Race', 'Marital Status', 'T Stage ', 'N Stage', '6th Stage',\n",
       "       'differentiate', 'Grade', 'A Stage', 'Tumor Size', 'Estrogen Status',\n",
       "       'Progesterone Status', 'Regional Node Examined',\n",
       "       'Reginol Node Positive', 'Survival Months', 'Status'],\n",
       "      dtype='object')"
      ]
     },
     "execution_count": 15,
     "metadata": {},
     "output_type": "execute_result"
    }
   ],
   "source": [
    "df.columns"
   ]
  },
  {
   "cell_type": "code",
   "execution_count": 16,
   "id": "c2cd0175",
   "metadata": {
    "execution": {
     "iopub.execute_input": "2024-11-05T19:00:24.763937Z",
     "iopub.status.busy": "2024-11-05T19:00:24.763486Z",
     "iopub.status.idle": "2024-11-05T19:00:24.926837Z",
     "shell.execute_reply": "2024-11-05T19:00:24.925487Z"
    },
    "papermill": {
     "duration": 0.193112,
     "end_time": "2024-11-05T19:00:24.929958",
     "exception": false,
     "start_time": "2024-11-05T19:00:24.736846",
     "status": "completed"
    },
    "tags": []
   },
   "outputs": [],
   "source": [
    "from sklearn import preprocessing\n",
    "label_encoder = preprocessing.LabelEncoder()"
   ]
  },
  {
   "cell_type": "code",
   "execution_count": 17,
   "id": "83022459",
   "metadata": {
    "execution": {
     "iopub.execute_input": "2024-11-05T19:00:24.982967Z",
     "iopub.status.busy": "2024-11-05T19:00:24.982510Z",
     "iopub.status.idle": "2024-11-05T19:00:24.990326Z",
     "shell.execute_reply": "2024-11-05T19:00:24.989084Z"
    },
    "papermill": {
     "duration": 0.036991,
     "end_time": "2024-11-05T19:00:24.992751",
     "exception": false,
     "start_time": "2024-11-05T19:00:24.955760",
     "status": "completed"
    },
    "tags": []
   },
   "outputs": [],
   "source": [
    "df['Race']= label_encoder.fit_transform(df['Race'])"
   ]
  },
  {
   "cell_type": "code",
   "execution_count": 18,
   "id": "0faeb108",
   "metadata": {
    "execution": {
     "iopub.execute_input": "2024-11-05T19:00:25.046300Z",
     "iopub.status.busy": "2024-11-05T19:00:25.045808Z",
     "iopub.status.idle": "2024-11-05T19:00:25.053795Z",
     "shell.execute_reply": "2024-11-05T19:00:25.052598Z"
    },
    "papermill": {
     "duration": 0.037926,
     "end_time": "2024-11-05T19:00:25.056468",
     "exception": false,
     "start_time": "2024-11-05T19:00:25.018542",
     "status": "completed"
    },
    "tags": []
   },
   "outputs": [],
   "source": [
    "df['Marital Status']= label_encoder.fit_transform(df['Marital Status'])"
   ]
  },
  {
   "cell_type": "code",
   "execution_count": 19,
   "id": "f89f6728",
   "metadata": {
    "execution": {
     "iopub.execute_input": "2024-11-05T19:00:25.109166Z",
     "iopub.status.busy": "2024-11-05T19:00:25.108686Z",
     "iopub.status.idle": "2024-11-05T19:00:25.116451Z",
     "shell.execute_reply": "2024-11-05T19:00:25.115259Z"
    },
    "papermill": {
     "duration": 0.036628,
     "end_time": "2024-11-05T19:00:25.118931",
     "exception": false,
     "start_time": "2024-11-05T19:00:25.082303",
     "status": "completed"
    },
    "tags": []
   },
   "outputs": [],
   "source": [
    "df['T Stage ']= label_encoder.fit_transform(df['T Stage '])"
   ]
  },
  {
   "cell_type": "code",
   "execution_count": 20,
   "id": "3842f7ae",
   "metadata": {
    "execution": {
     "iopub.execute_input": "2024-11-05T19:00:25.172754Z",
     "iopub.status.busy": "2024-11-05T19:00:25.172327Z",
     "iopub.status.idle": "2024-11-05T19:00:25.185664Z",
     "shell.execute_reply": "2024-11-05T19:00:25.184556Z"
    },
    "papermill": {
     "duration": 0.043804,
     "end_time": "2024-11-05T19:00:25.188193",
     "exception": false,
     "start_time": "2024-11-05T19:00:25.144389",
     "status": "completed"
    },
    "tags": []
   },
   "outputs": [],
   "source": [
    "df['N Stage']= label_encoder.fit_transform(df['N Stage'])\n",
    "df['6th Stage']= label_encoder.fit_transform(df['6th Stage'])\n",
    "df['differentiate']= label_encoder.fit_transform(df['differentiate'])\n",
    "df['Grade']= label_encoder.fit_transform(df['Grade'])"
   ]
  },
  {
   "cell_type": "code",
   "execution_count": 21,
   "id": "5642ad46",
   "metadata": {
    "execution": {
     "iopub.execute_input": "2024-11-05T19:00:25.240924Z",
     "iopub.status.busy": "2024-11-05T19:00:25.240453Z",
     "iopub.status.idle": "2024-11-05T19:00:25.259185Z",
     "shell.execute_reply": "2024-11-05T19:00:25.258110Z"
    },
    "papermill": {
     "duration": 0.047944,
     "end_time": "2024-11-05T19:00:25.261617",
     "exception": false,
     "start_time": "2024-11-05T19:00:25.213673",
     "status": "completed"
    },
    "tags": []
   },
   "outputs": [
    {
     "data": {
      "text/html": [
       "<div>\n",
       "<style scoped>\n",
       "    .dataframe tbody tr th:only-of-type {\n",
       "        vertical-align: middle;\n",
       "    }\n",
       "\n",
       "    .dataframe tbody tr th {\n",
       "        vertical-align: top;\n",
       "    }\n",
       "\n",
       "    .dataframe thead th {\n",
       "        text-align: right;\n",
       "    }\n",
       "</style>\n",
       "<table border=\"1\" class=\"dataframe\">\n",
       "  <thead>\n",
       "    <tr style=\"text-align: right;\">\n",
       "      <th></th>\n",
       "      <th>Age</th>\n",
       "      <th>Race</th>\n",
       "      <th>Marital Status</th>\n",
       "      <th>T Stage</th>\n",
       "      <th>N Stage</th>\n",
       "      <th>6th Stage</th>\n",
       "      <th>differentiate</th>\n",
       "      <th>Grade</th>\n",
       "      <th>A Stage</th>\n",
       "      <th>Tumor Size</th>\n",
       "      <th>Estrogen Status</th>\n",
       "      <th>Progesterone Status</th>\n",
       "      <th>Regional Node Examined</th>\n",
       "      <th>Reginol Node Positive</th>\n",
       "      <th>Survival Months</th>\n",
       "      <th>Status</th>\n",
       "    </tr>\n",
       "  </thead>\n",
       "  <tbody>\n",
       "    <tr>\n",
       "      <th>0</th>\n",
       "      <td>68</td>\n",
       "      <td>2</td>\n",
       "      <td>1</td>\n",
       "      <td>0</td>\n",
       "      <td>0</td>\n",
       "      <td>0</td>\n",
       "      <td>1</td>\n",
       "      <td>3</td>\n",
       "      <td>Regional</td>\n",
       "      <td>4</td>\n",
       "      <td>Positive</td>\n",
       "      <td>Positive</td>\n",
       "      <td>24</td>\n",
       "      <td>1</td>\n",
       "      <td>60</td>\n",
       "      <td>Alive</td>\n",
       "    </tr>\n",
       "    <tr>\n",
       "      <th>1</th>\n",
       "      <td>50</td>\n",
       "      <td>2</td>\n",
       "      <td>1</td>\n",
       "      <td>1</td>\n",
       "      <td>1</td>\n",
       "      <td>2</td>\n",
       "      <td>0</td>\n",
       "      <td>2</td>\n",
       "      <td>Regional</td>\n",
       "      <td>35</td>\n",
       "      <td>Positive</td>\n",
       "      <td>Positive</td>\n",
       "      <td>14</td>\n",
       "      <td>5</td>\n",
       "      <td>62</td>\n",
       "      <td>Alive</td>\n",
       "    </tr>\n",
       "    <tr>\n",
       "      <th>2</th>\n",
       "      <td>58</td>\n",
       "      <td>2</td>\n",
       "      <td>0</td>\n",
       "      <td>2</td>\n",
       "      <td>2</td>\n",
       "      <td>4</td>\n",
       "      <td>0</td>\n",
       "      <td>2</td>\n",
       "      <td>Regional</td>\n",
       "      <td>63</td>\n",
       "      <td>Positive</td>\n",
       "      <td>Positive</td>\n",
       "      <td>14</td>\n",
       "      <td>7</td>\n",
       "      <td>75</td>\n",
       "      <td>Alive</td>\n",
       "    </tr>\n",
       "    <tr>\n",
       "      <th>3</th>\n",
       "      <td>58</td>\n",
       "      <td>2</td>\n",
       "      <td>1</td>\n",
       "      <td>0</td>\n",
       "      <td>0</td>\n",
       "      <td>0</td>\n",
       "      <td>1</td>\n",
       "      <td>3</td>\n",
       "      <td>Regional</td>\n",
       "      <td>18</td>\n",
       "      <td>Positive</td>\n",
       "      <td>Positive</td>\n",
       "      <td>2</td>\n",
       "      <td>1</td>\n",
       "      <td>84</td>\n",
       "      <td>Alive</td>\n",
       "    </tr>\n",
       "    <tr>\n",
       "      <th>4</th>\n",
       "      <td>47</td>\n",
       "      <td>2</td>\n",
       "      <td>1</td>\n",
       "      <td>1</td>\n",
       "      <td>0</td>\n",
       "      <td>1</td>\n",
       "      <td>1</td>\n",
       "      <td>3</td>\n",
       "      <td>Regional</td>\n",
       "      <td>41</td>\n",
       "      <td>Positive</td>\n",
       "      <td>Positive</td>\n",
       "      <td>3</td>\n",
       "      <td>1</td>\n",
       "      <td>50</td>\n",
       "      <td>Alive</td>\n",
       "    </tr>\n",
       "  </tbody>\n",
       "</table>\n",
       "</div>"
      ],
      "text/plain": [
       "   Age  Race  Marital Status  T Stage   N Stage  6th Stage  differentiate  \\\n",
       "0   68     2               1         0        0          0              1   \n",
       "1   50     2               1         1        1          2              0   \n",
       "2   58     2               0         2        2          4              0   \n",
       "3   58     2               1         0        0          0              1   \n",
       "4   47     2               1         1        0          1              1   \n",
       "\n",
       "   Grade   A Stage  Tumor Size Estrogen Status Progesterone Status  \\\n",
       "0      3  Regional           4        Positive            Positive   \n",
       "1      2  Regional          35        Positive            Positive   \n",
       "2      2  Regional          63        Positive            Positive   \n",
       "3      3  Regional          18        Positive            Positive   \n",
       "4      3  Regional          41        Positive            Positive   \n",
       "\n",
       "   Regional Node Examined  Reginol Node Positive  Survival Months Status  \n",
       "0                      24                      1               60  Alive  \n",
       "1                      14                      5               62  Alive  \n",
       "2                      14                      7               75  Alive  \n",
       "3                       2                      1               84  Alive  \n",
       "4                       3                      1               50  Alive  "
      ]
     },
     "execution_count": 21,
     "metadata": {},
     "output_type": "execute_result"
    }
   ],
   "source": [
    "df.head()"
   ]
  },
  {
   "cell_type": "code",
   "execution_count": 22,
   "id": "498f5342",
   "metadata": {
    "execution": {
     "iopub.execute_input": "2024-11-05T19:00:25.315132Z",
     "iopub.status.busy": "2024-11-05T19:00:25.314689Z",
     "iopub.status.idle": "2024-11-05T19:00:25.325989Z",
     "shell.execute_reply": "2024-11-05T19:00:25.324809Z"
    },
    "papermill": {
     "duration": 0.041361,
     "end_time": "2024-11-05T19:00:25.328517",
     "exception": false,
     "start_time": "2024-11-05T19:00:25.287156",
     "status": "completed"
    },
    "tags": []
   },
   "outputs": [],
   "source": [
    "df['A Stage']= label_encoder.fit_transform(df['A Stage'])\n",
    "\n",
    "df['Estrogen Status']= label_encoder.fit_transform(df['Estrogen Status'])\n",
    "df['Progesterone Status']= label_encoder.fit_transform(df['Progesterone Status'])\n",
    "\n"
   ]
  },
  {
   "cell_type": "code",
   "execution_count": 23,
   "id": "c70bcb84",
   "metadata": {
    "execution": {
     "iopub.execute_input": "2024-11-05T19:00:25.381588Z",
     "iopub.status.busy": "2024-11-05T19:00:25.380657Z",
     "iopub.status.idle": "2024-11-05T19:00:25.395327Z",
     "shell.execute_reply": "2024-11-05T19:00:25.394002Z"
    },
    "papermill": {
     "duration": 0.044473,
     "end_time": "2024-11-05T19:00:25.398336",
     "exception": false,
     "start_time": "2024-11-05T19:00:25.353863",
     "status": "completed"
    },
    "tags": []
   },
   "outputs": [
    {
     "name": "stdout",
     "output_type": "stream",
     "text": [
      "<class 'pandas.core.frame.DataFrame'>\n",
      "Index: 4023 entries, 0 to 4023\n",
      "Data columns (total 16 columns):\n",
      " #   Column                  Non-Null Count  Dtype \n",
      "---  ------                  --------------  ----- \n",
      " 0   Age                     4023 non-null   int64 \n",
      " 1   Race                    4023 non-null   int64 \n",
      " 2   Marital Status          4023 non-null   int64 \n",
      " 3   T Stage                 4023 non-null   int64 \n",
      " 4   N Stage                 4023 non-null   int64 \n",
      " 5   6th Stage               4023 non-null   int64 \n",
      " 6   differentiate           4023 non-null   int64 \n",
      " 7   Grade                   4023 non-null   int64 \n",
      " 8   A Stage                 4023 non-null   int64 \n",
      " 9   Tumor Size              4023 non-null   int64 \n",
      " 10  Estrogen Status         4023 non-null   int64 \n",
      " 11  Progesterone Status     4023 non-null   int64 \n",
      " 12  Regional Node Examined  4023 non-null   int64 \n",
      " 13  Reginol Node Positive   4023 non-null   int64 \n",
      " 14  Survival Months         4023 non-null   int64 \n",
      " 15  Status                  4023 non-null   object\n",
      "dtypes: int64(15), object(1)\n",
      "memory usage: 534.3+ KB\n"
     ]
    }
   ],
   "source": [
    "df.info()"
   ]
  },
  {
   "cell_type": "code",
   "execution_count": 24,
   "id": "1ce7fbd6",
   "metadata": {
    "execution": {
     "iopub.execute_input": "2024-11-05T19:00:25.451544Z",
     "iopub.status.busy": "2024-11-05T19:00:25.451058Z",
     "iopub.status.idle": "2024-11-05T19:00:25.458914Z",
     "shell.execute_reply": "2024-11-05T19:00:25.457691Z"
    },
    "papermill": {
     "duration": 0.03766,
     "end_time": "2024-11-05T19:00:25.461574",
     "exception": false,
     "start_time": "2024-11-05T19:00:25.423914",
     "status": "completed"
    },
    "tags": []
   },
   "outputs": [],
   "source": [
    "y = df['Status']\n",
    "X = df.drop('Status' , axis = 1)"
   ]
  },
  {
   "cell_type": "code",
   "execution_count": 25,
   "id": "9827e396",
   "metadata": {
    "execution": {
     "iopub.execute_input": "2024-11-05T19:00:25.515208Z",
     "iopub.status.busy": "2024-11-05T19:00:25.514282Z",
     "iopub.status.idle": "2024-11-05T19:00:25.526204Z",
     "shell.execute_reply": "2024-11-05T19:00:25.525165Z"
    },
    "papermill": {
     "duration": 0.041283,
     "end_time": "2024-11-05T19:00:25.528856",
     "exception": false,
     "start_time": "2024-11-05T19:00:25.487573",
     "status": "completed"
    },
    "tags": []
   },
   "outputs": [],
   "source": [
    "from sklearn.preprocessing import MinMaxScaler\n",
    "X = MinMaxScaler().fit_transform(X)"
   ]
  },
  {
   "cell_type": "code",
   "execution_count": 26,
   "id": "6461b3c9",
   "metadata": {
    "execution": {
     "iopub.execute_input": "2024-11-05T19:00:25.583488Z",
     "iopub.status.busy": "2024-11-05T19:00:25.582551Z",
     "iopub.status.idle": "2024-11-05T19:00:25.690616Z",
     "shell.execute_reply": "2024-11-05T19:00:25.689385Z"
    },
    "papermill": {
     "duration": 0.138846,
     "end_time": "2024-11-05T19:00:25.693494",
     "exception": false,
     "start_time": "2024-11-05T19:00:25.554648",
     "status": "completed"
    },
    "tags": []
   },
   "outputs": [],
   "source": [
    "from sklearn.model_selection import train_test_split\n",
    "X_train, X_test, y_train, y_test = train_test_split(X, y, test_size = 0.20)"
   ]
  },
  {
   "cell_type": "code",
   "execution_count": 27,
   "id": "9773652e",
   "metadata": {
    "execution": {
     "iopub.execute_input": "2024-11-05T19:00:25.747197Z",
     "iopub.status.busy": "2024-11-05T19:00:25.746043Z",
     "iopub.status.idle": "2024-11-05T19:00:25.754016Z",
     "shell.execute_reply": "2024-11-05T19:00:25.752895Z"
    },
    "papermill": {
     "duration": 0.037533,
     "end_time": "2024-11-05T19:00:25.756529",
     "exception": false,
     "start_time": "2024-11-05T19:00:25.718996",
     "status": "completed"
    },
    "tags": []
   },
   "outputs": [
    {
     "data": {
      "text/plain": [
       "((3218, 15), (805, 15), (3218,), (805,))"
      ]
     },
     "execution_count": 27,
     "metadata": {},
     "output_type": "execute_result"
    }
   ],
   "source": [
    "X_train.shape, X_test.shape, y_train.shape, y_test.shape"
   ]
  },
  {
   "cell_type": "code",
   "execution_count": 28,
   "id": "75a6961e",
   "metadata": {
    "execution": {
     "iopub.execute_input": "2024-11-05T19:00:25.810399Z",
     "iopub.status.busy": "2024-11-05T19:00:25.809924Z",
     "iopub.status.idle": "2024-11-05T19:00:25.817480Z",
     "shell.execute_reply": "2024-11-05T19:00:25.816263Z"
    },
    "papermill": {
     "duration": 0.037824,
     "end_time": "2024-11-05T19:00:25.820254",
     "exception": false,
     "start_time": "2024-11-05T19:00:25.782430",
     "status": "completed"
    },
    "tags": []
   },
   "outputs": [],
   "source": [
    "df['Status']= label_encoder.fit_transform(df['Status'])"
   ]
  },
  {
   "cell_type": "code",
   "execution_count": 29,
   "id": "e7f9a82a",
   "metadata": {
    "execution": {
     "iopub.execute_input": "2024-11-05T19:00:25.874001Z",
     "iopub.status.busy": "2024-11-05T19:00:25.872798Z",
     "iopub.status.idle": "2024-11-05T19:00:25.882257Z",
     "shell.execute_reply": "2024-11-05T19:00:25.881083Z"
    },
    "papermill": {
     "duration": 0.038688,
     "end_time": "2024-11-05T19:00:25.884685",
     "exception": false,
     "start_time": "2024-11-05T19:00:25.845997",
     "status": "completed"
    },
    "tags": []
   },
   "outputs": [
    {
     "data": {
      "text/plain": [
       "Status\n",
       "0    3407\n",
       "1     616\n",
       "Name: count, dtype: int64"
      ]
     },
     "execution_count": 29,
     "metadata": {},
     "output_type": "execute_result"
    }
   ],
   "source": [
    "df['Status'].value_counts()"
   ]
  },
  {
   "cell_type": "code",
   "execution_count": 30,
   "id": "bb9c2326",
   "metadata": {
    "execution": {
     "iopub.execute_input": "2024-11-05T19:00:25.938458Z",
     "iopub.status.busy": "2024-11-05T19:00:25.937957Z",
     "iopub.status.idle": "2024-11-05T19:00:26.181870Z",
     "shell.execute_reply": "2024-11-05T19:00:26.180854Z"
    },
    "papermill": {
     "duration": 0.274322,
     "end_time": "2024-11-05T19:00:26.185006",
     "exception": false,
     "start_time": "2024-11-05T19:00:25.910684",
     "status": "completed"
    },
    "tags": []
   },
   "outputs": [],
   "source": [
    "from sklearn.linear_model import LogisticRegression\n",
    "from sklearn.metrics import classification_report, confusion_matrix , mean_absolute_error\n",
    "from sklearn.metrics import accuracy_score"
   ]
  },
  {
   "cell_type": "code",
   "execution_count": 31,
   "id": "b4b35e9b",
   "metadata": {
    "execution": {
     "iopub.execute_input": "2024-11-05T19:00:26.239245Z",
     "iopub.status.busy": "2024-11-05T19:00:26.238770Z",
     "iopub.status.idle": "2024-11-05T19:00:26.244241Z",
     "shell.execute_reply": "2024-11-05T19:00:26.242933Z"
    },
    "papermill": {
     "duration": 0.035319,
     "end_time": "2024-11-05T19:00:26.246776",
     "exception": false,
     "start_time": "2024-11-05T19:00:26.211457",
     "status": "completed"
    },
    "tags": []
   },
   "outputs": [],
   "source": [
    "LRModel = LogisticRegression( max_iter=100)"
   ]
  },
  {
   "cell_type": "code",
   "execution_count": 32,
   "id": "2df33d1a",
   "metadata": {
    "execution": {
     "iopub.execute_input": "2024-11-05T19:00:26.301389Z",
     "iopub.status.busy": "2024-11-05T19:00:26.300813Z",
     "iopub.status.idle": "2024-11-05T19:00:26.371841Z",
     "shell.execute_reply": "2024-11-05T19:00:26.370300Z"
    },
    "papermill": {
     "duration": 0.102958,
     "end_time": "2024-11-05T19:00:26.376070",
     "exception": false,
     "start_time": "2024-11-05T19:00:26.273112",
     "status": "completed"
    },
    "tags": []
   },
   "outputs": [
    {
     "data": {
      "text/html": [
       "<style>#sk-container-id-1 {color: black;background-color: white;}#sk-container-id-1 pre{padding: 0;}#sk-container-id-1 div.sk-toggleable {background-color: white;}#sk-container-id-1 label.sk-toggleable__label {cursor: pointer;display: block;width: 100%;margin-bottom: 0;padding: 0.3em;box-sizing: border-box;text-align: center;}#sk-container-id-1 label.sk-toggleable__label-arrow:before {content: \"▸\";float: left;margin-right: 0.25em;color: #696969;}#sk-container-id-1 label.sk-toggleable__label-arrow:hover:before {color: black;}#sk-container-id-1 div.sk-estimator:hover label.sk-toggleable__label-arrow:before {color: black;}#sk-container-id-1 div.sk-toggleable__content {max-height: 0;max-width: 0;overflow: hidden;text-align: left;background-color: #f0f8ff;}#sk-container-id-1 div.sk-toggleable__content pre {margin: 0.2em;color: black;border-radius: 0.25em;background-color: #f0f8ff;}#sk-container-id-1 input.sk-toggleable__control:checked~div.sk-toggleable__content {max-height: 200px;max-width: 100%;overflow: auto;}#sk-container-id-1 input.sk-toggleable__control:checked~label.sk-toggleable__label-arrow:before {content: \"▾\";}#sk-container-id-1 div.sk-estimator input.sk-toggleable__control:checked~label.sk-toggleable__label {background-color: #d4ebff;}#sk-container-id-1 div.sk-label input.sk-toggleable__control:checked~label.sk-toggleable__label {background-color: #d4ebff;}#sk-container-id-1 input.sk-hidden--visually {border: 0;clip: rect(1px 1px 1px 1px);clip: rect(1px, 1px, 1px, 1px);height: 1px;margin: -1px;overflow: hidden;padding: 0;position: absolute;width: 1px;}#sk-container-id-1 div.sk-estimator {font-family: monospace;background-color: #f0f8ff;border: 1px dotted black;border-radius: 0.25em;box-sizing: border-box;margin-bottom: 0.5em;}#sk-container-id-1 div.sk-estimator:hover {background-color: #d4ebff;}#sk-container-id-1 div.sk-parallel-item::after {content: \"\";width: 100%;border-bottom: 1px solid gray;flex-grow: 1;}#sk-container-id-1 div.sk-label:hover label.sk-toggleable__label {background-color: #d4ebff;}#sk-container-id-1 div.sk-serial::before {content: \"\";position: absolute;border-left: 1px solid gray;box-sizing: border-box;top: 0;bottom: 0;left: 50%;z-index: 0;}#sk-container-id-1 div.sk-serial {display: flex;flex-direction: column;align-items: center;background-color: white;padding-right: 0.2em;padding-left: 0.2em;position: relative;}#sk-container-id-1 div.sk-item {position: relative;z-index: 1;}#sk-container-id-1 div.sk-parallel {display: flex;align-items: stretch;justify-content: center;background-color: white;position: relative;}#sk-container-id-1 div.sk-item::before, #sk-container-id-1 div.sk-parallel-item::before {content: \"\";position: absolute;border-left: 1px solid gray;box-sizing: border-box;top: 0;bottom: 0;left: 50%;z-index: -1;}#sk-container-id-1 div.sk-parallel-item {display: flex;flex-direction: column;z-index: 1;position: relative;background-color: white;}#sk-container-id-1 div.sk-parallel-item:first-child::after {align-self: flex-end;width: 50%;}#sk-container-id-1 div.sk-parallel-item:last-child::after {align-self: flex-start;width: 50%;}#sk-container-id-1 div.sk-parallel-item:only-child::after {width: 0;}#sk-container-id-1 div.sk-dashed-wrapped {border: 1px dashed gray;margin: 0 0.4em 0.5em 0.4em;box-sizing: border-box;padding-bottom: 0.4em;background-color: white;}#sk-container-id-1 div.sk-label label {font-family: monospace;font-weight: bold;display: inline-block;line-height: 1.2em;}#sk-container-id-1 div.sk-label-container {text-align: center;}#sk-container-id-1 div.sk-container {/* jupyter's `normalize.less` sets `[hidden] { display: none; }` but bootstrap.min.css set `[hidden] { display: none !important; }` so we also need the `!important` here to be able to override the default hidden behavior on the sphinx rendered scikit-learn.org. See: https://github.com/scikit-learn/scikit-learn/issues/21755 */display: inline-block !important;position: relative;}#sk-container-id-1 div.sk-text-repr-fallback {display: none;}</style><div id=\"sk-container-id-1\" class=\"sk-top-container\"><div class=\"sk-text-repr-fallback\"><pre>LogisticRegression()</pre><b>In a Jupyter environment, please rerun this cell to show the HTML representation or trust the notebook. <br />On GitHub, the HTML representation is unable to render, please try loading this page with nbviewer.org.</b></div><div class=\"sk-container\" hidden><div class=\"sk-item\"><div class=\"sk-estimator sk-toggleable\"><input class=\"sk-toggleable__control sk-hidden--visually\" id=\"sk-estimator-id-1\" type=\"checkbox\" checked><label for=\"sk-estimator-id-1\" class=\"sk-toggleable__label sk-toggleable__label-arrow\">LogisticRegression</label><div class=\"sk-toggleable__content\"><pre>LogisticRegression()</pre></div></div></div></div></div>"
      ],
      "text/plain": [
       "LogisticRegression()"
      ]
     },
     "execution_count": 32,
     "metadata": {},
     "output_type": "execute_result"
    }
   ],
   "source": [
    "LRModel.fit(X_train , y_train)"
   ]
  },
  {
   "cell_type": "code",
   "execution_count": 33,
   "id": "9608598c",
   "metadata": {
    "execution": {
     "iopub.execute_input": "2024-11-05T19:00:26.486758Z",
     "iopub.status.busy": "2024-11-05T19:00:26.486333Z",
     "iopub.status.idle": "2024-11-05T19:00:26.521425Z",
     "shell.execute_reply": "2024-11-05T19:00:26.519895Z"
    },
    "papermill": {
     "duration": 0.093641,
     "end_time": "2024-11-05T19:00:26.526077",
     "exception": false,
     "start_time": "2024-11-05T19:00:26.432436",
     "status": "completed"
    },
    "tags": []
   },
   "outputs": [
    {
     "data": {
      "text/plain": [
       "0.8958980733374767"
      ]
     },
     "execution_count": 33,
     "metadata": {},
     "output_type": "execute_result"
    }
   ],
   "source": [
    "LRModel.score(X_train , y_train)"
   ]
  },
  {
   "cell_type": "code",
   "execution_count": 34,
   "id": "5076723a",
   "metadata": {
    "execution": {
     "iopub.execute_input": "2024-11-05T19:00:26.626265Z",
     "iopub.status.busy": "2024-11-05T19:00:26.625785Z",
     "iopub.status.idle": "2024-11-05T19:00:26.634163Z",
     "shell.execute_reply": "2024-11-05T19:00:26.632691Z"
    },
    "papermill": {
     "duration": 0.054832,
     "end_time": "2024-11-05T19:00:26.638099",
     "exception": false,
     "start_time": "2024-11-05T19:00:26.583267",
     "status": "completed"
    },
    "tags": []
   },
   "outputs": [],
   "source": [
    "y_pred = LRModel.predict(X_test)"
   ]
  },
  {
   "cell_type": "code",
   "execution_count": 35,
   "id": "d01cb23b",
   "metadata": {
    "execution": {
     "iopub.execute_input": "2024-11-05T19:00:26.750639Z",
     "iopub.status.busy": "2024-11-05T19:00:26.749861Z",
     "iopub.status.idle": "2024-11-05T19:00:26.766874Z",
     "shell.execute_reply": "2024-11-05T19:00:26.765320Z"
    },
    "papermill": {
     "duration": 0.07767,
     "end_time": "2024-11-05T19:00:26.770934",
     "exception": false,
     "start_time": "2024-11-05T19:00:26.693264",
     "status": "completed"
    },
    "tags": []
   },
   "outputs": [
    {
     "data": {
      "text/plain": [
       "0.8906832298136645"
      ]
     },
     "execution_count": 35,
     "metadata": {},
     "output_type": "execute_result"
    }
   ],
   "source": [
    "LRModel.score(X_test , y_test)"
   ]
  },
  {
   "cell_type": "code",
   "execution_count": 36,
   "id": "ba0d6496",
   "metadata": {
    "execution": {
     "iopub.execute_input": "2024-11-05T19:00:26.882243Z",
     "iopub.status.busy": "2024-11-05T19:00:26.881738Z",
     "iopub.status.idle": "2024-11-05T19:00:26.893742Z",
     "shell.execute_reply": "2024-11-05T19:00:26.892516Z"
    },
    "papermill": {
     "duration": 0.066238,
     "end_time": "2024-11-05T19:00:26.896227",
     "exception": false,
     "start_time": "2024-11-05T19:00:26.829989",
     "status": "completed"
    },
    "tags": []
   },
   "outputs": [
    {
     "data": {
      "text/plain": [
       "0.8906832298136645"
      ]
     },
     "execution_count": 36,
     "metadata": {},
     "output_type": "execute_result"
    }
   ],
   "source": [
    "accuracy_score(y_test , y_pred)"
   ]
  },
  {
   "cell_type": "code",
   "execution_count": 37,
   "id": "56f9f121",
   "metadata": {
    "execution": {
     "iopub.execute_input": "2024-11-05T19:00:26.952927Z",
     "iopub.status.busy": "2024-11-05T19:00:26.952460Z",
     "iopub.status.idle": "2024-11-05T19:00:26.967512Z",
     "shell.execute_reply": "2024-11-05T19:00:26.966005Z"
    },
    "papermill": {
     "duration": 0.046759,
     "end_time": "2024-11-05T19:00:26.970028",
     "exception": false,
     "start_time": "2024-11-05T19:00:26.923269",
     "status": "completed"
    },
    "tags": []
   },
   "outputs": [
    {
     "name": "stdout",
     "output_type": "stream",
     "text": [
      "[[664  19]\n",
      " [ 69  53]]\n"
     ]
    }
   ],
   "source": [
    "confusionmatrix = confusion_matrix(y_test , y_pred)\n",
    "print(confusionmatrix)"
   ]
  },
  {
   "cell_type": "code",
   "execution_count": 38,
   "id": "e52ded4d",
   "metadata": {
    "execution": {
     "iopub.execute_input": "2024-11-05T19:00:27.025967Z",
     "iopub.status.busy": "2024-11-05T19:00:27.025528Z",
     "iopub.status.idle": "2024-11-05T19:00:27.082836Z",
     "shell.execute_reply": "2024-11-05T19:00:27.081514Z"
    },
    "papermill": {
     "duration": 0.088607,
     "end_time": "2024-11-05T19:00:27.085758",
     "exception": false,
     "start_time": "2024-11-05T19:00:26.997151",
     "status": "completed"
    },
    "tags": []
   },
   "outputs": [],
   "source": [
    "classificationreport = classification_report(y_test , y_pred)"
   ]
  },
  {
   "cell_type": "code",
   "execution_count": 39,
   "id": "01ad6ee0",
   "metadata": {
    "execution": {
     "iopub.execute_input": "2024-11-05T19:00:27.142361Z",
     "iopub.status.busy": "2024-11-05T19:00:27.141858Z",
     "iopub.status.idle": "2024-11-05T19:00:27.148202Z",
     "shell.execute_reply": "2024-11-05T19:00:27.146914Z"
    },
    "papermill": {
     "duration": 0.037898,
     "end_time": "2024-11-05T19:00:27.150929",
     "exception": false,
     "start_time": "2024-11-05T19:00:27.113031",
     "status": "completed"
    },
    "tags": []
   },
   "outputs": [
    {
     "name": "stdout",
     "output_type": "stream",
     "text": [
      "              precision    recall  f1-score   support\n",
      "\n",
      "       Alive       0.91      0.97      0.94       683\n",
      "        Dead       0.74      0.43      0.55       122\n",
      "\n",
      "    accuracy                           0.89       805\n",
      "   macro avg       0.82      0.70      0.74       805\n",
      "weighted avg       0.88      0.89      0.88       805\n",
      "\n"
     ]
    }
   ],
   "source": [
    "print(classificationreport)"
   ]
  },
  {
   "cell_type": "code",
   "execution_count": 40,
   "id": "cf92d9f5",
   "metadata": {
    "execution": {
     "iopub.execute_input": "2024-11-05T19:00:27.210059Z",
     "iopub.status.busy": "2024-11-05T19:00:27.209145Z",
     "iopub.status.idle": "2024-11-05T19:00:27.214798Z",
     "shell.execute_reply": "2024-11-05T19:00:27.213526Z"
    },
    "papermill": {
     "duration": 0.037064,
     "end_time": "2024-11-05T19:00:27.217300",
     "exception": false,
     "start_time": "2024-11-05T19:00:27.180236",
     "status": "completed"
    },
    "tags": []
   },
   "outputs": [],
   "source": [
    "from sklearn.svm import SVC"
   ]
  },
  {
   "cell_type": "code",
   "execution_count": 41,
   "id": "e2ebefb4",
   "metadata": {
    "execution": {
     "iopub.execute_input": "2024-11-05T19:00:27.274436Z",
     "iopub.status.busy": "2024-11-05T19:00:27.273911Z",
     "iopub.status.idle": "2024-11-05T19:00:27.279537Z",
     "shell.execute_reply": "2024-11-05T19:00:27.278315Z"
    },
    "papermill": {
     "duration": 0.036624,
     "end_time": "2024-11-05T19:00:27.281950",
     "exception": false,
     "start_time": "2024-11-05T19:00:27.245326",
     "status": "completed"
    },
    "tags": []
   },
   "outputs": [],
   "source": [
    "SCModel = SVC(kernel='poly')"
   ]
  },
  {
   "cell_type": "code",
   "execution_count": 42,
   "id": "ef296278",
   "metadata": {
    "execution": {
     "iopub.execute_input": "2024-11-05T19:00:27.340134Z",
     "iopub.status.busy": "2024-11-05T19:00:27.339100Z",
     "iopub.status.idle": "2024-11-05T19:00:27.550220Z",
     "shell.execute_reply": "2024-11-05T19:00:27.548930Z"
    },
    "papermill": {
     "duration": 0.243413,
     "end_time": "2024-11-05T19:00:27.552943",
     "exception": false,
     "start_time": "2024-11-05T19:00:27.309530",
     "status": "completed"
    },
    "tags": []
   },
   "outputs": [
    {
     "data": {
      "text/html": [
       "<style>#sk-container-id-2 {color: black;background-color: white;}#sk-container-id-2 pre{padding: 0;}#sk-container-id-2 div.sk-toggleable {background-color: white;}#sk-container-id-2 label.sk-toggleable__label {cursor: pointer;display: block;width: 100%;margin-bottom: 0;padding: 0.3em;box-sizing: border-box;text-align: center;}#sk-container-id-2 label.sk-toggleable__label-arrow:before {content: \"▸\";float: left;margin-right: 0.25em;color: #696969;}#sk-container-id-2 label.sk-toggleable__label-arrow:hover:before {color: black;}#sk-container-id-2 div.sk-estimator:hover label.sk-toggleable__label-arrow:before {color: black;}#sk-container-id-2 div.sk-toggleable__content {max-height: 0;max-width: 0;overflow: hidden;text-align: left;background-color: #f0f8ff;}#sk-container-id-2 div.sk-toggleable__content pre {margin: 0.2em;color: black;border-radius: 0.25em;background-color: #f0f8ff;}#sk-container-id-2 input.sk-toggleable__control:checked~div.sk-toggleable__content {max-height: 200px;max-width: 100%;overflow: auto;}#sk-container-id-2 input.sk-toggleable__control:checked~label.sk-toggleable__label-arrow:before {content: \"▾\";}#sk-container-id-2 div.sk-estimator input.sk-toggleable__control:checked~label.sk-toggleable__label {background-color: #d4ebff;}#sk-container-id-2 div.sk-label input.sk-toggleable__control:checked~label.sk-toggleable__label {background-color: #d4ebff;}#sk-container-id-2 input.sk-hidden--visually {border: 0;clip: rect(1px 1px 1px 1px);clip: rect(1px, 1px, 1px, 1px);height: 1px;margin: -1px;overflow: hidden;padding: 0;position: absolute;width: 1px;}#sk-container-id-2 div.sk-estimator {font-family: monospace;background-color: #f0f8ff;border: 1px dotted black;border-radius: 0.25em;box-sizing: border-box;margin-bottom: 0.5em;}#sk-container-id-2 div.sk-estimator:hover {background-color: #d4ebff;}#sk-container-id-2 div.sk-parallel-item::after {content: \"\";width: 100%;border-bottom: 1px solid gray;flex-grow: 1;}#sk-container-id-2 div.sk-label:hover label.sk-toggleable__label {background-color: #d4ebff;}#sk-container-id-2 div.sk-serial::before {content: \"\";position: absolute;border-left: 1px solid gray;box-sizing: border-box;top: 0;bottom: 0;left: 50%;z-index: 0;}#sk-container-id-2 div.sk-serial {display: flex;flex-direction: column;align-items: center;background-color: white;padding-right: 0.2em;padding-left: 0.2em;position: relative;}#sk-container-id-2 div.sk-item {position: relative;z-index: 1;}#sk-container-id-2 div.sk-parallel {display: flex;align-items: stretch;justify-content: center;background-color: white;position: relative;}#sk-container-id-2 div.sk-item::before, #sk-container-id-2 div.sk-parallel-item::before {content: \"\";position: absolute;border-left: 1px solid gray;box-sizing: border-box;top: 0;bottom: 0;left: 50%;z-index: -1;}#sk-container-id-2 div.sk-parallel-item {display: flex;flex-direction: column;z-index: 1;position: relative;background-color: white;}#sk-container-id-2 div.sk-parallel-item:first-child::after {align-self: flex-end;width: 50%;}#sk-container-id-2 div.sk-parallel-item:last-child::after {align-self: flex-start;width: 50%;}#sk-container-id-2 div.sk-parallel-item:only-child::after {width: 0;}#sk-container-id-2 div.sk-dashed-wrapped {border: 1px dashed gray;margin: 0 0.4em 0.5em 0.4em;box-sizing: border-box;padding-bottom: 0.4em;background-color: white;}#sk-container-id-2 div.sk-label label {font-family: monospace;font-weight: bold;display: inline-block;line-height: 1.2em;}#sk-container-id-2 div.sk-label-container {text-align: center;}#sk-container-id-2 div.sk-container {/* jupyter's `normalize.less` sets `[hidden] { display: none; }` but bootstrap.min.css set `[hidden] { display: none !important; }` so we also need the `!important` here to be able to override the default hidden behavior on the sphinx rendered scikit-learn.org. See: https://github.com/scikit-learn/scikit-learn/issues/21755 */display: inline-block !important;position: relative;}#sk-container-id-2 div.sk-text-repr-fallback {display: none;}</style><div id=\"sk-container-id-2\" class=\"sk-top-container\"><div class=\"sk-text-repr-fallback\"><pre>SVC(kernel=&#x27;poly&#x27;)</pre><b>In a Jupyter environment, please rerun this cell to show the HTML representation or trust the notebook. <br />On GitHub, the HTML representation is unable to render, please try loading this page with nbviewer.org.</b></div><div class=\"sk-container\" hidden><div class=\"sk-item\"><div class=\"sk-estimator sk-toggleable\"><input class=\"sk-toggleable__control sk-hidden--visually\" id=\"sk-estimator-id-2\" type=\"checkbox\" checked><label for=\"sk-estimator-id-2\" class=\"sk-toggleable__label sk-toggleable__label-arrow\">SVC</label><div class=\"sk-toggleable__content\"><pre>SVC(kernel=&#x27;poly&#x27;)</pre></div></div></div></div></div>"
      ],
      "text/plain": [
       "SVC(kernel='poly')"
      ]
     },
     "execution_count": 42,
     "metadata": {},
     "output_type": "execute_result"
    }
   ],
   "source": [
    "SCModel.fit(X_train , y_train)"
   ]
  },
  {
   "cell_type": "code",
   "execution_count": 43,
   "id": "b1e55668",
   "metadata": {
    "execution": {
     "iopub.execute_input": "2024-11-05T19:00:27.610284Z",
     "iopub.status.busy": "2024-11-05T19:00:27.609807Z",
     "iopub.status.idle": "2024-11-05T19:00:27.718892Z",
     "shell.execute_reply": "2024-11-05T19:00:27.717634Z"
    },
    "papermill": {
     "duration": 0.141018,
     "end_time": "2024-11-05T19:00:27.721619",
     "exception": false,
     "start_time": "2024-11-05T19:00:27.580601",
     "status": "completed"
    },
    "tags": []
   },
   "outputs": [
    {
     "data": {
      "text/plain": [
       "0.899005593536358"
      ]
     },
     "execution_count": 43,
     "metadata": {},
     "output_type": "execute_result"
    }
   ],
   "source": [
    "SCModel.score(X_train , y_train)"
   ]
  },
  {
   "cell_type": "code",
   "execution_count": 44,
   "id": "4c7fb34c",
   "metadata": {
    "execution": {
     "iopub.execute_input": "2024-11-05T19:00:27.779400Z",
     "iopub.status.busy": "2024-11-05T19:00:27.778246Z",
     "iopub.status.idle": "2024-11-05T19:00:27.812082Z",
     "shell.execute_reply": "2024-11-05T19:00:27.810884Z"
    },
    "papermill": {
     "duration": 0.065475,
     "end_time": "2024-11-05T19:00:27.814812",
     "exception": false,
     "start_time": "2024-11-05T19:00:27.749337",
     "status": "completed"
    },
    "tags": []
   },
   "outputs": [
    {
     "data": {
      "text/plain": [
       "0.8819875776397516"
      ]
     },
     "execution_count": 44,
     "metadata": {},
     "output_type": "execute_result"
    }
   ],
   "source": [
    "SCModel.score(X_test, y_test)"
   ]
  },
  {
   "cell_type": "code",
   "execution_count": 45,
   "id": "38c90012",
   "metadata": {
    "execution": {
     "iopub.execute_input": "2024-11-05T19:00:27.871904Z",
     "iopub.status.busy": "2024-11-05T19:00:27.871469Z",
     "iopub.status.idle": "2024-11-05T19:00:27.899943Z",
     "shell.execute_reply": "2024-11-05T19:00:27.898638Z"
    },
    "papermill": {
     "duration": 0.060452,
     "end_time": "2024-11-05T19:00:27.902900",
     "exception": false,
     "start_time": "2024-11-05T19:00:27.842448",
     "status": "completed"
    },
    "tags": []
   },
   "outputs": [],
   "source": [
    "y_pres_SC = SCModel.predict(X_test)"
   ]
  },
  {
   "cell_type": "code",
   "execution_count": 46,
   "id": "7e4ee64e",
   "metadata": {
    "execution": {
     "iopub.execute_input": "2024-11-05T19:00:27.960917Z",
     "iopub.status.busy": "2024-11-05T19:00:27.960460Z",
     "iopub.status.idle": "2024-11-05T19:00:27.972395Z",
     "shell.execute_reply": "2024-11-05T19:00:27.970974Z"
    },
    "papermill": {
     "duration": 0.043967,
     "end_time": "2024-11-05T19:00:27.974916",
     "exception": false,
     "start_time": "2024-11-05T19:00:27.930949",
     "status": "completed"
    },
    "tags": []
   },
   "outputs": [
    {
     "data": {
      "text/plain": [
       "0.8819875776397516"
      ]
     },
     "execution_count": 46,
     "metadata": {},
     "output_type": "execute_result"
    }
   ],
   "source": [
    "accuracy_score(y_test , y_pres_SC)"
   ]
  },
  {
   "cell_type": "code",
   "execution_count": 47,
   "id": "d0f77228",
   "metadata": {
    "execution": {
     "iopub.execute_input": "2024-11-05T19:00:28.033292Z",
     "iopub.status.busy": "2024-11-05T19:00:28.032113Z",
     "iopub.status.idle": "2024-11-05T19:00:28.046039Z",
     "shell.execute_reply": "2024-11-05T19:00:28.045006Z"
    },
    "papermill": {
     "duration": 0.045709,
     "end_time": "2024-11-05T19:00:28.048471",
     "exception": false,
     "start_time": "2024-11-05T19:00:28.002762",
     "status": "completed"
    },
    "tags": []
   },
   "outputs": [
    {
     "data": {
      "text/plain": [
       "array([[666,  17],\n",
       "       [ 78,  44]])"
      ]
     },
     "execution_count": 47,
     "metadata": {},
     "output_type": "execute_result"
    }
   ],
   "source": [
    "confusion_matrix(y_test , y_pres_SC)"
   ]
  },
  {
   "cell_type": "code",
   "execution_count": 48,
   "id": "cb22ed04",
   "metadata": {
    "execution": {
     "iopub.execute_input": "2024-11-05T19:00:28.107081Z",
     "iopub.status.busy": "2024-11-05T19:00:28.106637Z",
     "iopub.status.idle": "2024-11-05T19:00:28.164909Z",
     "shell.execute_reply": "2024-11-05T19:00:28.163619Z"
    },
    "papermill": {
     "duration": 0.09137,
     "end_time": "2024-11-05T19:00:28.167859",
     "exception": false,
     "start_time": "2024-11-05T19:00:28.076489",
     "status": "completed"
    },
    "tags": []
   },
   "outputs": [],
   "source": [
    "classificationreport=classification_report(y_test , y_pres_SC)"
   ]
  },
  {
   "cell_type": "code",
   "execution_count": 49,
   "id": "ecf13f1a",
   "metadata": {
    "execution": {
     "iopub.execute_input": "2024-11-05T19:00:28.226980Z",
     "iopub.status.busy": "2024-11-05T19:00:28.226523Z",
     "iopub.status.idle": "2024-11-05T19:00:28.233245Z",
     "shell.execute_reply": "2024-11-05T19:00:28.231699Z"
    },
    "papermill": {
     "duration": 0.039721,
     "end_time": "2024-11-05T19:00:28.236240",
     "exception": false,
     "start_time": "2024-11-05T19:00:28.196519",
     "status": "completed"
    },
    "tags": []
   },
   "outputs": [
    {
     "name": "stdout",
     "output_type": "stream",
     "text": [
      "              precision    recall  f1-score   support\n",
      "\n",
      "       Alive       0.90      0.98      0.93       683\n",
      "        Dead       0.72      0.36      0.48       122\n",
      "\n",
      "    accuracy                           0.88       805\n",
      "   macro avg       0.81      0.67      0.71       805\n",
      "weighted avg       0.87      0.88      0.86       805\n",
      "\n"
     ]
    }
   ],
   "source": [
    "print(classificationreport)"
   ]
  },
  {
   "cell_type": "code",
   "execution_count": null,
   "id": "fd87a436",
   "metadata": {
    "papermill": {
     "duration": 0.028292,
     "end_time": "2024-11-05T19:00:28.293065",
     "exception": false,
     "start_time": "2024-11-05T19:00:28.264773",
     "status": "completed"
    },
    "tags": []
   },
   "outputs": [],
   "source": []
  }
 ],
 "metadata": {
  "kaggle": {
   "accelerator": "none",
   "dataSources": [
    {
     "datasetId": 2396275,
     "sourceId": 4045493,
     "sourceType": "datasetVersion"
    }
   ],
   "dockerImageVersionId": 30786,
   "isGpuEnabled": false,
   "isInternetEnabled": false,
   "language": "python",
   "sourceType": "notebook"
  },
  "kernelspec": {
   "display_name": "Python 3",
   "language": "python",
   "name": "python3"
  },
  "language_info": {
   "codemirror_mode": {
    "name": "ipython",
    "version": 3
   },
   "file_extension": ".py",
   "mimetype": "text/x-python",
   "name": "python",
   "nbconvert_exporter": "python",
   "pygments_lexer": "ipython3",
   "version": "3.10.14"
  },
  "papermill": {
   "default_parameters": {},
   "duration": 17.021316,
   "end_time": "2024-11-05T19:00:29.044604",
   "environment_variables": {},
   "exception": null,
   "input_path": "__notebook__.ipynb",
   "output_path": "__notebook__.ipynb",
   "parameters": {},
   "start_time": "2024-11-05T19:00:12.023288",
   "version": "2.6.0"
  }
 },
 "nbformat": 4,
 "nbformat_minor": 5
}
