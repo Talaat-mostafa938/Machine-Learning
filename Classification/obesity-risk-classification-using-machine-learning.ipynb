{
 "cells": [
  {
   "cell_type": "code",
   "execution_count": 1,
   "id": "7a866b3c",
   "metadata": {
    "execution": {
     "iopub.execute_input": "2025-06-13T00:19:09.458644Z",
     "iopub.status.busy": "2025-06-13T00:19:09.458280Z",
     "iopub.status.idle": "2025-06-13T00:19:14.779833Z",
     "shell.execute_reply": "2025-06-13T00:19:14.778377Z"
    },
    "papermill": {
     "duration": 5.332153,
     "end_time": "2025-06-13T00:19:14.782197",
     "exception": false,
     "start_time": "2025-06-13T00:19:09.450044",
     "status": "completed"
    },
    "tags": []
   },
   "outputs": [],
   "source": [
    "import numpy as np\n",
    "import pandas as pd\n",
    "import matplotlib.pyplot as plt\n",
    "import seaborn as sns\n",
    "\n",
    "from sklearn.linear_model import LogisticRegression\n",
    "from sklearn.svm import SVC\n",
    "from sklearn.ensemble import RandomForestClassifier , GradientBoostingClassifier\n",
    "from sklearn.tree import DecisionTreeClassifier\n",
    "from sklearn.naive_bayes import GaussianNB\n",
    "\n",
    "from sklearn.metrics import confusion_matrix , accuracy_score , classification_report\n",
    "from sklearn.model_selection import train_test_split , GridSearchCV\n",
    "from sklearn.preprocessing import LabelEncoder , StandardScaler\n",
    "\n",
    "import warnings\n",
    "warnings.filterwarnings('ignore')"
   ]
  },
  {
   "cell_type": "code",
   "execution_count": 2,
   "id": "1815848a",
   "metadata": {
    "execution": {
     "iopub.execute_input": "2025-06-13T00:19:14.803053Z",
     "iopub.status.busy": "2025-06-13T00:19:14.802471Z",
     "iopub.status.idle": "2025-06-13T00:19:15.003241Z",
     "shell.execute_reply": "2025-06-13T00:19:15.001931Z"
    },
    "papermill": {
     "duration": 0.211631,
     "end_time": "2025-06-13T00:19:15.005203",
     "exception": false,
     "start_time": "2025-06-13T00:19:14.793572",
     "status": "completed"
    },
    "tags": []
   },
   "outputs": [
    {
     "data": {
      "text/html": [
       "<div>\n",
       "<style scoped>\n",
       "    .dataframe tbody tr th:only-of-type {\n",
       "        vertical-align: middle;\n",
       "    }\n",
       "\n",
       "    .dataframe tbody tr th {\n",
       "        vertical-align: top;\n",
       "    }\n",
       "\n",
       "    .dataframe thead th {\n",
       "        text-align: right;\n",
       "    }\n",
       "</style>\n",
       "<table border=\"1\" class=\"dataframe\">\n",
       "  <thead>\n",
       "    <tr style=\"text-align: right;\">\n",
       "      <th></th>\n",
       "      <th>id</th>\n",
       "      <th>Gender</th>\n",
       "      <th>Age</th>\n",
       "      <th>Height</th>\n",
       "      <th>Weight</th>\n",
       "      <th>family_history_with_overweight</th>\n",
       "      <th>FAVC</th>\n",
       "      <th>FCVC</th>\n",
       "      <th>NCP</th>\n",
       "      <th>CAEC</th>\n",
       "      <th>SMOKE</th>\n",
       "      <th>CH2O</th>\n",
       "      <th>SCC</th>\n",
       "      <th>FAF</th>\n",
       "      <th>TUE</th>\n",
       "      <th>CALC</th>\n",
       "      <th>MTRANS</th>\n",
       "      <th>NObeyesdad</th>\n",
       "    </tr>\n",
       "  </thead>\n",
       "  <tbody>\n",
       "    <tr>\n",
       "      <th>0</th>\n",
       "      <td>0</td>\n",
       "      <td>Male</td>\n",
       "      <td>24.443011</td>\n",
       "      <td>1.699998</td>\n",
       "      <td>81.669950</td>\n",
       "      <td>yes</td>\n",
       "      <td>yes</td>\n",
       "      <td>2.000000</td>\n",
       "      <td>2.983297</td>\n",
       "      <td>Sometimes</td>\n",
       "      <td>no</td>\n",
       "      <td>2.763573</td>\n",
       "      <td>no</td>\n",
       "      <td>0.000000</td>\n",
       "      <td>0.976473</td>\n",
       "      <td>Sometimes</td>\n",
       "      <td>Public_Transportation</td>\n",
       "      <td>Overweight_Level_II</td>\n",
       "    </tr>\n",
       "    <tr>\n",
       "      <th>1</th>\n",
       "      <td>1</td>\n",
       "      <td>Female</td>\n",
       "      <td>18.000000</td>\n",
       "      <td>1.560000</td>\n",
       "      <td>57.000000</td>\n",
       "      <td>yes</td>\n",
       "      <td>yes</td>\n",
       "      <td>2.000000</td>\n",
       "      <td>3.000000</td>\n",
       "      <td>Frequently</td>\n",
       "      <td>no</td>\n",
       "      <td>2.000000</td>\n",
       "      <td>no</td>\n",
       "      <td>1.000000</td>\n",
       "      <td>1.000000</td>\n",
       "      <td>no</td>\n",
       "      <td>Automobile</td>\n",
       "      <td>Normal_Weight</td>\n",
       "    </tr>\n",
       "    <tr>\n",
       "      <th>2</th>\n",
       "      <td>2</td>\n",
       "      <td>Female</td>\n",
       "      <td>18.000000</td>\n",
       "      <td>1.711460</td>\n",
       "      <td>50.165754</td>\n",
       "      <td>yes</td>\n",
       "      <td>yes</td>\n",
       "      <td>1.880534</td>\n",
       "      <td>1.411685</td>\n",
       "      <td>Sometimes</td>\n",
       "      <td>no</td>\n",
       "      <td>1.910378</td>\n",
       "      <td>no</td>\n",
       "      <td>0.866045</td>\n",
       "      <td>1.673584</td>\n",
       "      <td>no</td>\n",
       "      <td>Public_Transportation</td>\n",
       "      <td>Insufficient_Weight</td>\n",
       "    </tr>\n",
       "    <tr>\n",
       "      <th>3</th>\n",
       "      <td>3</td>\n",
       "      <td>Female</td>\n",
       "      <td>20.952737</td>\n",
       "      <td>1.710730</td>\n",
       "      <td>131.274851</td>\n",
       "      <td>yes</td>\n",
       "      <td>yes</td>\n",
       "      <td>3.000000</td>\n",
       "      <td>3.000000</td>\n",
       "      <td>Sometimes</td>\n",
       "      <td>no</td>\n",
       "      <td>1.674061</td>\n",
       "      <td>no</td>\n",
       "      <td>1.467863</td>\n",
       "      <td>0.780199</td>\n",
       "      <td>Sometimes</td>\n",
       "      <td>Public_Transportation</td>\n",
       "      <td>Obesity_Type_III</td>\n",
       "    </tr>\n",
       "    <tr>\n",
       "      <th>4</th>\n",
       "      <td>4</td>\n",
       "      <td>Male</td>\n",
       "      <td>31.641081</td>\n",
       "      <td>1.914186</td>\n",
       "      <td>93.798055</td>\n",
       "      <td>yes</td>\n",
       "      <td>yes</td>\n",
       "      <td>2.679664</td>\n",
       "      <td>1.971472</td>\n",
       "      <td>Sometimes</td>\n",
       "      <td>no</td>\n",
       "      <td>1.979848</td>\n",
       "      <td>no</td>\n",
       "      <td>1.967973</td>\n",
       "      <td>0.931721</td>\n",
       "      <td>Sometimes</td>\n",
       "      <td>Public_Transportation</td>\n",
       "      <td>Overweight_Level_II</td>\n",
       "    </tr>\n",
       "  </tbody>\n",
       "</table>\n",
       "</div>"
      ],
      "text/plain": [
       "   id  Gender        Age    Height      Weight family_history_with_overweight  \\\n",
       "0   0    Male  24.443011  1.699998   81.669950                            yes   \n",
       "1   1  Female  18.000000  1.560000   57.000000                            yes   \n",
       "2   2  Female  18.000000  1.711460   50.165754                            yes   \n",
       "3   3  Female  20.952737  1.710730  131.274851                            yes   \n",
       "4   4    Male  31.641081  1.914186   93.798055                            yes   \n",
       "\n",
       "  FAVC      FCVC       NCP        CAEC SMOKE      CH2O SCC       FAF  \\\n",
       "0  yes  2.000000  2.983297   Sometimes    no  2.763573  no  0.000000   \n",
       "1  yes  2.000000  3.000000  Frequently    no  2.000000  no  1.000000   \n",
       "2  yes  1.880534  1.411685   Sometimes    no  1.910378  no  0.866045   \n",
       "3  yes  3.000000  3.000000   Sometimes    no  1.674061  no  1.467863   \n",
       "4  yes  2.679664  1.971472   Sometimes    no  1.979848  no  1.967973   \n",
       "\n",
       "        TUE       CALC                 MTRANS           NObeyesdad  \n",
       "0  0.976473  Sometimes  Public_Transportation  Overweight_Level_II  \n",
       "1  1.000000         no             Automobile        Normal_Weight  \n",
       "2  1.673584         no  Public_Transportation  Insufficient_Weight  \n",
       "3  0.780199  Sometimes  Public_Transportation     Obesity_Type_III  \n",
       "4  0.931721  Sometimes  Public_Transportation  Overweight_Level_II  "
      ]
     },
     "execution_count": 2,
     "metadata": {},
     "output_type": "execute_result"
    }
   ],
   "source": [
    "train = pd.read_csv(r\"/kaggle/input/playground-series-s4e2/train.csv\")\n",
    "train.head()"
   ]
  },
  {
   "cell_type": "code",
   "execution_count": 3,
   "id": "553b7cc1",
   "metadata": {
    "execution": {
     "iopub.execute_input": "2025-06-13T00:19:15.022988Z",
     "iopub.status.busy": "2025-06-13T00:19:15.022601Z",
     "iopub.status.idle": "2025-06-13T00:19:15.046293Z",
     "shell.execute_reply": "2025-06-13T00:19:15.045155Z"
    },
    "papermill": {
     "duration": 0.032487,
     "end_time": "2025-06-13T00:19:15.047995",
     "exception": false,
     "start_time": "2025-06-13T00:19:15.015508",
     "status": "completed"
    },
    "tags": []
   },
   "outputs": [
    {
     "data": {
      "text/html": [
       "<div>\n",
       "<style scoped>\n",
       "    .dataframe tbody tr th:only-of-type {\n",
       "        vertical-align: middle;\n",
       "    }\n",
       "\n",
       "    .dataframe tbody tr th {\n",
       "        vertical-align: top;\n",
       "    }\n",
       "\n",
       "    .dataframe thead th {\n",
       "        text-align: right;\n",
       "    }\n",
       "</style>\n",
       "<table border=\"1\" class=\"dataframe\">\n",
       "  <thead>\n",
       "    <tr style=\"text-align: right;\">\n",
       "      <th></th>\n",
       "      <th>id</th>\n",
       "      <th>Gender</th>\n",
       "      <th>Age</th>\n",
       "      <th>Height</th>\n",
       "      <th>Weight</th>\n",
       "      <th>family_history_with_overweight</th>\n",
       "      <th>FAVC</th>\n",
       "      <th>FCVC</th>\n",
       "      <th>NCP</th>\n",
       "      <th>CAEC</th>\n",
       "      <th>SMOKE</th>\n",
       "      <th>CH2O</th>\n",
       "      <th>SCC</th>\n",
       "      <th>FAF</th>\n",
       "      <th>TUE</th>\n",
       "      <th>CALC</th>\n",
       "      <th>MTRANS</th>\n",
       "      <th>NObeyesdad</th>\n",
       "    </tr>\n",
       "  </thead>\n",
       "  <tbody>\n",
       "    <tr>\n",
       "      <th>20753</th>\n",
       "      <td>20753</td>\n",
       "      <td>Male</td>\n",
       "      <td>25.137087</td>\n",
       "      <td>1.766626</td>\n",
       "      <td>114.187096</td>\n",
       "      <td>yes</td>\n",
       "      <td>yes</td>\n",
       "      <td>2.919584</td>\n",
       "      <td>3.000000</td>\n",
       "      <td>Sometimes</td>\n",
       "      <td>no</td>\n",
       "      <td>2.151809</td>\n",
       "      <td>no</td>\n",
       "      <td>1.330519</td>\n",
       "      <td>0.196680</td>\n",
       "      <td>Sometimes</td>\n",
       "      <td>Public_Transportation</td>\n",
       "      <td>Obesity_Type_II</td>\n",
       "    </tr>\n",
       "    <tr>\n",
       "      <th>20754</th>\n",
       "      <td>20754</td>\n",
       "      <td>Male</td>\n",
       "      <td>18.000000</td>\n",
       "      <td>1.710000</td>\n",
       "      <td>50.000000</td>\n",
       "      <td>no</td>\n",
       "      <td>yes</td>\n",
       "      <td>3.000000</td>\n",
       "      <td>4.000000</td>\n",
       "      <td>Frequently</td>\n",
       "      <td>no</td>\n",
       "      <td>1.000000</td>\n",
       "      <td>no</td>\n",
       "      <td>2.000000</td>\n",
       "      <td>1.000000</td>\n",
       "      <td>Sometimes</td>\n",
       "      <td>Public_Transportation</td>\n",
       "      <td>Insufficient_Weight</td>\n",
       "    </tr>\n",
       "    <tr>\n",
       "      <th>20755</th>\n",
       "      <td>20755</td>\n",
       "      <td>Male</td>\n",
       "      <td>20.101026</td>\n",
       "      <td>1.819557</td>\n",
       "      <td>105.580491</td>\n",
       "      <td>yes</td>\n",
       "      <td>yes</td>\n",
       "      <td>2.407817</td>\n",
       "      <td>3.000000</td>\n",
       "      <td>Sometimes</td>\n",
       "      <td>no</td>\n",
       "      <td>2.000000</td>\n",
       "      <td>no</td>\n",
       "      <td>1.158040</td>\n",
       "      <td>1.198439</td>\n",
       "      <td>no</td>\n",
       "      <td>Public_Transportation</td>\n",
       "      <td>Obesity_Type_II</td>\n",
       "    </tr>\n",
       "    <tr>\n",
       "      <th>20756</th>\n",
       "      <td>20756</td>\n",
       "      <td>Male</td>\n",
       "      <td>33.852953</td>\n",
       "      <td>1.700000</td>\n",
       "      <td>83.520113</td>\n",
       "      <td>yes</td>\n",
       "      <td>yes</td>\n",
       "      <td>2.671238</td>\n",
       "      <td>1.971472</td>\n",
       "      <td>Sometimes</td>\n",
       "      <td>no</td>\n",
       "      <td>2.144838</td>\n",
       "      <td>no</td>\n",
       "      <td>0.000000</td>\n",
       "      <td>0.973834</td>\n",
       "      <td>no</td>\n",
       "      <td>Automobile</td>\n",
       "      <td>Overweight_Level_II</td>\n",
       "    </tr>\n",
       "    <tr>\n",
       "      <th>20757</th>\n",
       "      <td>20757</td>\n",
       "      <td>Male</td>\n",
       "      <td>26.680376</td>\n",
       "      <td>1.816547</td>\n",
       "      <td>118.134898</td>\n",
       "      <td>yes</td>\n",
       "      <td>yes</td>\n",
       "      <td>3.000000</td>\n",
       "      <td>3.000000</td>\n",
       "      <td>Sometimes</td>\n",
       "      <td>no</td>\n",
       "      <td>2.003563</td>\n",
       "      <td>no</td>\n",
       "      <td>0.684487</td>\n",
       "      <td>0.713823</td>\n",
       "      <td>Sometimes</td>\n",
       "      <td>Public_Transportation</td>\n",
       "      <td>Obesity_Type_II</td>\n",
       "    </tr>\n",
       "  </tbody>\n",
       "</table>\n",
       "</div>"
      ],
      "text/plain": [
       "          id Gender        Age    Height      Weight  \\\n",
       "20753  20753   Male  25.137087  1.766626  114.187096   \n",
       "20754  20754   Male  18.000000  1.710000   50.000000   \n",
       "20755  20755   Male  20.101026  1.819557  105.580491   \n",
       "20756  20756   Male  33.852953  1.700000   83.520113   \n",
       "20757  20757   Male  26.680376  1.816547  118.134898   \n",
       "\n",
       "      family_history_with_overweight FAVC      FCVC       NCP        CAEC  \\\n",
       "20753                            yes  yes  2.919584  3.000000   Sometimes   \n",
       "20754                             no  yes  3.000000  4.000000  Frequently   \n",
       "20755                            yes  yes  2.407817  3.000000   Sometimes   \n",
       "20756                            yes  yes  2.671238  1.971472   Sometimes   \n",
       "20757                            yes  yes  3.000000  3.000000   Sometimes   \n",
       "\n",
       "      SMOKE      CH2O SCC       FAF       TUE       CALC  \\\n",
       "20753    no  2.151809  no  1.330519  0.196680  Sometimes   \n",
       "20754    no  1.000000  no  2.000000  1.000000  Sometimes   \n",
       "20755    no  2.000000  no  1.158040  1.198439         no   \n",
       "20756    no  2.144838  no  0.000000  0.973834         no   \n",
       "20757    no  2.003563  no  0.684487  0.713823  Sometimes   \n",
       "\n",
       "                      MTRANS           NObeyesdad  \n",
       "20753  Public_Transportation      Obesity_Type_II  \n",
       "20754  Public_Transportation  Insufficient_Weight  \n",
       "20755  Public_Transportation      Obesity_Type_II  \n",
       "20756             Automobile  Overweight_Level_II  \n",
       "20757  Public_Transportation      Obesity_Type_II  "
      ]
     },
     "execution_count": 3,
     "metadata": {},
     "output_type": "execute_result"
    }
   ],
   "source": [
    "train.tail()"
   ]
  },
  {
   "cell_type": "code",
   "execution_count": 4,
   "id": "2c3e1357",
   "metadata": {
    "execution": {
     "iopub.execute_input": "2025-06-13T00:19:15.063327Z",
     "iopub.status.busy": "2025-06-13T00:19:15.062334Z",
     "iopub.status.idle": "2025-06-13T00:19:15.069281Z",
     "shell.execute_reply": "2025-06-13T00:19:15.068284Z"
    },
    "papermill": {
     "duration": 0.016499,
     "end_time": "2025-06-13T00:19:15.071143",
     "exception": false,
     "start_time": "2025-06-13T00:19:15.054644",
     "status": "completed"
    },
    "tags": []
   },
   "outputs": [
    {
     "data": {
      "text/plain": [
       "(20758, 18)"
      ]
     },
     "execution_count": 4,
     "metadata": {},
     "output_type": "execute_result"
    }
   ],
   "source": [
    "train.shape"
   ]
  },
  {
   "cell_type": "code",
   "execution_count": 5,
   "id": "e9faa4da",
   "metadata": {
    "execution": {
     "iopub.execute_input": "2025-06-13T00:19:15.086945Z",
     "iopub.status.busy": "2025-06-13T00:19:15.086504Z",
     "iopub.status.idle": "2025-06-13T00:19:15.095261Z",
     "shell.execute_reply": "2025-06-13T00:19:15.094283Z"
    },
    "papermill": {
     "duration": 0.018212,
     "end_time": "2025-06-13T00:19:15.096740",
     "exception": false,
     "start_time": "2025-06-13T00:19:15.078528",
     "status": "completed"
    },
    "tags": []
   },
   "outputs": [
    {
     "data": {
      "text/plain": [
       "Index(['id', 'Gender', 'Age', 'Height', 'Weight',\n",
       "       'family_history_with_overweight', 'FAVC', 'FCVC', 'NCP', 'CAEC',\n",
       "       'SMOKE', 'CH2O', 'SCC', 'FAF', 'TUE', 'CALC', 'MTRANS', 'NObeyesdad'],\n",
       "      dtype='object')"
      ]
     },
     "execution_count": 5,
     "metadata": {},
     "output_type": "execute_result"
    }
   ],
   "source": [
    "train.columns"
   ]
  },
  {
   "cell_type": "code",
   "execution_count": 6,
   "id": "672da94b",
   "metadata": {
    "execution": {
     "iopub.execute_input": "2025-06-13T00:19:15.111033Z",
     "iopub.status.busy": "2025-06-13T00:19:15.110714Z",
     "iopub.status.idle": "2025-06-13T00:19:15.150958Z",
     "shell.execute_reply": "2025-06-13T00:19:15.149510Z"
    },
    "papermill": {
     "duration": 0.049888,
     "end_time": "2025-06-13T00:19:15.153179",
     "exception": false,
     "start_time": "2025-06-13T00:19:15.103291",
     "status": "completed"
    },
    "tags": []
   },
   "outputs": [
    {
     "name": "stdout",
     "output_type": "stream",
     "text": [
      "<class 'pandas.core.frame.DataFrame'>\n",
      "RangeIndex: 20758 entries, 0 to 20757\n",
      "Data columns (total 18 columns):\n",
      " #   Column                          Non-Null Count  Dtype  \n",
      "---  ------                          --------------  -----  \n",
      " 0   id                              20758 non-null  int64  \n",
      " 1   Gender                          20758 non-null  object \n",
      " 2   Age                             20758 non-null  float64\n",
      " 3   Height                          20758 non-null  float64\n",
      " 4   Weight                          20758 non-null  float64\n",
      " 5   family_history_with_overweight  20758 non-null  object \n",
      " 6   FAVC                            20758 non-null  object \n",
      " 7   FCVC                            20758 non-null  float64\n",
      " 8   NCP                             20758 non-null  float64\n",
      " 9   CAEC                            20758 non-null  object \n",
      " 10  SMOKE                           20758 non-null  object \n",
      " 11  CH2O                            20758 non-null  float64\n",
      " 12  SCC                             20758 non-null  object \n",
      " 13  FAF                             20758 non-null  float64\n",
      " 14  TUE                             20758 non-null  float64\n",
      " 15  CALC                            20758 non-null  object \n",
      " 16  MTRANS                          20758 non-null  object \n",
      " 17  NObeyesdad                      20758 non-null  object \n",
      "dtypes: float64(8), int64(1), object(9)\n",
      "memory usage: 2.9+ MB\n"
     ]
    }
   ],
   "source": [
    "train.info()"
   ]
  },
  {
   "cell_type": "code",
   "execution_count": 7,
   "id": "a0fd94ae",
   "metadata": {
    "execution": {
     "iopub.execute_input": "2025-06-13T00:19:15.177072Z",
     "iopub.status.busy": "2025-06-13T00:19:15.176222Z",
     "iopub.status.idle": "2025-06-13T00:19:15.202328Z",
     "shell.execute_reply": "2025-06-13T00:19:15.201380Z"
    },
    "papermill": {
     "duration": 0.038962,
     "end_time": "2025-06-13T00:19:15.204303",
     "exception": false,
     "start_time": "2025-06-13T00:19:15.165341",
     "status": "completed"
    },
    "tags": []
   },
   "outputs": [
    {
     "data": {
      "text/plain": [
       "id                                0\n",
       "Gender                            0\n",
       "Age                               0\n",
       "Height                            0\n",
       "Weight                            0\n",
       "family_history_with_overweight    0\n",
       "FAVC                              0\n",
       "FCVC                              0\n",
       "NCP                               0\n",
       "CAEC                              0\n",
       "SMOKE                             0\n",
       "CH2O                              0\n",
       "SCC                               0\n",
       "FAF                               0\n",
       "TUE                               0\n",
       "CALC                              0\n",
       "MTRANS                            0\n",
       "NObeyesdad                        0\n",
       "dtype: int64"
      ]
     },
     "execution_count": 7,
     "metadata": {},
     "output_type": "execute_result"
    }
   ],
   "source": [
    "train.isnull().sum()"
   ]
  },
  {
   "cell_type": "code",
   "execution_count": 8,
   "id": "746554b4",
   "metadata": {
    "execution": {
     "iopub.execute_input": "2025-06-13T00:19:15.230344Z",
     "iopub.status.busy": "2025-06-13T00:19:15.229599Z",
     "iopub.status.idle": "2025-06-13T00:19:15.270117Z",
     "shell.execute_reply": "2025-06-13T00:19:15.269076Z"
    },
    "papermill": {
     "duration": 0.055302,
     "end_time": "2025-06-13T00:19:15.271829",
     "exception": false,
     "start_time": "2025-06-13T00:19:15.216527",
     "status": "completed"
    },
    "tags": []
   },
   "outputs": [
    {
     "data": {
      "text/html": [
       "<div>\n",
       "<style scoped>\n",
       "    .dataframe tbody tr th:only-of-type {\n",
       "        vertical-align: middle;\n",
       "    }\n",
       "\n",
       "    .dataframe tbody tr th {\n",
       "        vertical-align: top;\n",
       "    }\n",
       "\n",
       "    .dataframe thead th {\n",
       "        text-align: right;\n",
       "    }\n",
       "</style>\n",
       "<table border=\"1\" class=\"dataframe\">\n",
       "  <thead>\n",
       "    <tr style=\"text-align: right;\">\n",
       "      <th></th>\n",
       "      <th>id</th>\n",
       "      <th>Age</th>\n",
       "      <th>Height</th>\n",
       "      <th>Weight</th>\n",
       "      <th>FCVC</th>\n",
       "      <th>NCP</th>\n",
       "      <th>CH2O</th>\n",
       "      <th>FAF</th>\n",
       "      <th>TUE</th>\n",
       "    </tr>\n",
       "  </thead>\n",
       "  <tbody>\n",
       "    <tr>\n",
       "      <th>count</th>\n",
       "      <td>20758.00000</td>\n",
       "      <td>20758.000000</td>\n",
       "      <td>20758.000000</td>\n",
       "      <td>20758.000000</td>\n",
       "      <td>20758.000000</td>\n",
       "      <td>20758.000000</td>\n",
       "      <td>20758.000000</td>\n",
       "      <td>20758.000000</td>\n",
       "      <td>20758.000000</td>\n",
       "    </tr>\n",
       "    <tr>\n",
       "      <th>mean</th>\n",
       "      <td>10378.50000</td>\n",
       "      <td>23.841804</td>\n",
       "      <td>1.700245</td>\n",
       "      <td>87.887768</td>\n",
       "      <td>2.445908</td>\n",
       "      <td>2.761332</td>\n",
       "      <td>2.029418</td>\n",
       "      <td>0.981747</td>\n",
       "      <td>0.616756</td>\n",
       "    </tr>\n",
       "    <tr>\n",
       "      <th>std</th>\n",
       "      <td>5992.46278</td>\n",
       "      <td>5.688072</td>\n",
       "      <td>0.087312</td>\n",
       "      <td>26.379443</td>\n",
       "      <td>0.533218</td>\n",
       "      <td>0.705375</td>\n",
       "      <td>0.608467</td>\n",
       "      <td>0.838302</td>\n",
       "      <td>0.602113</td>\n",
       "    </tr>\n",
       "    <tr>\n",
       "      <th>min</th>\n",
       "      <td>0.00000</td>\n",
       "      <td>14.000000</td>\n",
       "      <td>1.450000</td>\n",
       "      <td>39.000000</td>\n",
       "      <td>1.000000</td>\n",
       "      <td>1.000000</td>\n",
       "      <td>1.000000</td>\n",
       "      <td>0.000000</td>\n",
       "      <td>0.000000</td>\n",
       "    </tr>\n",
       "    <tr>\n",
       "      <th>25%</th>\n",
       "      <td>5189.25000</td>\n",
       "      <td>20.000000</td>\n",
       "      <td>1.631856</td>\n",
       "      <td>66.000000</td>\n",
       "      <td>2.000000</td>\n",
       "      <td>3.000000</td>\n",
       "      <td>1.792022</td>\n",
       "      <td>0.008013</td>\n",
       "      <td>0.000000</td>\n",
       "    </tr>\n",
       "    <tr>\n",
       "      <th>50%</th>\n",
       "      <td>10378.50000</td>\n",
       "      <td>22.815416</td>\n",
       "      <td>1.700000</td>\n",
       "      <td>84.064875</td>\n",
       "      <td>2.393837</td>\n",
       "      <td>3.000000</td>\n",
       "      <td>2.000000</td>\n",
       "      <td>1.000000</td>\n",
       "      <td>0.573887</td>\n",
       "    </tr>\n",
       "    <tr>\n",
       "      <th>75%</th>\n",
       "      <td>15567.75000</td>\n",
       "      <td>26.000000</td>\n",
       "      <td>1.762887</td>\n",
       "      <td>111.600553</td>\n",
       "      <td>3.000000</td>\n",
       "      <td>3.000000</td>\n",
       "      <td>2.549617</td>\n",
       "      <td>1.587406</td>\n",
       "      <td>1.000000</td>\n",
       "    </tr>\n",
       "    <tr>\n",
       "      <th>max</th>\n",
       "      <td>20757.00000</td>\n",
       "      <td>61.000000</td>\n",
       "      <td>1.975663</td>\n",
       "      <td>165.057269</td>\n",
       "      <td>3.000000</td>\n",
       "      <td>4.000000</td>\n",
       "      <td>3.000000</td>\n",
       "      <td>3.000000</td>\n",
       "      <td>2.000000</td>\n",
       "    </tr>\n",
       "  </tbody>\n",
       "</table>\n",
       "</div>"
      ],
      "text/plain": [
       "                id           Age        Height        Weight          FCVC  \\\n",
       "count  20758.00000  20758.000000  20758.000000  20758.000000  20758.000000   \n",
       "mean   10378.50000     23.841804      1.700245     87.887768      2.445908   \n",
       "std     5992.46278      5.688072      0.087312     26.379443      0.533218   \n",
       "min        0.00000     14.000000      1.450000     39.000000      1.000000   \n",
       "25%     5189.25000     20.000000      1.631856     66.000000      2.000000   \n",
       "50%    10378.50000     22.815416      1.700000     84.064875      2.393837   \n",
       "75%    15567.75000     26.000000      1.762887    111.600553      3.000000   \n",
       "max    20757.00000     61.000000      1.975663    165.057269      3.000000   \n",
       "\n",
       "                NCP          CH2O           FAF           TUE  \n",
       "count  20758.000000  20758.000000  20758.000000  20758.000000  \n",
       "mean       2.761332      2.029418      0.981747      0.616756  \n",
       "std        0.705375      0.608467      0.838302      0.602113  \n",
       "min        1.000000      1.000000      0.000000      0.000000  \n",
       "25%        3.000000      1.792022      0.008013      0.000000  \n",
       "50%        3.000000      2.000000      1.000000      0.573887  \n",
       "75%        3.000000      2.549617      1.587406      1.000000  \n",
       "max        4.000000      3.000000      3.000000      2.000000  "
      ]
     },
     "execution_count": 8,
     "metadata": {},
     "output_type": "execute_result"
    }
   ],
   "source": [
    "train.describe()"
   ]
  },
  {
   "cell_type": "code",
   "execution_count": 9,
   "id": "5dc1c1a9",
   "metadata": {
    "execution": {
     "iopub.execute_input": "2025-06-13T00:19:15.288435Z",
     "iopub.status.busy": "2025-06-13T00:19:15.288023Z",
     "iopub.status.idle": "2025-06-13T00:19:15.313520Z",
     "shell.execute_reply": "2025-06-13T00:19:15.312525Z"
    },
    "papermill": {
     "duration": 0.035356,
     "end_time": "2025-06-13T00:19:15.315553",
     "exception": false,
     "start_time": "2025-06-13T00:19:15.280197",
     "status": "completed"
    },
    "tags": []
   },
   "outputs": [
    {
     "data": {
      "text/plain": [
       "0"
      ]
     },
     "execution_count": 9,
     "metadata": {},
     "output_type": "execute_result"
    }
   ],
   "source": [
    "train.duplicated().sum()"
   ]
  },
  {
   "cell_type": "code",
   "execution_count": 10,
   "id": "b2166981",
   "metadata": {
    "execution": {
     "iopub.execute_input": "2025-06-13T00:19:15.338612Z",
     "iopub.status.busy": "2025-06-13T00:19:15.337838Z",
     "iopub.status.idle": "2025-06-13T00:19:15.342667Z",
     "shell.execute_reply": "2025-06-13T00:19:15.341683Z"
    },
    "papermill": {
     "duration": 0.01557,
     "end_time": "2025-06-13T00:19:15.344301",
     "exception": false,
     "start_time": "2025-06-13T00:19:15.328731",
     "status": "completed"
    },
    "tags": []
   },
   "outputs": [],
   "source": [
    "la = LabelEncoder()"
   ]
  },
  {
   "cell_type": "code",
   "execution_count": 11,
   "id": "5a160a98",
   "metadata": {
    "execution": {
     "iopub.execute_input": "2025-06-13T00:19:15.360778Z",
     "iopub.status.busy": "2025-06-13T00:19:15.360346Z",
     "iopub.status.idle": "2025-06-13T00:19:15.367329Z",
     "shell.execute_reply": "2025-06-13T00:19:15.366421Z"
    },
    "papermill": {
     "duration": 0.016764,
     "end_time": "2025-06-13T00:19:15.369096",
     "exception": false,
     "start_time": "2025-06-13T00:19:15.352332",
     "status": "completed"
    },
    "tags": []
   },
   "outputs": [],
   "source": [
    "obj = train.select_dtypes(exclude = ['int64' , 'float64'])"
   ]
  },
  {
   "cell_type": "code",
   "execution_count": 12,
   "id": "8c5955d9",
   "metadata": {
    "execution": {
     "iopub.execute_input": "2025-06-13T00:19:15.385457Z",
     "iopub.status.busy": "2025-06-13T00:19:15.384622Z",
     "iopub.status.idle": "2025-06-13T00:19:15.392447Z",
     "shell.execute_reply": "2025-06-13T00:19:15.391419Z"
    },
    "papermill": {
     "duration": 0.01761,
     "end_time": "2025-06-13T00:19:15.394231",
     "exception": false,
     "start_time": "2025-06-13T00:19:15.376621",
     "status": "completed"
    },
    "tags": []
   },
   "outputs": [
    {
     "data": {
      "text/plain": [
       "Index(['Gender', 'family_history_with_overweight', 'FAVC', 'CAEC', 'SMOKE',\n",
       "       'SCC', 'CALC', 'MTRANS', 'NObeyesdad'],\n",
       "      dtype='object')"
      ]
     },
     "execution_count": 12,
     "metadata": {},
     "output_type": "execute_result"
    }
   ],
   "source": [
    "obj.columns"
   ]
  },
  {
   "cell_type": "code",
   "execution_count": 13,
   "id": "a7e60b2f",
   "metadata": {
    "execution": {
     "iopub.execute_input": "2025-06-13T00:19:15.418440Z",
     "iopub.status.busy": "2025-06-13T00:19:15.418005Z",
     "iopub.status.idle": "2025-06-13T00:19:15.466805Z",
     "shell.execute_reply": "2025-06-13T00:19:15.465195Z"
    },
    "papermill": {
     "duration": 0.060309,
     "end_time": "2025-06-13T00:19:15.468997",
     "exception": false,
     "start_time": "2025-06-13T00:19:15.408688",
     "status": "completed"
    },
    "tags": []
   },
   "outputs": [],
   "source": [
    "target_col = 'NObeyesdad'\n",
    "\n",
    "feature_categorical_cols = [col for col in obj if col != target_col]\n",
    "\n",
    "label_encoders = {}\n",
    "\n",
    "for col in feature_categorical_cols:\n",
    "    la = LabelEncoder()\n",
    "    train[col] = la.fit_transform(train[col].astype(str))\n",
    "    label_encoders[col] = la \n",
    "\n",
    "la_target = LabelEncoder()\n",
    "train[target_col] = la_target.fit_transform(train[target_col].astype(str))\n",
    "label_encoders[target_col] = la_target"
   ]
  },
  {
   "cell_type": "code",
   "execution_count": 14,
   "id": "19a6fdbd",
   "metadata": {
    "execution": {
     "iopub.execute_input": "2025-06-13T00:19:15.496545Z",
     "iopub.status.busy": "2025-06-13T00:19:15.495903Z",
     "iopub.status.idle": "2025-06-13T00:19:15.511409Z",
     "shell.execute_reply": "2025-06-13T00:19:15.510523Z"
    },
    "papermill": {
     "duration": 0.031184,
     "end_time": "2025-06-13T00:19:15.513269",
     "exception": false,
     "start_time": "2025-06-13T00:19:15.482085",
     "status": "completed"
    },
    "tags": []
   },
   "outputs": [
    {
     "data": {
      "text/html": [
       "<div>\n",
       "<style scoped>\n",
       "    .dataframe tbody tr th:only-of-type {\n",
       "        vertical-align: middle;\n",
       "    }\n",
       "\n",
       "    .dataframe tbody tr th {\n",
       "        vertical-align: top;\n",
       "    }\n",
       "\n",
       "    .dataframe thead th {\n",
       "        text-align: right;\n",
       "    }\n",
       "</style>\n",
       "<table border=\"1\" class=\"dataframe\">\n",
       "  <thead>\n",
       "    <tr style=\"text-align: right;\">\n",
       "      <th></th>\n",
       "      <th>id</th>\n",
       "      <th>Gender</th>\n",
       "      <th>Age</th>\n",
       "      <th>Height</th>\n",
       "      <th>Weight</th>\n",
       "      <th>family_history_with_overweight</th>\n",
       "      <th>FAVC</th>\n",
       "      <th>FCVC</th>\n",
       "      <th>NCP</th>\n",
       "      <th>CAEC</th>\n",
       "      <th>SMOKE</th>\n",
       "      <th>CH2O</th>\n",
       "      <th>SCC</th>\n",
       "      <th>FAF</th>\n",
       "      <th>TUE</th>\n",
       "      <th>CALC</th>\n",
       "      <th>MTRANS</th>\n",
       "      <th>NObeyesdad</th>\n",
       "    </tr>\n",
       "  </thead>\n",
       "  <tbody>\n",
       "    <tr>\n",
       "      <th>0</th>\n",
       "      <td>0</td>\n",
       "      <td>1</td>\n",
       "      <td>24.443011</td>\n",
       "      <td>1.699998</td>\n",
       "      <td>81.669950</td>\n",
       "      <td>1</td>\n",
       "      <td>1</td>\n",
       "      <td>2.000000</td>\n",
       "      <td>2.983297</td>\n",
       "      <td>2</td>\n",
       "      <td>0</td>\n",
       "      <td>2.763573</td>\n",
       "      <td>0</td>\n",
       "      <td>0.000000</td>\n",
       "      <td>0.976473</td>\n",
       "      <td>1</td>\n",
       "      <td>3</td>\n",
       "      <td>6</td>\n",
       "    </tr>\n",
       "    <tr>\n",
       "      <th>1</th>\n",
       "      <td>1</td>\n",
       "      <td>0</td>\n",
       "      <td>18.000000</td>\n",
       "      <td>1.560000</td>\n",
       "      <td>57.000000</td>\n",
       "      <td>1</td>\n",
       "      <td>1</td>\n",
       "      <td>2.000000</td>\n",
       "      <td>3.000000</td>\n",
       "      <td>1</td>\n",
       "      <td>0</td>\n",
       "      <td>2.000000</td>\n",
       "      <td>0</td>\n",
       "      <td>1.000000</td>\n",
       "      <td>1.000000</td>\n",
       "      <td>2</td>\n",
       "      <td>0</td>\n",
       "      <td>1</td>\n",
       "    </tr>\n",
       "    <tr>\n",
       "      <th>2</th>\n",
       "      <td>2</td>\n",
       "      <td>0</td>\n",
       "      <td>18.000000</td>\n",
       "      <td>1.711460</td>\n",
       "      <td>50.165754</td>\n",
       "      <td>1</td>\n",
       "      <td>1</td>\n",
       "      <td>1.880534</td>\n",
       "      <td>1.411685</td>\n",
       "      <td>2</td>\n",
       "      <td>0</td>\n",
       "      <td>1.910378</td>\n",
       "      <td>0</td>\n",
       "      <td>0.866045</td>\n",
       "      <td>1.673584</td>\n",
       "      <td>2</td>\n",
       "      <td>3</td>\n",
       "      <td>0</td>\n",
       "    </tr>\n",
       "    <tr>\n",
       "      <th>3</th>\n",
       "      <td>3</td>\n",
       "      <td>0</td>\n",
       "      <td>20.952737</td>\n",
       "      <td>1.710730</td>\n",
       "      <td>131.274851</td>\n",
       "      <td>1</td>\n",
       "      <td>1</td>\n",
       "      <td>3.000000</td>\n",
       "      <td>3.000000</td>\n",
       "      <td>2</td>\n",
       "      <td>0</td>\n",
       "      <td>1.674061</td>\n",
       "      <td>0</td>\n",
       "      <td>1.467863</td>\n",
       "      <td>0.780199</td>\n",
       "      <td>1</td>\n",
       "      <td>3</td>\n",
       "      <td>4</td>\n",
       "    </tr>\n",
       "    <tr>\n",
       "      <th>4</th>\n",
       "      <td>4</td>\n",
       "      <td>1</td>\n",
       "      <td>31.641081</td>\n",
       "      <td>1.914186</td>\n",
       "      <td>93.798055</td>\n",
       "      <td>1</td>\n",
       "      <td>1</td>\n",
       "      <td>2.679664</td>\n",
       "      <td>1.971472</td>\n",
       "      <td>2</td>\n",
       "      <td>0</td>\n",
       "      <td>1.979848</td>\n",
       "      <td>0</td>\n",
       "      <td>1.967973</td>\n",
       "      <td>0.931721</td>\n",
       "      <td>1</td>\n",
       "      <td>3</td>\n",
       "      <td>6</td>\n",
       "    </tr>\n",
       "  </tbody>\n",
       "</table>\n",
       "</div>"
      ],
      "text/plain": [
       "   id  Gender        Age    Height      Weight  \\\n",
       "0   0       1  24.443011  1.699998   81.669950   \n",
       "1   1       0  18.000000  1.560000   57.000000   \n",
       "2   2       0  18.000000  1.711460   50.165754   \n",
       "3   3       0  20.952737  1.710730  131.274851   \n",
       "4   4       1  31.641081  1.914186   93.798055   \n",
       "\n",
       "   family_history_with_overweight  FAVC      FCVC       NCP  CAEC  SMOKE  \\\n",
       "0                               1     1  2.000000  2.983297     2      0   \n",
       "1                               1     1  2.000000  3.000000     1      0   \n",
       "2                               1     1  1.880534  1.411685     2      0   \n",
       "3                               1     1  3.000000  3.000000     2      0   \n",
       "4                               1     1  2.679664  1.971472     2      0   \n",
       "\n",
       "       CH2O  SCC       FAF       TUE  CALC  MTRANS  NObeyesdad  \n",
       "0  2.763573    0  0.000000  0.976473     1       3           6  \n",
       "1  2.000000    0  1.000000  1.000000     2       0           1  \n",
       "2  1.910378    0  0.866045  1.673584     2       3           0  \n",
       "3  1.674061    0  1.467863  0.780199     1       3           4  \n",
       "4  1.979848    0  1.967973  0.931721     1       3           6  "
      ]
     },
     "execution_count": 14,
     "metadata": {},
     "output_type": "execute_result"
    }
   ],
   "source": [
    "train.head()"
   ]
  },
  {
   "cell_type": "code",
   "execution_count": 15,
   "id": "6fd265b3",
   "metadata": {
    "execution": {
     "iopub.execute_input": "2025-06-13T00:19:15.529842Z",
     "iopub.status.busy": "2025-06-13T00:19:15.529520Z",
     "iopub.status.idle": "2025-06-13T00:19:15.614220Z",
     "shell.execute_reply": "2025-06-13T00:19:15.613083Z"
    },
    "papermill": {
     "duration": 0.095025,
     "end_time": "2025-06-13T00:19:15.616289",
     "exception": false,
     "start_time": "2025-06-13T00:19:15.521264",
     "status": "completed"
    },
    "tags": []
   },
   "outputs": [
    {
     "data": {
      "text/html": [
       "<div>\n",
       "<style scoped>\n",
       "    .dataframe tbody tr th:only-of-type {\n",
       "        vertical-align: middle;\n",
       "    }\n",
       "\n",
       "    .dataframe tbody tr th {\n",
       "        vertical-align: top;\n",
       "    }\n",
       "\n",
       "    .dataframe thead th {\n",
       "        text-align: right;\n",
       "    }\n",
       "</style>\n",
       "<table border=\"1\" class=\"dataframe\">\n",
       "  <thead>\n",
       "    <tr style=\"text-align: right;\">\n",
       "      <th></th>\n",
       "      <th>id</th>\n",
       "      <th>Gender</th>\n",
       "      <th>Age</th>\n",
       "      <th>Height</th>\n",
       "      <th>Weight</th>\n",
       "      <th>family_history_with_overweight</th>\n",
       "      <th>FAVC</th>\n",
       "      <th>FCVC</th>\n",
       "      <th>NCP</th>\n",
       "      <th>CAEC</th>\n",
       "      <th>SMOKE</th>\n",
       "      <th>CH2O</th>\n",
       "      <th>SCC</th>\n",
       "      <th>FAF</th>\n",
       "      <th>TUE</th>\n",
       "      <th>CALC</th>\n",
       "      <th>MTRANS</th>\n",
       "    </tr>\n",
       "  </thead>\n",
       "  <tbody>\n",
       "    <tr>\n",
       "      <th>0</th>\n",
       "      <td>20758</td>\n",
       "      <td>Male</td>\n",
       "      <td>26.899886</td>\n",
       "      <td>1.848294</td>\n",
       "      <td>120.644178</td>\n",
       "      <td>yes</td>\n",
       "      <td>yes</td>\n",
       "      <td>2.938616</td>\n",
       "      <td>3.000000</td>\n",
       "      <td>Sometimes</td>\n",
       "      <td>no</td>\n",
       "      <td>2.825629</td>\n",
       "      <td>no</td>\n",
       "      <td>0.855400</td>\n",
       "      <td>0.000000</td>\n",
       "      <td>Sometimes</td>\n",
       "      <td>Public_Transportation</td>\n",
       "    </tr>\n",
       "    <tr>\n",
       "      <th>1</th>\n",
       "      <td>20759</td>\n",
       "      <td>Female</td>\n",
       "      <td>21.000000</td>\n",
       "      <td>1.600000</td>\n",
       "      <td>66.000000</td>\n",
       "      <td>yes</td>\n",
       "      <td>yes</td>\n",
       "      <td>2.000000</td>\n",
       "      <td>1.000000</td>\n",
       "      <td>Sometimes</td>\n",
       "      <td>no</td>\n",
       "      <td>3.000000</td>\n",
       "      <td>no</td>\n",
       "      <td>1.000000</td>\n",
       "      <td>0.000000</td>\n",
       "      <td>Sometimes</td>\n",
       "      <td>Public_Transportation</td>\n",
       "    </tr>\n",
       "    <tr>\n",
       "      <th>2</th>\n",
       "      <td>20760</td>\n",
       "      <td>Female</td>\n",
       "      <td>26.000000</td>\n",
       "      <td>1.643355</td>\n",
       "      <td>111.600553</td>\n",
       "      <td>yes</td>\n",
       "      <td>yes</td>\n",
       "      <td>3.000000</td>\n",
       "      <td>3.000000</td>\n",
       "      <td>Sometimes</td>\n",
       "      <td>no</td>\n",
       "      <td>2.621877</td>\n",
       "      <td>no</td>\n",
       "      <td>0.000000</td>\n",
       "      <td>0.250502</td>\n",
       "      <td>Sometimes</td>\n",
       "      <td>Public_Transportation</td>\n",
       "    </tr>\n",
       "    <tr>\n",
       "      <th>3</th>\n",
       "      <td>20761</td>\n",
       "      <td>Male</td>\n",
       "      <td>20.979254</td>\n",
       "      <td>1.553127</td>\n",
       "      <td>103.669116</td>\n",
       "      <td>yes</td>\n",
       "      <td>yes</td>\n",
       "      <td>2.000000</td>\n",
       "      <td>2.977909</td>\n",
       "      <td>Sometimes</td>\n",
       "      <td>no</td>\n",
       "      <td>2.786417</td>\n",
       "      <td>no</td>\n",
       "      <td>0.094851</td>\n",
       "      <td>0.000000</td>\n",
       "      <td>Sometimes</td>\n",
       "      <td>Public_Transportation</td>\n",
       "    </tr>\n",
       "    <tr>\n",
       "      <th>4</th>\n",
       "      <td>20762</td>\n",
       "      <td>Female</td>\n",
       "      <td>26.000000</td>\n",
       "      <td>1.627396</td>\n",
       "      <td>104.835346</td>\n",
       "      <td>yes</td>\n",
       "      <td>yes</td>\n",
       "      <td>3.000000</td>\n",
       "      <td>3.000000</td>\n",
       "      <td>Sometimes</td>\n",
       "      <td>no</td>\n",
       "      <td>2.653531</td>\n",
       "      <td>no</td>\n",
       "      <td>0.000000</td>\n",
       "      <td>0.741069</td>\n",
       "      <td>Sometimes</td>\n",
       "      <td>Public_Transportation</td>\n",
       "    </tr>\n",
       "  </tbody>\n",
       "</table>\n",
       "</div>"
      ],
      "text/plain": [
       "      id  Gender        Age    Height      Weight  \\\n",
       "0  20758    Male  26.899886  1.848294  120.644178   \n",
       "1  20759  Female  21.000000  1.600000   66.000000   \n",
       "2  20760  Female  26.000000  1.643355  111.600553   \n",
       "3  20761    Male  20.979254  1.553127  103.669116   \n",
       "4  20762  Female  26.000000  1.627396  104.835346   \n",
       "\n",
       "  family_history_with_overweight FAVC      FCVC       NCP       CAEC SMOKE  \\\n",
       "0                            yes  yes  2.938616  3.000000  Sometimes    no   \n",
       "1                            yes  yes  2.000000  1.000000  Sometimes    no   \n",
       "2                            yes  yes  3.000000  3.000000  Sometimes    no   \n",
       "3                            yes  yes  2.000000  2.977909  Sometimes    no   \n",
       "4                            yes  yes  3.000000  3.000000  Sometimes    no   \n",
       "\n",
       "       CH2O SCC       FAF       TUE       CALC                 MTRANS  \n",
       "0  2.825629  no  0.855400  0.000000  Sometimes  Public_Transportation  \n",
       "1  3.000000  no  1.000000  0.000000  Sometimes  Public_Transportation  \n",
       "2  2.621877  no  0.000000  0.250502  Sometimes  Public_Transportation  \n",
       "3  2.786417  no  0.094851  0.000000  Sometimes  Public_Transportation  \n",
       "4  2.653531  no  0.000000  0.741069  Sometimes  Public_Transportation  "
      ]
     },
     "execution_count": 15,
     "metadata": {},
     "output_type": "execute_result"
    }
   ],
   "source": [
    "test = pd.read_csv(r\"/kaggle/input/playground-series-s4e2/test.csv\")\n",
    "test.head()"
   ]
  },
  {
   "cell_type": "code",
   "execution_count": 16,
   "id": "a2628d5c",
   "metadata": {
    "execution": {
     "iopub.execute_input": "2025-06-13T00:19:15.635505Z",
     "iopub.status.busy": "2025-06-13T00:19:15.635133Z",
     "iopub.status.idle": "2025-06-13T00:19:15.640690Z",
     "shell.execute_reply": "2025-06-13T00:19:15.639758Z"
    },
    "papermill": {
     "duration": 0.016223,
     "end_time": "2025-06-13T00:19:15.642767",
     "exception": false,
     "start_time": "2025-06-13T00:19:15.626544",
     "status": "completed"
    },
    "tags": []
   },
   "outputs": [],
   "source": [
    "obj_test = test.select_dtypes(include = 'object')"
   ]
  },
  {
   "cell_type": "code",
   "execution_count": 17,
   "id": "1eb0fd10",
   "metadata": {
    "execution": {
     "iopub.execute_input": "2025-06-13T00:19:15.667922Z",
     "iopub.status.busy": "2025-06-13T00:19:15.667515Z",
     "iopub.status.idle": "2025-06-13T00:19:15.703302Z",
     "shell.execute_reply": "2025-06-13T00:19:15.702373Z"
    },
    "papermill": {
     "duration": 0.047044,
     "end_time": "2025-06-13T00:19:15.705031",
     "exception": false,
     "start_time": "2025-06-13T00:19:15.657987",
     "status": "completed"
    },
    "tags": []
   },
   "outputs": [],
   "source": [
    "for col in obj_test.columns:\n",
    "    test[col] = la.fit_transform(test[col])\n"
   ]
  },
  {
   "cell_type": "code",
   "execution_count": 18,
   "id": "6b29af85",
   "metadata": {
    "execution": {
     "iopub.execute_input": "2025-06-13T00:19:15.722018Z",
     "iopub.status.busy": "2025-06-13T00:19:15.721717Z",
     "iopub.status.idle": "2025-06-13T00:19:15.726282Z",
     "shell.execute_reply": "2025-06-13T00:19:15.725220Z"
    },
    "papermill": {
     "duration": 0.01499,
     "end_time": "2025-06-13T00:19:15.728197",
     "exception": false,
     "start_time": "2025-06-13T00:19:15.713207",
     "status": "completed"
    },
    "tags": []
   },
   "outputs": [],
   "source": [
    "scaler = StandardScaler()"
   ]
  },
  {
   "cell_type": "code",
   "execution_count": 19,
   "id": "9e24f85f",
   "metadata": {
    "execution": {
     "iopub.execute_input": "2025-06-13T00:19:15.751413Z",
     "iopub.status.busy": "2025-06-13T00:19:15.750990Z",
     "iopub.status.idle": "2025-06-13T00:19:15.778829Z",
     "shell.execute_reply": "2025-06-13T00:19:15.777674Z"
    },
    "papermill": {
     "duration": 0.039001,
     "end_time": "2025-06-13T00:19:15.780818",
     "exception": false,
     "start_time": "2025-06-13T00:19:15.741817",
     "status": "completed"
    },
    "tags": []
   },
   "outputs": [],
   "source": [
    "scal1 = train[['Age']]\n",
    "scal2 = train[['Weight']]\n",
    "\n",
    "train['Age'] = scaler.fit_transform(scal1)\n",
    "train['Weight'] = scaler.fit_transform(scal2)"
   ]
  },
  {
   "cell_type": "code",
   "execution_count": 20,
   "id": "742ae8b9",
   "metadata": {
    "execution": {
     "iopub.execute_input": "2025-06-13T00:19:15.797427Z",
     "iopub.status.busy": "2025-06-13T00:19:15.797005Z",
     "iopub.status.idle": "2025-06-13T00:19:15.812408Z",
     "shell.execute_reply": "2025-06-13T00:19:15.811285Z"
    },
    "papermill": {
     "duration": 0.025896,
     "end_time": "2025-06-13T00:19:15.814156",
     "exception": false,
     "start_time": "2025-06-13T00:19:15.788260",
     "status": "completed"
    },
    "tags": []
   },
   "outputs": [],
   "source": [
    "scal1 = test[['Age']]\n",
    "scal2 = test[['Weight']]\n",
    "\n",
    "test['Age'] = scaler.fit_transform(scal1)\n",
    "test['Weight'] = scaler.fit_transform(scal2)"
   ]
  },
  {
   "cell_type": "code",
   "execution_count": 21,
   "id": "49cbe884",
   "metadata": {
    "execution": {
     "iopub.execute_input": "2025-06-13T00:19:15.832268Z",
     "iopub.status.busy": "2025-06-13T00:19:15.831796Z",
     "iopub.status.idle": "2025-06-13T00:19:15.853901Z",
     "shell.execute_reply": "2025-06-13T00:19:15.852825Z"
    },
    "papermill": {
     "duration": 0.033643,
     "end_time": "2025-06-13T00:19:15.855463",
     "exception": false,
     "start_time": "2025-06-13T00:19:15.821820",
     "status": "completed"
    },
    "tags": []
   },
   "outputs": [
    {
     "data": {
      "text/html": [
       "<div>\n",
       "<style scoped>\n",
       "    .dataframe tbody tr th:only-of-type {\n",
       "        vertical-align: middle;\n",
       "    }\n",
       "\n",
       "    .dataframe tbody tr th {\n",
       "        vertical-align: top;\n",
       "    }\n",
       "\n",
       "    .dataframe thead th {\n",
       "        text-align: right;\n",
       "    }\n",
       "</style>\n",
       "<table border=\"1\" class=\"dataframe\">\n",
       "  <thead>\n",
       "    <tr style=\"text-align: right;\">\n",
       "      <th></th>\n",
       "      <th>id</th>\n",
       "      <th>Gender</th>\n",
       "      <th>Age</th>\n",
       "      <th>Height</th>\n",
       "      <th>Weight</th>\n",
       "      <th>family_history_with_overweight</th>\n",
       "      <th>FAVC</th>\n",
       "      <th>FCVC</th>\n",
       "      <th>NCP</th>\n",
       "      <th>CAEC</th>\n",
       "      <th>SMOKE</th>\n",
       "      <th>CH2O</th>\n",
       "      <th>SCC</th>\n",
       "      <th>FAF</th>\n",
       "      <th>TUE</th>\n",
       "      <th>CALC</th>\n",
       "      <th>MTRANS</th>\n",
       "    </tr>\n",
       "  </thead>\n",
       "  <tbody>\n",
       "    <tr>\n",
       "      <th>0</th>\n",
       "      <td>20758</td>\n",
       "      <td>1</td>\n",
       "      <td>0.508163</td>\n",
       "      <td>1.848294</td>\n",
       "      <td>1.273786</td>\n",
       "      <td>1</td>\n",
       "      <td>1</td>\n",
       "      <td>2.938616</td>\n",
       "      <td>3.000000</td>\n",
       "      <td>2</td>\n",
       "      <td>0</td>\n",
       "      <td>2.825629</td>\n",
       "      <td>0</td>\n",
       "      <td>0.855400</td>\n",
       "      <td>0.000000</td>\n",
       "      <td>2</td>\n",
       "      <td>3</td>\n",
       "    </tr>\n",
       "    <tr>\n",
       "      <th>1</th>\n",
       "      <td>20759</td>\n",
       "      <td>0</td>\n",
       "      <td>-0.509128</td>\n",
       "      <td>1.600000</td>\n",
       "      <td>-0.818988</td>\n",
       "      <td>1</td>\n",
       "      <td>1</td>\n",
       "      <td>2.000000</td>\n",
       "      <td>1.000000</td>\n",
       "      <td>2</td>\n",
       "      <td>0</td>\n",
       "      <td>3.000000</td>\n",
       "      <td>0</td>\n",
       "      <td>1.000000</td>\n",
       "      <td>0.000000</td>\n",
       "      <td>2</td>\n",
       "      <td>3</td>\n",
       "    </tr>\n",
       "    <tr>\n",
       "      <th>2</th>\n",
       "      <td>20760</td>\n",
       "      <td>0</td>\n",
       "      <td>0.353000</td>\n",
       "      <td>1.643355</td>\n",
       "      <td>0.927432</td>\n",
       "      <td>1</td>\n",
       "      <td>1</td>\n",
       "      <td>3.000000</td>\n",
       "      <td>3.000000</td>\n",
       "      <td>2</td>\n",
       "      <td>0</td>\n",
       "      <td>2.621877</td>\n",
       "      <td>0</td>\n",
       "      <td>0.000000</td>\n",
       "      <td>0.250502</td>\n",
       "      <td>2</td>\n",
       "      <td>3</td>\n",
       "    </tr>\n",
       "    <tr>\n",
       "      <th>3</th>\n",
       "      <td>20761</td>\n",
       "      <td>1</td>\n",
       "      <td>-0.512705</td>\n",
       "      <td>1.553127</td>\n",
       "      <td>0.623672</td>\n",
       "      <td>1</td>\n",
       "      <td>1</td>\n",
       "      <td>2.000000</td>\n",
       "      <td>2.977909</td>\n",
       "      <td>2</td>\n",
       "      <td>0</td>\n",
       "      <td>2.786417</td>\n",
       "      <td>0</td>\n",
       "      <td>0.094851</td>\n",
       "      <td>0.000000</td>\n",
       "      <td>2</td>\n",
       "      <td>3</td>\n",
       "    </tr>\n",
       "    <tr>\n",
       "      <th>4</th>\n",
       "      <td>20762</td>\n",
       "      <td>0</td>\n",
       "      <td>0.353000</td>\n",
       "      <td>1.627396</td>\n",
       "      <td>0.668336</td>\n",
       "      <td>1</td>\n",
       "      <td>1</td>\n",
       "      <td>3.000000</td>\n",
       "      <td>3.000000</td>\n",
       "      <td>2</td>\n",
       "      <td>0</td>\n",
       "      <td>2.653531</td>\n",
       "      <td>0</td>\n",
       "      <td>0.000000</td>\n",
       "      <td>0.741069</td>\n",
       "      <td>2</td>\n",
       "      <td>3</td>\n",
       "    </tr>\n",
       "  </tbody>\n",
       "</table>\n",
       "</div>"
      ],
      "text/plain": [
       "      id  Gender       Age    Height    Weight  \\\n",
       "0  20758       1  0.508163  1.848294  1.273786   \n",
       "1  20759       0 -0.509128  1.600000 -0.818988   \n",
       "2  20760       0  0.353000  1.643355  0.927432   \n",
       "3  20761       1 -0.512705  1.553127  0.623672   \n",
       "4  20762       0  0.353000  1.627396  0.668336   \n",
       "\n",
       "   family_history_with_overweight  FAVC      FCVC       NCP  CAEC  SMOKE  \\\n",
       "0                               1     1  2.938616  3.000000     2      0   \n",
       "1                               1     1  2.000000  1.000000     2      0   \n",
       "2                               1     1  3.000000  3.000000     2      0   \n",
       "3                               1     1  2.000000  2.977909     2      0   \n",
       "4                               1     1  3.000000  3.000000     2      0   \n",
       "\n",
       "       CH2O  SCC       FAF       TUE  CALC  MTRANS  \n",
       "0  2.825629    0  0.855400  0.000000     2       3  \n",
       "1  3.000000    0  1.000000  0.000000     2       3  \n",
       "2  2.621877    0  0.000000  0.250502     2       3  \n",
       "3  2.786417    0  0.094851  0.000000     2       3  \n",
       "4  2.653531    0  0.000000  0.741069     2       3  "
      ]
     },
     "execution_count": 21,
     "metadata": {},
     "output_type": "execute_result"
    }
   ],
   "source": [
    "test.head()"
   ]
  },
  {
   "cell_type": "code",
   "execution_count": null,
   "id": "06981808",
   "metadata": {
    "papermill": {
     "duration": 0.007144,
     "end_time": "2025-06-13T00:19:15.870405",
     "exception": false,
     "start_time": "2025-06-13T00:19:15.863261",
     "status": "completed"
    },
    "tags": []
   },
   "outputs": [],
   "source": []
  },
  {
   "cell_type": "code",
   "execution_count": 22,
   "id": "93a0c45b",
   "metadata": {
    "execution": {
     "iopub.execute_input": "2025-06-13T00:19:15.886741Z",
     "iopub.status.busy": "2025-06-13T00:19:15.886454Z",
     "iopub.status.idle": "2025-06-13T00:19:15.897299Z",
     "shell.execute_reply": "2025-06-13T00:19:15.896401Z"
    },
    "papermill": {
     "duration": 0.020956,
     "end_time": "2025-06-13T00:19:15.899013",
     "exception": false,
     "start_time": "2025-06-13T00:19:15.878057",
     "status": "completed"
    },
    "tags": []
   },
   "outputs": [],
   "source": [
    "X = train.drop(['id','NObeyesdad'] , axis = 1)\n",
    "y = train['NObeyesdad']"
   ]
  },
  {
   "cell_type": "code",
   "execution_count": 23,
   "id": "c4a16c4d",
   "metadata": {
    "execution": {
     "iopub.execute_input": "2025-06-13T00:19:15.916412Z",
     "iopub.status.busy": "2025-06-13T00:19:15.916074Z",
     "iopub.status.idle": "2025-06-13T00:19:15.931112Z",
     "shell.execute_reply": "2025-06-13T00:19:15.930030Z"
    },
    "papermill": {
     "duration": 0.025513,
     "end_time": "2025-06-13T00:19:15.932827",
     "exception": false,
     "start_time": "2025-06-13T00:19:15.907314",
     "status": "completed"
    },
    "tags": []
   },
   "outputs": [],
   "source": [
    "X_train , X_test , y_train , y_test = train_test_split(X , y , test_size = .2 , random_state = 42)"
   ]
  },
  {
   "cell_type": "code",
   "execution_count": 24,
   "id": "5083889b",
   "metadata": {
    "execution": {
     "iopub.execute_input": "2025-06-13T00:19:15.949934Z",
     "iopub.status.busy": "2025-06-13T00:19:15.949227Z",
     "iopub.status.idle": "2025-06-13T00:19:15.954304Z",
     "shell.execute_reply": "2025-06-13T00:19:15.953422Z"
    },
    "papermill": {
     "duration": 0.015282,
     "end_time": "2025-06-13T00:19:15.955972",
     "exception": false,
     "start_time": "2025-06-13T00:19:15.940690",
     "status": "completed"
    },
    "tags": []
   },
   "outputs": [],
   "source": [
    "model1 = LogisticRegression()\n",
    "model2 = SVC()\n",
    "model3 = RandomForestClassifier()\n",
    "model4 = GradientBoostingClassifier(learning_rate = 0.1, max_depth = 3, n_estimators = 200)\n",
    "model5 = GaussianNB()\n",
    "model6 = DecisionTreeClassifier()"
   ]
  },
  {
   "cell_type": "code",
   "execution_count": 25,
   "id": "7721ea12",
   "metadata": {
    "execution": {
     "iopub.execute_input": "2025-06-13T00:19:15.974473Z",
     "iopub.status.busy": "2025-06-13T00:19:15.973529Z",
     "iopub.status.idle": "2025-06-13T00:19:15.979322Z",
     "shell.execute_reply": "2025-06-13T00:19:15.978417Z"
    },
    "papermill": {
     "duration": 0.017038,
     "end_time": "2025-06-13T00:19:15.981232",
     "exception": false,
     "start_time": "2025-06-13T00:19:15.964194",
     "status": "completed"
    },
    "tags": []
   },
   "outputs": [],
   "source": [
    "def pred(model):\n",
    "    model.fit(X_train , y_train)\n",
    "    pre = model.predict(X_test)\n",
    "    print(classification_report(y_test , pre))"
   ]
  },
  {
   "cell_type": "code",
   "execution_count": 26,
   "id": "a9485c85",
   "metadata": {
    "execution": {
     "iopub.execute_input": "2025-06-13T00:19:15.998763Z",
     "iopub.status.busy": "2025-06-13T00:19:15.998454Z",
     "iopub.status.idle": "2025-06-13T00:19:17.387935Z",
     "shell.execute_reply": "2025-06-13T00:19:17.387102Z"
    },
    "papermill": {
     "duration": 1.400606,
     "end_time": "2025-06-13T00:19:17.390307",
     "exception": false,
     "start_time": "2025-06-13T00:19:15.989701",
     "status": "completed"
    },
    "tags": []
   },
   "outputs": [
    {
     "name": "stdout",
     "output_type": "stream",
     "text": [
      "              precision    recall  f1-score   support\n",
      "\n",
      "           0       0.78      0.86      0.82       524\n",
      "           1       0.70      0.67      0.69       626\n",
      "           2       0.77      0.79      0.78       543\n",
      "           3       0.95      0.97      0.96       657\n",
      "           4       0.99      1.00      1.00       804\n",
      "           5       0.63      0.59      0.61       484\n",
      "           6       0.64      0.61      0.62       514\n",
      "\n",
      "    accuracy                           0.80      4152\n",
      "   macro avg       0.78      0.78      0.78      4152\n",
      "weighted avg       0.80      0.80      0.80      4152\n",
      "\n"
     ]
    }
   ],
   "source": [
    "pred(model1)"
   ]
  },
  {
   "cell_type": "code",
   "execution_count": 27,
   "id": "33aa5e5f",
   "metadata": {
    "execution": {
     "iopub.execute_input": "2025-06-13T00:19:17.418932Z",
     "iopub.status.busy": "2025-06-13T00:19:17.418599Z",
     "iopub.status.idle": "2025-06-13T00:19:23.523936Z",
     "shell.execute_reply": "2025-06-13T00:19:23.522912Z"
    },
    "papermill": {
     "duration": 6.121528,
     "end_time": "2025-06-13T00:19:23.525659",
     "exception": false,
     "start_time": "2025-06-13T00:19:17.404131",
     "status": "completed"
    },
    "tags": []
   },
   "outputs": [
    {
     "name": "stdout",
     "output_type": "stream",
     "text": [
      "              precision    recall  f1-score   support\n",
      "\n",
      "           0       0.87      0.94      0.90       524\n",
      "           1       0.81      0.77      0.79       626\n",
      "           2       0.82      0.84      0.83       543\n",
      "           3       0.97      0.97      0.97       657\n",
      "           4       1.00      1.00      1.00       804\n",
      "           5       0.69      0.66      0.67       484\n",
      "           6       0.70      0.69      0.69       514\n",
      "\n",
      "    accuracy                           0.85      4152\n",
      "   macro avg       0.83      0.84      0.84      4152\n",
      "weighted avg       0.85      0.85      0.85      4152\n",
      "\n"
     ]
    }
   ],
   "source": [
    "pred(model2)"
   ]
  },
  {
   "cell_type": "code",
   "execution_count": 28,
   "id": "52ccf65a",
   "metadata": {
    "execution": {
     "iopub.execute_input": "2025-06-13T00:19:23.542695Z",
     "iopub.status.busy": "2025-06-13T00:19:23.542337Z",
     "iopub.status.idle": "2025-06-13T00:19:26.127568Z",
     "shell.execute_reply": "2025-06-13T00:19:26.126671Z"
    },
    "papermill": {
     "duration": 2.595656,
     "end_time": "2025-06-13T00:19:26.129227",
     "exception": false,
     "start_time": "2025-06-13T00:19:23.533571",
     "status": "completed"
    },
    "tags": []
   },
   "outputs": [
    {
     "name": "stdout",
     "output_type": "stream",
     "text": [
      "              precision    recall  f1-score   support\n",
      "\n",
      "           0       0.95      0.92      0.93       524\n",
      "           1       0.84      0.88      0.86       626\n",
      "           2       0.89      0.87      0.88       543\n",
      "           3       0.97      0.98      0.97       657\n",
      "           4       1.00      1.00      1.00       804\n",
      "           5       0.76      0.75      0.75       484\n",
      "           6       0.79      0.78      0.78       514\n",
      "\n",
      "    accuracy                           0.89      4152\n",
      "   macro avg       0.88      0.88      0.88      4152\n",
      "weighted avg       0.89      0.89      0.89      4152\n",
      "\n"
     ]
    }
   ],
   "source": [
    "pred(model3)"
   ]
  },
  {
   "cell_type": "code",
   "execution_count": 29,
   "id": "14776441",
   "metadata": {
    "execution": {
     "iopub.execute_input": "2025-06-13T00:19:26.146094Z",
     "iopub.status.busy": "2025-06-13T00:19:26.145761Z",
     "iopub.status.idle": "2025-06-13T00:20:13.343195Z",
     "shell.execute_reply": "2025-06-13T00:20:13.342164Z"
    },
    "papermill": {
     "duration": 47.215278,
     "end_time": "2025-06-13T00:20:13.352486",
     "exception": false,
     "start_time": "2025-06-13T00:19:26.137208",
     "status": "completed"
    },
    "tags": []
   },
   "outputs": [
    {
     "name": "stdout",
     "output_type": "stream",
     "text": [
      "              precision    recall  f1-score   support\n",
      "\n",
      "           0       0.95      0.94      0.94       524\n",
      "           1       0.88      0.89      0.89       626\n",
      "           2       0.88      0.88      0.88       543\n",
      "           3       0.98      0.98      0.98       657\n",
      "           4       1.00      1.00      1.00       804\n",
      "           5       0.78      0.79      0.78       484\n",
      "           6       0.80      0.79      0.80       514\n",
      "\n",
      "    accuracy                           0.91      4152\n",
      "   macro avg       0.89      0.89      0.89      4152\n",
      "weighted avg       0.91      0.91      0.91      4152\n",
      "\n"
     ]
    }
   ],
   "source": [
    "pred(model4)"
   ]
  },
  {
   "cell_type": "code",
   "execution_count": 30,
   "id": "cdadcce9",
   "metadata": {
    "execution": {
     "iopub.execute_input": "2025-06-13T00:20:13.371072Z",
     "iopub.status.busy": "2025-06-13T00:20:13.370797Z",
     "iopub.status.idle": "2025-06-13T00:20:13.413563Z",
     "shell.execute_reply": "2025-06-13T00:20:13.412173Z"
    },
    "papermill": {
     "duration": 0.053936,
     "end_time": "2025-06-13T00:20:13.415402",
     "exception": false,
     "start_time": "2025-06-13T00:20:13.361466",
     "status": "completed"
    },
    "tags": []
   },
   "outputs": [
    {
     "name": "stdout",
     "output_type": "stream",
     "text": [
      "              precision    recall  f1-score   support\n",
      "\n",
      "           0       0.70      0.85      0.77       524\n",
      "           1       0.65      0.47      0.54       626\n",
      "           2       0.37      0.61      0.46       543\n",
      "           3       0.71      0.93      0.81       657\n",
      "           4       0.96      1.00      0.98       804\n",
      "           5       0.61      0.30      0.40       484\n",
      "           6       0.53      0.24      0.33       514\n",
      "\n",
      "    accuracy                           0.66      4152\n",
      "   macro avg       0.65      0.63      0.61      4152\n",
      "weighted avg       0.67      0.66      0.64      4152\n",
      "\n"
     ]
    }
   ],
   "source": [
    "pred(model5)"
   ]
  },
  {
   "cell_type": "code",
   "execution_count": 31,
   "id": "452882f3",
   "metadata": {
    "execution": {
     "iopub.execute_input": "2025-06-13T00:20:13.433899Z",
     "iopub.status.busy": "2025-06-13T00:20:13.433211Z",
     "iopub.status.idle": "2025-06-13T00:20:13.568315Z",
     "shell.execute_reply": "2025-06-13T00:20:13.566664Z"
    },
    "papermill": {
     "duration": 0.146897,
     "end_time": "2025-06-13T00:20:13.570162",
     "exception": false,
     "start_time": "2025-06-13T00:20:13.423265",
     "status": "completed"
    },
    "tags": []
   },
   "outputs": [
    {
     "name": "stdout",
     "output_type": "stream",
     "text": [
      "              precision    recall  f1-score   support\n",
      "\n",
      "           0       0.89      0.89      0.89       524\n",
      "           1       0.79      0.76      0.78       626\n",
      "           2       0.84      0.83      0.84       543\n",
      "           3       0.95      0.96      0.96       657\n",
      "           4       1.00      1.00      1.00       804\n",
      "           5       0.65      0.67      0.66       484\n",
      "           6       0.70      0.71      0.71       514\n",
      "\n",
      "    accuracy                           0.85      4152\n",
      "   macro avg       0.83      0.83      0.83      4152\n",
      "weighted avg       0.85      0.85      0.85      4152\n",
      "\n"
     ]
    }
   ],
   "source": [
    "pred(model6)"
   ]
  },
  {
   "cell_type": "code",
   "execution_count": 32,
   "id": "4a6cae15",
   "metadata": {
    "execution": {
     "iopub.execute_input": "2025-06-13T00:20:13.658613Z",
     "iopub.status.busy": "2025-06-13T00:20:13.658225Z",
     "iopub.status.idle": "2025-06-13T00:20:13.665593Z",
     "shell.execute_reply": "2025-06-13T00:20:13.664609Z"
    },
    "papermill": {
     "duration": 0.088869,
     "end_time": "2025-06-13T00:20:13.667086",
     "exception": false,
     "start_time": "2025-06-13T00:20:13.578217",
     "status": "completed"
    },
    "tags": []
   },
   "outputs": [],
   "source": [
    "testx = test.drop('id' , axis = 1)"
   ]
  },
  {
   "cell_type": "code",
   "execution_count": 33,
   "id": "3aaf360b",
   "metadata": {
    "execution": {
     "iopub.execute_input": "2025-06-13T00:20:13.685401Z",
     "iopub.status.busy": "2025-06-13T00:20:13.685059Z",
     "iopub.status.idle": "2025-06-13T00:20:13.994796Z",
     "shell.execute_reply": "2025-06-13T00:20:13.993302Z"
    },
    "papermill": {
     "duration": 0.320813,
     "end_time": "2025-06-13T00:20:13.996817",
     "exception": false,
     "start_time": "2025-06-13T00:20:13.676004",
     "status": "completed"
    },
    "tags": []
   },
   "outputs": [],
   "source": [
    "prex = model4.predict(testx)"
   ]
  },
  {
   "cell_type": "code",
   "execution_count": 34,
   "id": "8475eef7",
   "metadata": {
    "execution": {
     "iopub.execute_input": "2025-06-13T00:20:14.017156Z",
     "iopub.status.busy": "2025-06-13T00:20:14.016815Z",
     "iopub.status.idle": "2025-06-13T00:20:14.023265Z",
     "shell.execute_reply": "2025-06-13T00:20:14.022252Z"
    },
    "papermill": {
     "duration": 0.017513,
     "end_time": "2025-06-13T00:20:14.024945",
     "exception": false,
     "start_time": "2025-06-13T00:20:14.007432",
     "status": "completed"
    },
    "tags": []
   },
   "outputs": [],
   "source": [
    "final_predicted_labels = label_encoders[target_col].inverse_transform(prex)\n",
    "\n",
    "submission = pd.DataFrame({'id': test['id'], \"NObeyesdad\": final_predicted_labels})"
   ]
  },
  {
   "cell_type": "code",
   "execution_count": 35,
   "id": "fd7f9c87",
   "metadata": {
    "execution": {
     "iopub.execute_input": "2025-06-13T00:20:14.042245Z",
     "iopub.status.busy": "2025-06-13T00:20:14.041942Z",
     "iopub.status.idle": "2025-06-13T00:20:14.051687Z",
     "shell.execute_reply": "2025-06-13T00:20:14.050758Z"
    },
    "papermill": {
     "duration": 0.020255,
     "end_time": "2025-06-13T00:20:14.053223",
     "exception": false,
     "start_time": "2025-06-13T00:20:14.032968",
     "status": "completed"
    },
    "tags": []
   },
   "outputs": [
    {
     "data": {
      "text/html": [
       "<div>\n",
       "<style scoped>\n",
       "    .dataframe tbody tr th:only-of-type {\n",
       "        vertical-align: middle;\n",
       "    }\n",
       "\n",
       "    .dataframe tbody tr th {\n",
       "        vertical-align: top;\n",
       "    }\n",
       "\n",
       "    .dataframe thead th {\n",
       "        text-align: right;\n",
       "    }\n",
       "</style>\n",
       "<table border=\"1\" class=\"dataframe\">\n",
       "  <thead>\n",
       "    <tr style=\"text-align: right;\">\n",
       "      <th></th>\n",
       "      <th>id</th>\n",
       "      <th>NObeyesdad</th>\n",
       "    </tr>\n",
       "  </thead>\n",
       "  <tbody>\n",
       "    <tr>\n",
       "      <th>0</th>\n",
       "      <td>20758</td>\n",
       "      <td>Obesity_Type_II</td>\n",
       "    </tr>\n",
       "    <tr>\n",
       "      <th>1</th>\n",
       "      <td>20759</td>\n",
       "      <td>Overweight_Level_I</td>\n",
       "    </tr>\n",
       "    <tr>\n",
       "      <th>2</th>\n",
       "      <td>20760</td>\n",
       "      <td>Obesity_Type_III</td>\n",
       "    </tr>\n",
       "    <tr>\n",
       "      <th>3</th>\n",
       "      <td>20761</td>\n",
       "      <td>Obesity_Type_I</td>\n",
       "    </tr>\n",
       "    <tr>\n",
       "      <th>4</th>\n",
       "      <td>20762</td>\n",
       "      <td>Obesity_Type_III</td>\n",
       "    </tr>\n",
       "    <tr>\n",
       "      <th>...</th>\n",
       "      <td>...</td>\n",
       "      <td>...</td>\n",
       "    </tr>\n",
       "    <tr>\n",
       "      <th>13835</th>\n",
       "      <td>34593</td>\n",
       "      <td>Overweight_Level_II</td>\n",
       "    </tr>\n",
       "    <tr>\n",
       "      <th>13836</th>\n",
       "      <td>34594</td>\n",
       "      <td>Normal_Weight</td>\n",
       "    </tr>\n",
       "    <tr>\n",
       "      <th>13837</th>\n",
       "      <td>34595</td>\n",
       "      <td>Insufficient_Weight</td>\n",
       "    </tr>\n",
       "    <tr>\n",
       "      <th>13838</th>\n",
       "      <td>34596</td>\n",
       "      <td>Normal_Weight</td>\n",
       "    </tr>\n",
       "    <tr>\n",
       "      <th>13839</th>\n",
       "      <td>34597</td>\n",
       "      <td>Obesity_Type_II</td>\n",
       "    </tr>\n",
       "  </tbody>\n",
       "</table>\n",
       "<p>13840 rows × 2 columns</p>\n",
       "</div>"
      ],
      "text/plain": [
       "          id           NObeyesdad\n",
       "0      20758      Obesity_Type_II\n",
       "1      20759   Overweight_Level_I\n",
       "2      20760     Obesity_Type_III\n",
       "3      20761       Obesity_Type_I\n",
       "4      20762     Obesity_Type_III\n",
       "...      ...                  ...\n",
       "13835  34593  Overweight_Level_II\n",
       "13836  34594        Normal_Weight\n",
       "13837  34595  Insufficient_Weight\n",
       "13838  34596        Normal_Weight\n",
       "13839  34597      Obesity_Type_II\n",
       "\n",
       "[13840 rows x 2 columns]"
      ]
     },
     "execution_count": 35,
     "metadata": {},
     "output_type": "execute_result"
    }
   ],
   "source": [
    "submission"
   ]
  }
 ],
 "metadata": {
  "kaggle": {
   "accelerator": "none",
   "dataSources": [
    {
     "databundleVersionId": 10950255,
     "sourceId": 68479,
     "sourceType": "competition"
    }
   ],
   "dockerImageVersionId": 31040,
   "isGpuEnabled": false,
   "isInternetEnabled": true,
   "language": "python",
   "sourceType": "notebook"
  },
  "kernelspec": {
   "display_name": "Python 3",
   "language": "python",
   "name": "python3"
  },
  "language_info": {
   "codemirror_mode": {
    "name": "ipython",
    "version": 3
   },
   "file_extension": ".py",
   "mimetype": "text/x-python",
   "name": "python",
   "nbconvert_exporter": "python",
   "pygments_lexer": "ipython3",
   "version": "3.11.11"
  },
  "papermill": {
   "default_parameters": {},
   "duration": 70.708459,
   "end_time": "2025-06-13T00:20:14.885006",
   "environment_variables": {},
   "exception": null,
   "input_path": "__notebook__.ipynb",
   "output_path": "__notebook__.ipynb",
   "parameters": {},
   "start_time": "2025-06-13T00:19:04.176547",
   "version": "2.6.0"
  }
 },
 "nbformat": 4,
 "nbformat_minor": 5
}
